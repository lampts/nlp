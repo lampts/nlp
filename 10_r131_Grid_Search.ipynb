{
 "cells": [
  {
   "cell_type": "code",
   "execution_count": 1,
   "metadata": {
    "collapsed": false
   },
   "outputs": [
    {
     "name": "stderr",
     "output_type": "stream",
     "text": [
      "WARNING (theano.configdefaults): g++ not detected ! Theano will be unable to execute optimized C-implementations (for both CPU and GPU) and will default to Python implementations. Performance will be severely degraded. To remove this warning, set Theano flags cxx to an empty string.\n",
      "WARNING:theano.configdefaults:g++ not detected ! Theano will be unable to execute optimized C-implementations (for both CPU and GPU) and will default to Python implementations. Performance will be severely degraded. To remove this warning, set Theano flags cxx to an empty string.\n"
     ]
    }
   ],
   "source": [
    "import logging\n",
    "import numpy as np  \n",
    "from gensim.models import Doc2Vec\n",
    "import os\n",
    "import codecs\n",
    "\n",
    "logging.basicConfig(format='%(asctime)s : %(levelname)s : %(message)s',level=logging.INFO)"
   ]
  },
  {
   "cell_type": "code",
   "execution_count": 2,
   "metadata": {
    "collapsed": false
   },
   "outputs": [
    {
     "name": "stderr",
     "output_type": "stream",
     "text": [
      "DEBUG:root:test\n"
     ]
    }
   ],
   "source": [
    "logger = logging.getLogger()\n",
    "logger.setLevel(logging.DEBUG)\n",
    "logging.debug(\"test\")"
   ]
  },
  {
   "cell_type": "code",
   "execution_count": 3,
   "metadata": {
    "collapsed": false
   },
   "outputs": [
    {
     "name": "stderr",
     "output_type": "stream",
     "text": [
      "INFO:gensim.utils:loading Doc2Vec object from /home/laampt/orm/10K/5K/model/vinews_tok_doc585K_dm_5ns_200features_2minwords_8context_e5_casen_cpu_3epo_alpha_r131\n",
      "INFO:gensim.utils:loading docvecs recursively from /home/laampt/orm/10K/5K/model/vinews_tok_doc585K_dm_5ns_200features_2minwords_8context_e5_casen_cpu_3epo_alpha_r131.docvecs.* with mmap=None\n",
      "INFO:gensim.utils:loading doctag_syn0 from /home/laampt/orm/10K/5K/model/vinews_tok_doc585K_dm_5ns_200features_2minwords_8context_e5_casen_cpu_3epo_alpha_r131.docvecs.doctag_syn0.npy with mmap=None\n",
      "INFO:gensim.utils:loading syn1neg from /home/laampt/orm/10K/5K/model/vinews_tok_doc585K_dm_5ns_200features_2minwords_8context_e5_casen_cpu_3epo_alpha_r131.syn1neg.npy with mmap=None\n",
      "INFO:gensim.utils:loading syn0 from /home/laampt/orm/10K/5K/model/vinews_tok_doc585K_dm_5ns_200features_2minwords_8context_e5_casen_cpu_3epo_alpha_r131.syn0.npy with mmap=None\n",
      "INFO:gensim.utils:setting ignored attribute syn0norm to None\n",
      "INFO:gensim.utils:setting ignored attribute cum_table to None\n"
     ]
    }
   ],
   "source": [
    "model = Doc2Vec.load(\"/home/laampt/orm/10K/5K/model/vinews_tok_doc585K_dm_5ns_200features_2minwords_8context_e5_casen_cpu_3epo_alpha_r131\")"
   ]
  },
  {
   "cell_type": "code",
   "execution_count": 4,
   "metadata": {
    "collapsed": false
   },
   "outputs": [
    {
     "name": "stdout",
     "output_type": "stream",
     "text": [
      "Doc2Vec(dm/s,d200,n5,w8,mc2,s1e-05,t4)\n"
     ]
    }
   ],
   "source": [
    "print model"
   ]
  },
  {
   "cell_type": "code",
   "execution_count": 5,
   "metadata": {
    "collapsed": false
   },
   "outputs": [
    {
     "name": "stderr",
     "output_type": "stream",
     "text": [
      "INFO:gensim.models.word2vec:precomputing L2-norms of word weight vectors\n"
     ]
    }
   ],
   "source": [
    "model.init_sims(replace=True)"
   ]
  },
  {
   "cell_type": "markdown",
   "metadata": {},
   "source": [
    "## Data"
   ]
  },
  {
   "cell_type": "code",
   "execution_count": 6,
   "metadata": {
    "collapsed": false
   },
   "outputs": [
    {
     "name": "stdout",
     "output_type": "stream",
     "text": [
      "Pos/Neg: 30000/30000\n"
     ]
    }
   ],
   "source": [
    "N_NUM = 30000\n",
    "pos_posts = []\n",
    "for i in range(N_NUM):\n",
    "    v = model.docvecs[\"r131_PD_{}\".format(i)]\n",
    "    size = v.shape\n",
    "    if size[0] == 200: \n",
    "        pos_posts.append(v)\n",
    "    else:\n",
    "        pass\n",
    "    \n",
    "neg_posts = []\n",
    "\n",
    "for i in range(N_NUM):\n",
    "    if i % 3 == 0:\n",
    "        v = model.docvecs[\"r131_TN_{}\".format(i)]\n",
    "    elif i % 3 == 1:\n",
    "        v = model.docvecs[\"r131_VN_{}\".format(i)]\n",
    "    else:\n",
    "        v = model.docvecs[\"r131_ZN_{}\".format(i)]\n",
    "    size = v.shape\n",
    "    if size[0] == 200: \n",
    "        neg_posts.append(v)\n",
    "    else:\n",
    "        pass\n",
    "print \"Pos/Neg: {}/{}\".format(len(pos_posts),len(neg_posts))"
   ]
  },
  {
   "cell_type": "code",
   "execution_count": 7,
   "metadata": {
    "collapsed": false
   },
   "outputs": [
    {
     "name": "stdout",
     "output_type": "stream",
     "text": [
      "TRAIN\n",
      "(50000, 200) (50000,)\n",
      "TEST \n",
      "(10000, 200) (10000,)\n"
     ]
    }
   ],
   "source": [
    "print \"TRAIN\"\n",
    "N_TRAIN = 25000\n",
    "X = np.vstack((np.array(pos_posts[:N_TRAIN]), np.array(neg_posts[:N_TRAIN])))\n",
    "y = np.hstack((np.ones(N_TRAIN), np.zeros(N_TRAIN)))\n",
    "print X.shape, y.shape\n",
    "\n",
    "print \"TEST \"\n",
    "X_test = np.vstack((np.array(pos_posts[N_TRAIN:]), np.array(neg_posts[N_TRAIN:])))\n",
    "y_test = np.hstack((np.ones(len(pos_posts) - N_TRAIN), np.zeros(len(neg_posts) - N_TRAIN)))\n",
    "print X_test.shape, y_test.shape"
   ]
  },
  {
   "cell_type": "markdown",
   "metadata": {},
   "source": [
    "## Grid Search"
   ]
  },
  {
   "cell_type": "code",
   "execution_count": 9,
   "metadata": {
    "collapsed": false
   },
   "outputs": [],
   "source": [
    "import itertools\n",
    "\n",
    "colors = [ii.strip() for ii in '#30a2da, #fc4f30, #e5ae38, #6d904f, #8b8b8b'.split(',')]\n",
    "colors += ['#' + ii.strip() for ii in '348ABD, A60628, 7A68A6, 467821,D55E00,  CC79A7, 56B4E9, 009E73, F0E442, 0072B2'.split(',')]\n",
    "markers = itertools.cycle([\"o\", \"D\"])\n",
    "colors = itertools.cycle(colors)"
   ]
  },
  {
   "cell_type": "code",
   "execution_count": 16,
   "metadata": {
    "collapsed": true
   },
   "outputs": [],
   "source": [
    "%matplotlib inline \n",
    "\n",
    "import matplotlib as mlp\n",
    "import matplotlib.pyplot as plt\n",
    "import numpy as np\n",
    "import pandas as pd\n",
    "import sklearn\n",
    "from sklearn import cross_validation\n",
    "from sklearn import datasets\n",
    "from sklearn import ensemble\n",
    "from sklearn import grid_search\n",
    "from sklearn.grid_search import GridSearchCV, RandomizedSearchCV\n",
    "from sklearn import metrics\n",
    "\n",
    "import numpy as np\n",
    "\n",
    "from time import time\n",
    "from operator import itemgetter\n",
    "from scipy.stats import randint as sp_randint\n",
    "\n",
    "plt.style.use('fivethirtyeight')"
   ]
  },
  {
   "cell_type": "markdown",
   "metadata": {},
   "source": [
    "> Random Forest"
   ]
  },
  {
   "cell_type": "code",
   "execution_count": 31,
   "metadata": {
    "collapsed": false
   },
   "outputs": [
    {
     "name": "stdout",
     "output_type": "stream",
     "text": [
      "GridSearchCV took 480.67 seconds for 8 candidate parameter settings.\n",
      "Model with rank: 1\n",
      "Mean validation score: 0.959 (std: 0.004)\n",
      "Parameters: {'n_estimators': 180}\n",
      "\n",
      "Model with rank: 2\n",
      "Mean validation score: 0.959 (std: 0.004)\n",
      "Parameters: {'n_estimators': 200}\n",
      "\n",
      "Model with rank: 3\n",
      "Mean validation score: 0.959 (std: 0.003)\n",
      "Parameters: {'n_estimators': 151}\n",
      "\n"
     ]
    }
   ],
   "source": [
    "import numpy as np\n",
    "\n",
    "from time import time\n",
    "from operator import itemgetter\n",
    "from scipy.stats import randint as sp_randint\n",
    "\n",
    "from sklearn.grid_search import GridSearchCV, RandomizedSearchCV\n",
    "from sklearn.datasets import load_digits\n",
    "from sklearn.ensemble import RandomForestClassifier\n",
    "\n",
    "# build a classifier\n",
    "clf = RandomForestClassifier()\n",
    "\n",
    "\n",
    "# Utility function to report best scores\n",
    "def report(grid_scores, n_top=3):\n",
    "    top_scores = sorted(grid_scores, key=itemgetter(1), reverse=True)[:n_top]\n",
    "    for i, score in enumerate(top_scores):\n",
    "        print(\"Model with rank: {0}\".format(i + 1))\n",
    "        print(\"Mean validation score: {0:.3f} (std: {1:.3f})\".format(\n",
    "              score.mean_validation_score,\n",
    "              np.std(score.cv_validation_scores)))\n",
    "        print(\"Parameters: {0}\".format(score.parameters))\n",
    "        print(\"\")\n",
    "\n",
    "\n",
    "# specify parameters and distributions to sample from\n",
    "param_grid = {\n",
    "                'n_estimators': [12, 23, 35,58,93,151,180,200]\n",
    "                }\n",
    "\n",
    "# param_dist = {\"max_depth\": [3, 5, None],\n",
    "#               \"max_features\": sp_randint(1, 15),\n",
    "#               \"min_samples_split\": sp_randint(1, 15),\n",
    "#               \"min_samples_leaf\": sp_randint(1, 15),\n",
    "#               \"bootstrap\": [True, False],\n",
    "#               \"criterion\": [\"gini\", \"entropy\"]}\n",
    "\n",
    "# run grid search\n",
    "grid_search = GridSearchCV(clf, param_grid=param_grid, n_jobs=4)\n",
    "start = time()\n",
    "grid_search.fit(X, y)\n",
    "\n",
    "print(\"GridSearchCV took %.2f seconds for %d candidate parameter settings.\"\n",
    "      % (time() - start, len(grid_search.grid_scores_)))\n",
    "report(grid_search.grid_scores_)"
   ]
  },
  {
   "cell_type": "code",
   "execution_count": 37,
   "metadata": {
    "collapsed": false
   },
   "outputs": [
    {
     "name": "stdout",
     "output_type": "stream",
     "text": [
      "[(12, 0.93889999999999996), (23, 0.94933999999999996), (35, 0.95321999999999996), (58, 0.9556), (93, 0.95662000000000003), (151, 0.95855999999999997), (180, 0.95898000000000005), (200, 0.95865999999999996)]\n"
     ]
    }
   ],
   "source": [
    "gs_scores = [(score.parameters['n_estimators'],score.mean_validation_score) for score in grid_search.grid_scores_]\n",
    "print gs_scores\n",
    "ns = [s[0] for s in gs_scores]\n",
    "ss = [s[1] for s in gs_scores]"
   ]
  },
  {
   "cell_type": "code",
   "execution_count": 38,
   "metadata": {
    "collapsed": false
   },
   "outputs": [
    {
     "data": {
      "image/png": "[encoded data removed]",
      "text/plain": [
       "<matplotlib.figure.Figure at 0x7f9b5e482750>"
      ]
     },
     "metadata": {},
     "output_type": "display_data"
    }
   ],
   "source": [
    "plt.figure(1, figsize=(8, 6))\n",
    "plt.clf()\n",
    "plt.plot(ns, ss, linewidth=2, color=next(colors))\n",
    "# plt.plot(gs_scores, \"b*-\")\n",
    "# plt.axis('tight')\n",
    "plt.xlabel('n_estimators')\n",
    "plt.ylabel('mean accuracy')\n",
    "# plt.legend(prop=dict(size=12))\n",
    "plt.show()"
   ]
  },
  {
   "cell_type": "code",
   "execution_count": 41,
   "metadata": {
    "collapsed": false
   },
   "outputs": [
    {
     "name": "stdout",
     "output_type": "stream",
     "text": [
      "GridSearchCV took 15.53 seconds for 8 candidate parameter settings.\n",
      "Model with rank: 1\n",
      "Mean validation score: 0.926 (std: 0.024)\n",
      "Parameters: {'C': 10}\n",
      "\n",
      "Model with rank: 2\n",
      "Mean validation score: 0.926 (std: 0.023)\n",
      "Parameters: {'C': 20}\n",
      "\n",
      "Model with rank: 3\n",
      "Mean validation score: 0.926 (std: 0.020)\n",
      "Parameters: {'C': 100}\n",
      "\n"
     ]
    }
   ],
   "source": [
    "from sklearn.linear_model import LogisticRegression\n",
    "clf = LogisticRegression()\n",
    "# specify parameters and distributions to sample from\n",
    "param_grid = {\n",
    "                'C': [0.001, 0.01, 0.1, 1,10,20,100,100]\n",
    "                }\n",
    "\n",
    "# param_dist = {\"max_depth\": [3, 5, None],\n",
    "#               \"max_features\": sp_randint(1, 15),\n",
    "#               \"min_samples_split\": sp_randint(1, 15),\n",
    "#               \"min_samples_leaf\": sp_randint(1, 15),\n",
    "#               \"bootstrap\": [True, False],\n",
    "#               \"criterion\": [\"gini\", \"entropy\"]}\n",
    "\n",
    "# run grid search\n",
    "grid_search = GridSearchCV(clf, param_grid=param_grid, n_jobs=4)\n",
    "start = time()\n",
    "grid_search.fit(X, y)\n",
    "\n",
    "print(\"GridSearchCV took %.2f seconds for %d candidate parameter settings.\"\n",
    "      % (time() - start, len(grid_search.grid_scores_)))\n",
    "report(grid_search.grid_scores_)"
   ]
  },
  {
   "cell_type": "code",
   "execution_count": 45,
   "metadata": {
    "collapsed": false
   },
   "outputs": [
    {
     "name": "stdout",
     "output_type": "stream",
     "text": [
      "[(0.001, 0.81686000000000003), (0.01, 0.82974000000000003), (0.1, 0.88339999999999996), (1, 0.91705999999999999), (10, 0.92612000000000005), (20, 0.92588000000000004), (100, 0.92571999999999999), (100, 0.92571999999999999)]\n"
     ]
    },
    {
     "data": {
      "image/png": "[encoded data removed]",
      "text/plain": [
       "<matplotlib.figure.Figure at 0x7f9b5ca83550>"
      ]
     },
     "metadata": {},
     "output_type": "display_data"
    }
   ],
   "source": [
    "gs_scores = [(score.parameters['C'],score.mean_validation_score) for score in grid_search.grid_scores_]\n",
    "print gs_scores\n",
    "ns = [s[0] for s in gs_scores]\n",
    "ss = [s[1] for s in gs_scores]\n",
    "\n",
    "plt.figure(1, figsize=(8, 6))\n",
    "plt.clf()\n",
    "plt.plot(ns, ss, linewidth=2, color=next(colors))\n",
    "plt.xlabel('C')\n",
    "plt.ylabel('mean accuracy')\n",
    "plt.show()"
   ]
  },
  {
   "cell_type": "code",
   "execution_count": 10,
   "metadata": {
    "collapsed": true
   },
   "outputs": [],
   "source": [
    "# Utility function to report best scores\n",
    "def report(grid_scores, n_top=3):\n",
    "    top_scores = sorted(grid_scores, key=itemgetter(1), reverse=True)[:n_top]\n",
    "    for i, score in enumerate(top_scores):\n",
    "        print(\"Model with rank: {0}\".format(i + 1))\n",
    "        print(\"Mean validation score: {0:.3f} (std: {1:.3f})\".format(\n",
    "              score.mean_validation_score,\n",
    "              np.std(score.cv_validation_scores)))\n",
    "        print(\"Parameters: {0}\".format(score.parameters))\n",
    "        print(\"\")"
   ]
  },
  {
   "cell_type": "code",
   "execution_count": 18,
   "metadata": {
    "collapsed": false
   },
   "outputs": [
    {
     "name": "stdout",
     "output_type": "stream",
     "text": [
      "GridSearchCV took 52.02 seconds for 10 candidate parameter settings.\n",
      "Model with rank: 1\n",
      "Mean validation score: 0.926 (std: 0.023)\n",
      "Parameters: {'C': 1}\n",
      "\n",
      "Model with rank: 2\n",
      "Mean validation score: 0.926 (std: 0.022)\n",
      "Parameters: {'C': 1.5}\n",
      "\n",
      "Model with rank: 3\n",
      "Mean validation score: 0.926 (std: 0.019)\n",
      "Parameters: {'C': 10}\n",
      "\n"
     ]
    }
   ],
   "source": [
    "from sklearn.svm import LinearSVC\n",
    "from time import time\n",
    "\n",
    "clf = LinearSVC()\n",
    "# specify parameters and distributions to sample from\n",
    "param_grid = {\n",
    "                'C': [0.001, 0.01, 0.1,0.5,1,1.5, 10,20,100,100]\n",
    "                }\n",
    "\n",
    "# run grid search\n",
    "grid_search = GridSearchCV(clf, param_grid=param_grid, n_jobs=4)\n",
    "start = time()\n",
    "grid_search.fit(X, y)\n",
    "\n",
    "print(\"GridSearchCV took %.2f seconds for %d candidate parameter settings.\"\n",
    "      % (time() - start, len(grid_search.grid_scores_)))\n",
    "report(grid_search.grid_scores_)"
   ]
  },
  {
   "cell_type": "code",
   "execution_count": 19,
   "metadata": {
    "collapsed": false
   },
   "outputs": [
    {
     "name": "stdout",
     "output_type": "stream",
     "text": [
      "[(0.001, 0.82186000000000003), (0.01, 0.87287999999999999), (0.1, 0.91488000000000003), (0.5, 0.92481999999999998), (1, 0.92603999999999997), (1.5, 0.92601999999999995), (10, 0.92596000000000001), (20, 0.92596000000000001), (100, 0.92400000000000004), (100, 0.92581999999999998)]\n"
     ]
    },
    {
     "data": {
      "image/png": "[encoded data removed]",
      "text/plain": [
       "<matplotlib.figure.Figure at 0x7efbef796f10>"
      ]
     },
     "metadata": {},
     "output_type": "display_data"
    }
   ],
   "source": [
    "gs_scores = [(score.parameters['C'],score.mean_validation_score) for score in grid_search.grid_scores_]\n",
    "print gs_scores\n",
    "ns = [s[0] for s in gs_scores]\n",
    "ss = [s[1] for s in gs_scores]\n",
    "\n",
    "plt.figure(1, figsize=(8, 6))\n",
    "plt.clf()\n",
    "plt.plot(ns, ss, linewidth=2, color=next(colors))\n",
    "plt.xlabel('C')\n",
    "plt.ylabel('mean accuracy')\n",
    "plt.show()"
   ]
  },
  {
   "cell_type": "code",
   "execution_count": null,
   "metadata": {
    "collapsed": true
   },
   "outputs": [],
   "source": []
  }
 ],
 "metadata": {
  "kernelspec": {
   "display_name": "Python 2",
   "language": "python",
   "name": "python2"
  },
  "language_info": {
   "codemirror_mode": {
    "name": "ipython",
    "version": 2
   },
   "file_extension": ".py",
   "mimetype": "text/x-python",
   "name": "python",
   "nbconvert_exporter": "python",
   "pygments_lexer": "ipython2",
   "version": "2.7.9"
  }
 },
 "nbformat": 4,
 "nbformat_minor": 0
}
