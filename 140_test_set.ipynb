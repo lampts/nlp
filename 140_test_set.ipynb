{
 "cells": [
  {
   "cell_type": "code",
   "execution_count": 2,
   "metadata": {
    "collapsed": true
   },
   "outputs": [],
   "source": [
    "import requests\n",
    "import codecs\n",
    "import json\n",
    "import pandas as pd"
   ]
  },
  {
   "cell_type": "code",
   "execution_count": 3,
   "metadata": {
    "collapsed": true
   },
   "outputs": [],
   "source": [
    "df = pd.read_json(\"/home/laampt/nlp/data/private/df_test.json\")"
   ]
  },
  {
   "cell_type": "code",
   "execution_count": 49,
   "metadata": {
    "collapsed": false
   },
   "outputs": [
    {
     "data": {
      "text/html": [
       "<div>\n",
       "<table border=\"1\" class=\"dataframe\">\n",
       "  <thead>\n",
       "    <tr style=\"text-align: right;\">\n",
       "      <th></th>\n",
       "      <th>Doc</th>\n",
       "      <th>Doc_Clean</th>\n",
       "      <th>Num_Words</th>\n",
       "      <th>Target</th>\n",
       "    </tr>\n",
       "  </thead>\n",
       "  <tbody>\n",
       "    <tr>\n",
       "      <th>0</th>\n",
       "      <td>Công bố kết quả kiểm tra, giám sát, đôn đốc cô...</td>\n",
       "      <td>công_bố kết_quả kiểm_tra giám_sát đôn_đốc công...</td>\n",
       "      <td>708</td>\n",
       "      <td>0</td>\n",
       "    </tr>\n",
       "    <tr>\n",
       "      <th>1</th>\n",
       "      <td>VTV1 KHÉO LÉO QUẢNG BÁ CUỘC GẶP CỦA TỔNG THỐNG...</td>\n",
       "      <td>vtv1 khéo_léo quảng_bá cuộc gặp của tổng_thống...</td>\n",
       "      <td>97</td>\n",
       "      <td>1</td>\n",
       "    </tr>\n",
       "    <tr>\n",
       "      <th>10</th>\n",
       "      <td>Đẩy mạnh xoá đói, giảm nghèo, hạn chế phân hoá...</td>\n",
       "      <td>đẩy_mạnh xoá đói giảm nghèo hạn_chế phân_hoá g...</td>\n",
       "      <td>1136</td>\n",
       "      <td>0</td>\n",
       "    </tr>\n",
       "    <tr>\n",
       "      <th>100</th>\n",
       "      <td>CON CỦA THỦ TƯỚNG NGUYỄN TẤN DŨNG\\n\\n Chúng tô...</td>\n",
       "      <td>con của thủ_tướng nguyễn tấn dũng chúng_tôi bắ...</td>\n",
       "      <td>1249</td>\n",
       "      <td>1</td>\n",
       "    </tr>\n",
       "    <tr>\n",
       "      <th>101</th>\n",
       "      <td>Dốc toàn lực tìm người mất tích vụ tai nạn lò ...</td>\n",
       "      <td>dốc toàn lực tìm người mất_tích vụ tai_nạn lò ...</td>\n",
       "      <td>303</td>\n",
       "      <td>0</td>\n",
       "    </tr>\n",
       "  </tbody>\n",
       "</table>\n",
       "</div>"
      ],
      "text/plain": [
       "                                                   Doc  \\\n",
       "0    Công bố kết quả kiểm tra, giám sát, đôn đốc cô...   \n",
       "1    VTV1 KHÉO LÉO QUẢNG BÁ CUỘC GẶP CỦA TỔNG THỐNG...   \n",
       "10   Đẩy mạnh xoá đói, giảm nghèo, hạn chế phân hoá...   \n",
       "100  CON CỦA THỦ TƯỚNG NGUYỄN TẤN DŨNG\\n\\n Chúng tô...   \n",
       "101  Dốc toàn lực tìm người mất tích vụ tai nạn lò ...   \n",
       "\n",
       "                                             Doc_Clean  Num_Words  Target  \n",
       "0    công_bố kết_quả kiểm_tra giám_sát đôn_đốc công...        708       0  \n",
       "1    vtv1 khéo_léo quảng_bá cuộc gặp của tổng_thống...         97       1  \n",
       "10   đẩy_mạnh xoá đói giảm nghèo hạn_chế phân_hoá g...       1136       0  \n",
       "100  con của thủ_tướng nguyễn tấn dũng chúng_tôi bắ...       1249       1  \n",
       "101  dốc toàn lực tìm người mất_tích vụ tai_nạn lò ...        303       0  "
      ]
     },
     "execution_count": 49,
     "metadata": {},
     "output_type": "execute_result"
    }
   ],
   "source": [
    "df.head(5)"
   ]
  },
  {
   "cell_type": "code",
   "execution_count": 52,
   "metadata": {
    "collapsed": false
   },
   "outputs": [
    {
     "name": "stdout",
     "output_type": "stream",
     "text": [
      "Giá dầu tại thị trường Mỹ giảm hơn 4% trong phiên giao dịch mới đây, chạm mức thấp nhất kể từ đầu năm do cung vượt quá cầu.\n",
      "\n",
      "Hãng tin Reuters đưa tin, các chỉ số trên thị trường năng lượng Mỹ đều sụt giảm, các giao dịch ở Phố Wall (Wall Street) kém sôi động mặc dù tại thời điểm này là mùa tiêu thụ năng lượng cao nhất trong năm tại Mỹ.\n",
      "\n",
      "Giá dầu Mỹ hồi phục chậm sau khi chạm đáy của 6 năm rưỡi hồi đầu tuần do lo ngại về tăng trưởng kinh tế của Trung Quốc.\n",
      "\n",
      "gia dau xuong thap nhat ke tu dau nam hinh 0\n",
      "Giá dầu xuống thấp nhất kể từ đầu năm.\n",
      "Giá dầu WTI giao tháng 9/2015 hiện đang ở mức 41,14 USD/thùng, trong khi đó giá dầu WTI giao tháng 10 tăng lên 41,32 USD/thùng.\n",
      "\n",
      "Đáng chú ý, giá dầu Brent giao tháng 10/2015 tiếp tục giảm 54 cent, tương đương 1,1%, xuống còn 46,62 USD/thùng – mức thấp nhất kể từ tháng 1/2015.\n",
      "\n",
      "Các chuyên gia nhận định, giá dầu Mỹ giảm mạnh trong các phiên gần đây sau khi số liệu của Cơ quan Thông tin Năng lượng Mỹ (EIA) cho thấy lượng dầu lưu kho của Mỹ tuần qua bất ngờ tăng 2,6 triệu thùng.\n",
      "\n",
      "Thị trường dự đoán nguồn cung dầu của Mỹ sẽ tiếp tục tăng trong những tuần tới khi các nhà máy lọc dầu đóng cửa để bảo dưỡng định kỳ.\n",
      "\n",
      "Hãng Citi Futures cho biết, xuất khẩu dầu thô của Saudi Arabia tăng thêm 430.000 thùng/ngày lên 7,37 triệu thùng/ngày, càng làm gia tăng lo ngại về tình trạng cung vượt cầu.\n",
      "\n",
      "Tuy nhiên, đồng USD suy yếu và việc xuất hiện cơn bão đầu tiên trong năm 2015 ở vùng Đại Tây Dương lại hỗ trợ giá dầu./.\n",
      "--------------------------------------------------------------------------------\n",
      "giá dầu tại thị_trường mỹ giảm hơn wwnumberww trong phiên giao_dịch mới đây chạm mức thấp nhất kể từ đầu năm do cung vượt quá cầu hãng_tin reuters đưa_tin các chỉ_số trên thị_trường năng_lượng mỹ đều sụt giảm các giao_dịch ở phố wall wall street kém sôi_động mặc dù tại thời_điểm này là mùa tiêu_thụ năng_lượng cao nhất trong năm tại mỹ giá dầu mỹ hồi_phục chậm sau khi chạm đáy của wwnumberww năm rưỡi hồi đầu tuần do lo_ngại về tăng_trưởng kinh_tế của trung_quốc gia dau xuong thap nhat ke tu dau nam hinh wwnumberww giá dầu xuống thấp nhất kể từ đầu năm giá dầu wti giao tháng wwnumberww hiện đang ở mức wwnumberww usdthùng trong khi đó giá dầu wti giao tháng wwnumberww tăng lên wwnumberww usdthùng đáng chú_ý giá dầu brent giao tháng wwnumberww tiếp_tục giảm wwnumberww cent tương_đương wwnumberww xuống còn wwnumberww usdthùng mức thấp nhất kể từ tháng wwnumberww các chuyên_gia nhận_định giá dầu mỹ giảm mạnh trong các phiên gần_đây sau khi số_liệu của cơ_quan thông_tin năng_lượng mỹ eia cho thấy lượng dầu lưu kho của mỹ tuần qua bất_ngờ tăng wwnumberww triệu thùng thị_trường dự_đoán nguồn_cung dầu của mỹ sẽ tiếp_tục tăng trong những tuần_tới khi các nhà_máy lọc_dầu đóng_cửa để bảo_dưỡng định_kỳ hãng citi futures cho_biết xuất_khẩu dầu thô của saudi arabia tăng thêm wwnumberww thùngngày lên wwnumberww triệu thùngngày càng làm gia_tăng lo_ngại về tình_trạng cung vượt cầu tuy nhiên đồng usd suy yếu và việc xuất_hiện cơn bão đầu_tiên trong năm wwnumberww ở vùng đại_tây_dương lại hỗ_trợ giá dầu.\n",
      "--------------------------------------------------------------------------------\n",
      "0\n"
     ]
    }
   ],
   "source": [
    "print df.Doc[133]\n",
    "print '-' * 80\n",
    "print df.Doc_Clean[133]\n",
    "print '-' * 80\n",
    "print df.Target[133]"
   ]
  },
  {
   "cell_type": "code",
   "execution_count": 9,
   "metadata": {
    "collapsed": true
   },
   "outputs": [],
   "source": [
    "test_labels = df.Target.values\n",
    "test_docs = df.Doc_Clean.values"
   ]
  },
  {
   "cell_type": "code",
   "execution_count": 10,
   "metadata": {
    "collapsed": true
   },
   "outputs": [],
   "source": [
    "api_predict = \"http://192.168.0.101:9000/docsent/api/v4/predict?input=\""
   ]
  },
  {
   "cell_type": "code",
   "execution_count": 38,
   "metadata": {
    "collapsed": false
   },
   "outputs": [
    {
     "name": "stdout",
     "output_type": "stream",
     "text": [
      "Progress at 0\n",
      "Progress at 1\n",
      "Progress at 2\n",
      "Progress at 3\n",
      "Progress at 4\n",
      "Progress at 5\n",
      "Progress at 6\n",
      "Progress at 7\n",
      "Progress at 8\n",
      "Progress at 9\n",
      "Progress at 10\n",
      "Progress at 11\n",
      "Progress at 12\n",
      "Progress at 13\n",
      "Progress at 14\n",
      "Progress at 15\n",
      "Progress at 16\n",
      "Progress at 17\n",
      "Progress at 18\n",
      "Progress at 19\n",
      "Progress at 20\n",
      "Progress at 21\n",
      "Progress at 22\n",
      "Progress at 23\n",
      "Progress at 24\n",
      "Progress at 25\n",
      "Progress at 26\n",
      "Progress at 27\n",
      "Progress at 28\n",
      "Progress at 29\n",
      "Progress at 30\n",
      "Progress at 31\n",
      "Progress at 32\n",
      "Progress at 33\n",
      "Progress at 34\n",
      "Progress at 35\n",
      "Progress at 36\n",
      "Progress at 37\n",
      "Progress at 38\n",
      "Progress at 39\n",
      "Progress at 40\n",
      "Progress at 41\n",
      "Progress at 42\n",
      "Progress at 43\n",
      "Progress at 44\n",
      "Progress at 45\n",
      "Progress at 46\n",
      "Progress at 47\n",
      "Progress at 48\n",
      "Progress at 49\n",
      "Progress at 50\n",
      "Progress at 51\n",
      "Progress at 52\n",
      "Progress at 53\n",
      "Progress at 54\n",
      "Progress at 55\n",
      "Progress at 56\n",
      "Progress at 57\n",
      "Progress at 58\n",
      "Progress at 59\n",
      "Progress at 60\n",
      "Progress at 61\n",
      "Progress at 62\n",
      "Progress at 63\n",
      "Progress at 64\n",
      "Progress at 65\n",
      "Progress at 66\n",
      "Progress at 67\n",
      "Progress at 68\n",
      "Progress at 69\n",
      "Progress at 70\n",
      "Progress at 71\n",
      "Progress at 72\n",
      "Progress at 73\n",
      "Progress at 74\n",
      "Progress at 75\n",
      "Progress at 76\n",
      "Progress at 77\n",
      "Progress at 78\n",
      "Progress at 79\n",
      "Progress at 80\n",
      "Progress at 81\n",
      "Progress at 82\n",
      "Progress at 83\n",
      "Progress at 84\n",
      "Progress at 85\n",
      "Progress at 86\n",
      "Progress at 87\n",
      "Progress at 88\n",
      "Progress at 89\n",
      "Progress at 90\n",
      "Progress at 91\n",
      "Progress at 92\n",
      "Progress at 93\n",
      "Progress at 94\n",
      "Progress at 95\n",
      "Progress at 96\n",
      "Progress at 97\n",
      "Progress at 98\n",
      "Progress at 99\n",
      "Progress at 100\n",
      "Progress at 101\n",
      "Progress at 102\n",
      "Progress at 103\n",
      "Progress at 104\n",
      "Progress at 105\n",
      "Progress at 106\n",
      "Progress at 107\n",
      "Progress at 108\n",
      "Progress at 109\n",
      "Progress at 110\n",
      "Progress at 111\n",
      "Progress at 112\n",
      "Progress at 113\n",
      "Progress at 114\n",
      "Progress at 115\n",
      "Progress at 116\n",
      "Progress at 117\n",
      "Progress at 118\n",
      "Progress at 119\n",
      "Progress at 120\n",
      "Progress at 121\n",
      "Progress at 122\n",
      "Progress at 123\n",
      "Progress at 124\n",
      "Progress at 125\n",
      "Progress at 126\n",
      "Progress at 127\n",
      "Progress at 128\n",
      "Progress at 129\n",
      "Progress at 130\n",
      "Progress at 131\n",
      "Progress at 132\n",
      "Progress at 133\n",
      "Progress at 134\n",
      "Progress at 135\n",
      "Progress at 136\n",
      "Progress at 137\n",
      "Progress at 138\n",
      "Progress at 139\n"
     ]
    }
   ],
   "source": [
    "predictions = []\n",
    "for i, doc in enumerate(test_docs):\n",
    "    print \"Progress at {}\".format(i)\n",
    "    if not (doc): \n",
    "        prediction = 0\n",
    "    else:\n",
    "        rq = requests.get(api_predict + doc.encode('utf-8'))\n",
    "        result = json.loads(rq.content)\n",
    "        prediction = result['predictions'][0][1]\n",
    "    predictions.append(prediction)"
   ]
  },
  {
   "cell_type": "code",
   "execution_count": 39,
   "metadata": {
    "collapsed": false
   },
   "outputs": [],
   "source": [
    "from sklearn import metrics\n",
    "import numpy as np"
   ]
  },
  {
   "cell_type": "code",
   "execution_count": 40,
   "metadata": {
    "collapsed": false
   },
   "outputs": [
    {
     "name": "stdout",
     "output_type": "stream",
     "text": [
      "Mega Combinator:\n",
      "             precision    recall  f1-score   support\n",
      "\n",
      "          0       0.94      0.83      0.88        81\n",
      "          1       0.80      0.93      0.86        59\n",
      "\n",
      "avg / total       0.88      0.87      0.87       140\n",
      "\n"
     ]
    }
   ],
   "source": [
    "print 'Mega Combinator:\\n{}'.format(metrics.classification_report(test_labels, np.array(predictions)))"
   ]
  },
  {
   "cell_type": "code",
   "execution_count": 41,
   "metadata": {
    "collapsed": false
   },
   "outputs": [
    {
     "name": "stdout",
     "output_type": "stream",
     "text": [
      "Mega Combinator AUC:\n",
      "0.879681941829\n"
     ]
    }
   ],
   "source": [
    "print 'Mega Combinator AUC:\\n{}'.format(metrics.roc_auc_score(test_labels, np.array(predictions)))"
   ]
  },
  {
   "cell_type": "code",
   "execution_count": 45,
   "metadata": {
    "collapsed": true
   },
   "outputs": [],
   "source": [
    "%matplotlib inline \n",
    "\n",
    "import matplotlib as mlp\n",
    "import matplotlib.pyplot as plt\n",
    "plt.style.use('fivethirtyeight') # Good looking plots\n",
    "pd.set_option('display.max_columns', None) # Display any number of columns\n",
    "\n",
    "import seaborn as sns"
   ]
  },
  {
   "cell_type": "code",
   "execution_count": 48,
   "metadata": {
    "collapsed": false
   },
   "outputs": [
    {
     "data": {
      "image/png": "[encoded data removed]",
      "text/plain": [
       "<matplotlib.figure.Figure at 0x7f2ab4e16650>"
      ]
     },
     "metadata": {},
     "output_type": "display_data"
    }
   ],
   "source": [
    "cm = metrics.confusion_matrix(test_labels, np.array(predictions))\n",
    "\n",
    "fix, ax = plt.subplots(figsize=(5, 5))\n",
    "plt.suptitle('Confusion Matrix of Mega Classifiers on 140 Test ')\n",
    "plt.subplot(1, 1, 1)\n",
    "sns.heatmap(cm, annot=True,  fmt='');"
   ]
  },
  {
   "cell_type": "code",
   "execution_count": 56,
   "metadata": {
    "collapsed": false
   },
   "outputs": [
    {
     "name": "stdout",
     "output_type": "stream",
     "text": [
      "đảng đã cho ta một mùa_xuân đầy ước_vọng một mùa_xuân tươi tràn ánh_sáng khắp nơi_nơi đảng đã đem về tuổi_xuân cho nước non vang tiếng_hát ca chứa_chan niềm yêu_đời bao năm khổ_đau đất_nước ta không mùa_xuân cuộc_đời tăm_tối chốn lao_tù bao hờn căm vừng dương hé_sáng khi khắp nơi ta có đảng bóng_tối lui dần tiếng chim vui hót vang và rồi từ đây ánh dương soi đời_mới tiến theo cờ đảng đã thấy tương_lai sáng tươi đảng đã cho ta cả mùa_xuân của cuộc_đời đảng truyền cho ta một niềm_tin ở tương_lai đảng đã mang lại tình_yêu thương khắp nơi thế_giới quanh ta hân_hoan ngàn tiếng_cười xua đi màn_đêm chiến_tranh gieo bao khổ_đau cuộc_đời từ nay sẽ sáng tươi như mùa_xuân vượt mọi gian_khó ta tiến lên đi theo đảng băng_giá tan dần ánh dương càng huy_hoàng bạn ơi mùa_xuân khắp nơi tươi_đẹp quá khi lý_tưởng đảng rực sáng trong tim chúng ta.\n",
      ">> True: 0 | Predict: 1\n",
      "--------------------------------------------------------------------------------\n",
      "bác_sĩ bv bình_chánh nộp wwnumberww triệu đồng quà_tặng thanh_tra cp vừa thông_báo kết_luận thanh_tra trách_nhiệm của chủ_tịch tphcm trong việc thực_hiện pháp_luật về thanh_tra giải_quyết khiếu_nại tố_cáo tiếp công_dân và phòng_chống tham_nhũng giai_đoạn wwnumberww đến_tháng wwnumberww tphcm phải vào top thành_phố lớn asean tphcm chủ_tịch quận muốn trả lại phí xe_máy cho dân trong giai_đoạn này thành_phố đã thực_hiện hơn wwnumberww cuộc thanh_tra hành_chính phát_hiện hơn wwnumberww đơn_vị có vi_phạm về kinh_tế với số tiền là wwnumberww tỷ đồng wwnumberww usd và wwnumberww nghìn m2 đất thành_phố đã kiến_nghị thu_hồi wwnumberww tỷ đồng và hơn wwnumberww nghìn m2 đất kiến_nghị xử_lý khác wwnumberww tỷ đồng wwnumberww usd thực thu nộp ngân_sách là wwnumberww tỷ đồng đạt tỉ_lệ wwnumberww và hơn wwnumberww nghìn m2 đất đã có wwnumberww tập_thể và wwnumberww cá_nhân bị xử_lý hành_chính chuyển cơ_quan điều_tra wwnumberww vụ tphcm tiếp dân chống tham_nhũng bv bình_chánh quà_tặng thanh_tra khiếu_nại tố_cáo một góc tphcm nhìn từ trên cao ảnh đinh tuấn tỉ_lệ giải_quyết đơn thư khiếu_nại của tphcm trong giai_đoạn này đạt wwnumberww đem lại quyền_lợi cho công_dân với tổng_số tiền hơn wwnumberww tỷ đồng và hơn wwnumberww nghìn m2 đất tuy vậy chỉ có wwnumberww vụ_việc người dân khiếu_nại là đúng wwnumberww là sai và wwnumberww có đúng có sai tỉ_lệ đơn tố_cáo cũng tương_tự hầu hết khiếu_kiện đông người trên địa_bàn thành_phố là về các chính_sách bồi_thường hỗ_trợ và tái định_cư tại các dự_án đang và sẽ triển_khai về công_tác phòng chống tham_nhũng kết luật thanh_tra cho_biết trong giai_đoạn này đã có wwnumberww cá_nhân và tập_thể bác_sĩ bệnh_viện bình_chánh nộp lại quà tặng với tổng trị_giá hơn wwnumberww triệu đồng wwnumberww triệu đồng đã được thu_hồi nộp ngân_sách đối với wwnumberww trường_hợp vi_phạm quy_chế nộp lại quà tặng một_số tồn_tại hạn_chế trong các công_tác này ở tphcm là thanh_tra còn chậm kéo_dài xử_lý sau thanh_tra chưa nghiêm tỉ_lệ khiếu_nại tố_cáo sai quá lớn xử_lý còn chậm khiến dân bức_xúc khiếu_kiện kéo_dài quản_lý ngân_sách tài_chính tài_sản còn thiếu minh_bạch nhà_đất bị lấn_chiếm bỏ_trống sử_dụng sai mục_đích tái cơ_cấu dnnn còn chậm còn tình_trạng lạm_thu học_phí đấu_thầu thuốc sai quy_định cái cách hành_chính chậm chủ_tịch thành_phố và các quận_huyện tiếp dân chưa thường_xuyên điển_hình như chủ_tịch thành_phố và các phó chủ_tịch tiếp wwnumberww ngày theo quy_định chỉ đạt wwnumberww kết_luận của thanh_tra cp nêu một vấn_đề nữa là hầu hết sở ngành quận_huyện không thực_hiện đúng các quy_định về trình_tự thủ_tục kê_khai tài_sản thu_nhập trong kỳ thanh_tra chỉ có một trường_hợp có quyết_định xác_minh xử_lý vi_phạm các quy_định về minh_bạch tài_sản thu_nhập ngoài các trường_hợp nộp lại quà tặng nêu trên hầu hết cán_bộ công_chức viên_chức của thành_phố chưa chuyển_biến và chấp_hành quy_định này việc xử_lý trách_nhiệm người đứng đầu để xảy ra các vi_phạm trên cũng chưa nghiêm_túc nguyên_nhân cơ_bản theo kết_luận của thanh_tra cp là do phân_công người trực_tiếp phụ_trách lĩnh_vực này còn thiếu tập_trung trách_nhiệm trước hết thuộc về chủ_tịch tphcm kết_luận nhấn_mạnh thanh_tra cp kiến_nghị chủ_tịch thành_phố sớm khắc_phục những hạn_chế nêu trên cũng như chỉ_đạo thanh_tra và xử_lý một_số vụ_việc cụ thể.\n",
      ">> True: 0 | Predict: 1\n",
      "--------------------------------------------------------------------------------\n",
      "thế_giới đang đứng trước thời_khắc trọng_đại của lịch_sử là đã tiến vào thập_niên đầu của thế_kỷ xxi với một nền văn_minh rực_rỡ nhưng cũng ngổn_ngang những vấn_đề gay_gắt mang tính toàn_cầu nó chứa_đựng trong mình cả niềm_vui và sự bất_hạnh cả nụ_cười và nước mắt cả hạnh_phúc và lo_toan một trong những nỗi lo toàn_cầu nỗi đau nhân_loại là sự đói_nghèo trầm_trọng trên một phạm_vi vô_cùng rộng_lớn như thế đủ thấy đói_nghèo và giải_quyết vấn_đề nghèo_đói mang tính phổ_biến không chỉ là công_việc của_riêng nước ta tuy nhiên để hiểu về chương_trình xóa đói giảm nghèo ở nước ta một cách đầy_đủ cần_thiết phải có cách nhìn tổng_quan cần biết người biết ta để rút ra những bài_học và tìm ra những phương_pháp hữu_hiệu wwnumberww đói_nghèo và việc giải_quyết đói_nghèo trên thế_giới cho đến hôm_nay đói_nghèo vẫn là nỗi ám_ảnh thường_trực đối với cả loài_người thế_giới đã chứng_kiến những thảm_họa của chiến_tranh thảm_họa của thiên_tai dịch_bệnh với bao nỗi kinh_hoàng thế nhưng hậu_quả do những nạn_đói gây ra cũng vô_cùng khủng_khiếp điều đáng_sợ hơn nữa là nếu như các cuộc chiến_tranh dù khốc_liệt vô_cùng nhưng rồi trước_sau cũng được giải_quyết nếu như những thảm_họa do thiên_tai dịch_bệnh gây ra từng bước cũng sẽ được khắc_phục thì vấn_đề nghèo_đói của nhân_loại lại là một vấn_đề vừa cấp_bách vừa phức_tạp lại như một căn_bệnh kinh_niên khó bề chạy_chữa đói_nghèo là nỗi bất_hạnh và là một phi_lý lớn trong khi nền văn_minh thế_giới đã đạt được những thành_tựu hiển_nhiên về tiến_bộ khoa_học công_nghệ làm tăng đáng_kể của_cải vật_chất xã_hội tăng thêm vượt_bậc sự giàu_có cho con người thì thảm_cảnh đeo_đẳng mãi trên lưng con_người lại vẫn là sự nghèo_đói hàng tỷ người thực_tế là một_phần ba số dân thế_giới vẫn khốn_cùng và đói_khát thiệt_thòi lớn nhất là trẻ_em hằng_ngày có gần wwnumberww triệu trẻ_em không có cái ăn trên wwnumberww triệu trẻ_em vô gia_cư chỉ sống nhờ của bố_thí hoặc sống dựa vào sự lao_động quá sức kể_cả bằng các nghề đặc_biệt là móc_túi mại_dâm trên wwnumberww triệu trẻ_em làm_việc trong những ngành có hại hàng_trăm triệu trẻ_em tuổi từ wwnumberww wwnumberww không được cắp sách đến trường đói_nghèo diễn ra trên tất_cả các châu_lục với những mức_độ khác nhau đặc_biệt ở các nước đang phát_triển sự đói_nghèo của dân_cư đang là một vấn_đề nhức_nhối rất cấp_bách phải tháo gỡ nhưng cũng vô_cùng khó_khăn trong việc thực_hiện xóa đói giảm nghèo sự nghèo_đói thì ai cũng thấy và không nước nào thiếu những chương_trình hoặc những chính_sách để thực_hiện việc xóa đói giảm nghèo có rất nhiều các tổ_chức của liên_hợp_quốc và của cộng_đồng quốc_tế thực_hiện sứ_mệnh vẻ_vang này trên phạm_vi hành_tinh người ta đã tổ_chức những chiến_dịch lớn với hàng vạn tấn lương_thực hàng triệu usd để cứu_giúp những người hoạn_nạn ở các nước châu_phi châu_á hoặc như ở haiti vừa_qua sự giúp_đỡ về vật_chất và tinh_thần là rất đáng_kể tuy nhiên thực_tế cho thấy dù đây là công_việc mà toàn_cầu quan_tâm nhưng rồi các nước đói vẫn hoàn đói sự trợ_giúp của cộng_đồng đối với một bộ_phận dân_cư khốn_khó cũng chỉ như muối bỏ biển chưa đủ độ chưa triệt_để vấn_đề xóa đói giảm nghèo luôn gắn_bó và chịu ảnh_hưởng của quan_hệ giai_cấp và các chế_độ xã_hội khác nhau hiện_tượng bị tha_hóa và tự tha_hóa con_người dưới chế_độ tư_bản chủ_nghĩa luôn là một lực_cản đối với công_việc xóa đói giảm nghèo chính xã_hội mà mục_tiêu duy_nhất và cuối_cùng là lợi_nhuận là tiền_bạc đã làm phân_hóa xã_hội đẩy nhiều người vào cảnh nghèo nàn khốn_khó khoảng_cách chênh_lệch mức_sống giữa sự xa_xỉ với sự bần_hàn càng bị nặng_nề hơn bởi chính_sự vô trách_nhiệm của các nước phát_triển phương_tây của giai_cấp những người giàu_có thái_độ sống chết mặc bay vẫn phổ_biến trong hành_vi cư_xử ở xã_hội của những kẻ say lợi_nhuận vì vậy quan_điểm cũng như hành_động của giới_chức phương_tây trong việc giải_quyết nghèo_đói trên thế_giới hiện_nay chỉ giới_hạn trong phạm_vi hẹp chỉ là để làm giảm cơn đau khốn_khó hoặc cùng_lắm đó là việc_làm mang tính nhân_đạo mà thôi wwnumberww quan_điểm của đảng và nhà_nước ta về việc xóa đói giảm nghèo đảng ta coi cơ_sở phương_pháp luận quan_trọng và cơ_bản nhất để phân_tích vấn_đề đói_nghèo và xóa đói giảm nghèo là giải_phóng con_người khỏi mọi áp_bức bất_công thực_hiện công_bằng xã_hội chủ_nghĩa xã_hội là quá_trình kiến_tạo hạnh_phúc và cũng là quá_trình đấu_tranh vì sự công_bằng đấu_tranh để thủ_tiêu nguồn_gốc bất_công xã_hội ngay từ những ngày đầu mới thành_lập nước việt_nam dân_chủ cộng_hòa một trong những nhiệm_vụ đầu_tiên mà bác hồ đã chỉ_đạo là chống giặc đói vấn_đề công_bằng xã_hội vấn_đề có quan_hệ trực_tiếp và quyết_định đối với việc xóa đói giảm nghèo đã được đảng ta luôn quan_tâm chú_ý những đại_hội đảng gần_đây từ đại_hội vi đến đại_hội đảng ta đã có nhiều nghị_quyết nhiều văn_bản đề_cập tới vấn_đề công_bằng xã_hội chúng ta hiểu công_bằng xã_hội vừa là mục_tiêu vừa là động_lực để phát_triển công_bằng xã_hội không bó_hẹp trong lĩnh_vực kinh_tế mà liên_quan tới tất_cả các lĩnh_vực kinh_tế chính_trị pháp_luật văn_hóa xã_hội công_bằng xã_hội phải được giải_quyết và chỉ có thể được giải_quyết gắn_liền với sự phát_triển sản_xuất xây_dựng xã_hội thực_sự dân_chủ xây_dựng nhà_nước pháp_quyền xã_hội chủ_nghĩa xây_dựng nền văn_hóa tiên_tiến đậm_đà bản_sắc dân_tộc việt_nam công_bằng xã_hội đòi_hỏi phải huy_động mọi nguồn_lực trong nhân_dân xã_hội hóa nhiệm_vụ đền_ơn đáp nghĩa xây_dựng và thực_hiện tốt kế_hoạch phát_triển kinh_tế xã_hội trên cơ_sở vừa tăng nhanh tốc_độ phát_triển vừa giảm dần sự mất cân_đối giữa các vùng giảm dần khoảng_cách về thu_nhập mức_sống hưởng_thụ giáo_dục văn_hóa bảo_vệ sức_khỏe của các tầng_lớp dân_cư ở các vùng khác nhau đặc_biệt công_bằng xã_hội đòi_hỏi phải thực_hiện tốt chương_trình xóa đói giảm nghèo an_sinh xã_hội trong các văn_kiện quan_trọng của đảng cộng_sản việt_nam vấn_đề xóa đói giảm nghèo được nhiều lần đề_cập tới để bảo_đảm và hướng tới công_bằng xã_hội đảng ta khẳng_định khuyến_khích làm_giàu hợp_pháp chống làm_giàu phi_pháp đi đôi với chăm_lo xóa đói giảm nghèo thu_hẹp dần khoảng_cách về trình_độ phát_triển về mức_sống giữa các vùng căn_cứ cách_mạng và kháng_chiến cũ các gia_đình thuộc diện chính_sách làm cho mọi người mọi nhà đều tiến tới cuộc_sống ấm no hạnh_phúc ai cũng có việc_làm có cơm ăn áo mặc ai cũng được học_hành và chữa bệnh từng bước thực_hiện điều chủ_tịch hồ_chí_minh hằng mong_ước trong quá_trình thiết_kế chỉ_đạo thi công_việc xây_dựng nền kinh_tế thị_trường theo định_hướng xã_hội chủ_nghĩa trên cơ_sở nắm_bắt những mặt mạnh và mặt_yếu của cơ_chế thị_trường đảng ta đã đưa ra những quan_điểm chỉ_đạo để phát_triển sức sản_xuất cần phát_huy khả_năng của mọi thành_phần kinh_tế thừa_nhận trên thực_tế còn có bóc_lột và sự phân_hóa giàu nghèo nhất định trong xã_hội nhưng phải luôn quan_tâm bảo_vệ lợi_ích của người lao_động vừa khuyến_khích làm_giàu hợp_pháp chống làm_giàu phi_pháp vừa coi_trọng xóa đói giảm nghèo từng bước thực_hiện công_bằng xã_hội tiến tới làm cho mọi người mọi nhà đều khá_giả chú_trọng đúng mức đến vấn_đề đói_nghèo trong xã_hội với nhãn_quan chính_trị nhạy_bén và với trách_nhiệm cao_cả trước nhân_dân đảng ta đã đưa ra những chương_trình rộng_lớn để tập_trung giải_quyết là chương_trình về xóa đói giảm nghèo trên cơ_sở đó nhà_nước cũng đã có hàng chục chương_trình cấp quốc_gia và dự_án đang được thực_thi có nội_dung gắn với xóa đói giảm nghèo wwnumberww một_số luận_điểm và chính_sách cụ_thể một là xóa đói giảm nghèo vừa là nhiệm_vụ cơ_bản lâu_dài vừa là nhiệm_vụ trọng_tâm trước_mắt tính lâu_dài của xóa đói giảm nghèo là do thứ nhất xóa đói giảm nghèo là nội_dung và nhiệm_vụ cần thực_hiện để bảo_đảm công_bằng xã_hội thực_tiễn cho thấy có những nguyên_nhân nảy_sinh nghèo_đói không phải do môi_trường xã_hội không do điều_kiện kinh_tế địa_lý mà do hoàn_cảnh và đặc_điểm của từng cá_nhân từng hộ gia_đình những trường_hợp này luôn có khả_năng xuất_hiện và việc xóa đói giảm nghèo mang tính thường_trực thứ_hai chủ_trương của đảng ta phát_triển kinh_tế nhiều thành_phần là một định_hướng chiến_lược nền kinh_tế vận_hành theo cơ_chế thị_trường luôn có xu_hướng phân_hóa hai cực giàu nghèo vì vậy cùng với việc tăng_cường sự quản_lý của nhà_nước theo định_hướng xã_hội chủ_nghĩa thường_xuyên và liên_tục lâu_dài thì nhiệm_vụ xóa đói giảm nghèo nhất là giảm nghèo cũng là vấn_đề liên_tục và lâu_dài mới giải_quyết được thứ ba dân giàu nước mạnh là mục_tiêu cơ_bản của chủ_nghĩa xã_hội thực_hiện mục_tiêu này là một quá_trình phấn_đấu gian_khổ lâu_dài xóa đói giảm nghèo vừa có tính cơ_bản và cần thực_hiện liên_tục lâu_dài lại là một công_việc cần_kíp trước_mắt bởi vì sự_nghiệp cách_mạng và công_cuộc đổi_mới luôn đặt ra nhiệm_vụ mỗi bước phát_triển kinh_tế xã_hội là một bước cải_thiện đời_sống của nhân_dân bởi vì đây không chỉ là việc thực_hiện truyền_thống đạo_lý của dân_tộc thương người như thể thương thân mà còn là nhiệm_vụ để bảo_đảm ổn_định xã_hội củng_cố khối đại đoàn_kết dân_tộc hai là tăng_trưởng kinh_tế là điều_kiện giúp cho việc xóa đói giảm nghèo nhưng đây là hai nhiệm_vụ có tính độc_lập tương_đối và không phải là một có người cho rằng muốn xóa đói giảm nghèo trước hết phải đầu_tư phát_triển sản_xuất để tăng_trưởng kinh_tế chỉ đến khi kinh_tế đã phát_triển đến giai_đoạn nhất định sẽ hết đói_nghèo vì thế không nên đặt vấn_đề xóa đói giảm nghèo là nhiệm_vụ lâu_dài và trọng_yếu thực_ra tăng_trưởng kinh_tế có ảnh_hưởng đến việc giải_quyết vấn_đề nghèo_đói bởi vì nguyên_nhân chính yếu của đói_nghèo nói_chung là do kinh_tế chưa phát_triển tuy nhiên đói_nghèo lại do nhiều nguyên_nhân khác mang tính đặc_thù vả lại trong điều_kiện kinh_tế nước ta hiện_nay chúng ta chấp_nhận kinh_tế nhiều thành_phần cùng vận_động phát_triển cũng là phải chấp_nhận tình_trạng phân_hóa giàu nghèo tương_đối vì vậy xóa đói giảm nghèo không những là công_việc cần_thiết mà là nhiệm_vụ cấp_bách và quan_trọng chúng ta xác_định sự phân_hóa giàu nghèo không thể tránh khỏi nên cũng quyết_tâm không để xảy ra tình trạng làm_giàu vô tội_vạ trên lưng người khác cũng như tình_trạng kẻ ăn không hết người lần không ra không thể để người nghèo bị bỏ_rơi trước con_mắt của cộng_đồng ba là xóa đói giảm nghèo và thực_hiện công_bằng xã_hội không có nghĩa là kìm_hãm sự phát_triển kinh_tế không có nghĩa là cào_bằng kinh_nghiệm của chủ_nghĩa xã_hội hiện_thực ở liên_xô và đông_âu trước đây đã cho thấy nếu đặt công_bằng xã_hội lên trên hết và tách_rời với phát_triển kinh_tế thì trước hết dẫn tới sự triệt_tiêu các động_lực phát_triển tuy nhiên nếu đặt hiệu_quả kinh_tế là mục_tiêu duy_nhất thì sẽ làm tăng tình_trạng phân_hóa hai cực làm tăng sự khốn_khó đối với không ít quần_chúng nhân_dân bởi vậy trong khi thực_hiện bài_toán phát_triển đất nước làm sao phải tạo mọi điều_kiện và tăng nguồn_lực cho sự phát_triển đồng_thời hạn_chế mặt tiêu_cực của nó đặt vấn_đề xóa đói giảm nghèo thành_công việc thường_xuyên liên_tục bốn là xóa đói giảm nghèo là công_việc của toàn xã_hội cần khẳng_định một cách mạnh_mẽ rằng xóa đói giảm nghèo không dừng lại ở việc thực_hiện chính_sách xã_hội không phải việc riêng của ngành lao_động xã_hội hay một_số ngành khác mà là nhiệm_vụ chính_trị kinh_tế văn_hóa là nhiệm_vụ chung của toàn đảng toàn dân muốn thực_hiện thành_công việc xóa đói giảm nghèo tất_cả mọi cán_bộ đảng chính_quyền đều phải quan_tâm cùng giải_quyết thực_hiện các giải_pháp một cách đồng_bộ và phải có sự tham_gia của toàn_thể cộng đồng.\n",
      ">> True: 0 | Predict: 1\n",
      "--------------------------------------------------------------------------------\n",
      "trong bản_án được tòa_án quân_sự trung_quốc tuyên cốc tuấn sơn bị kết_tội biển_thủ công_quỹ nhận hối_lộ sử_dụng ngân_sách nhà_nước sai mục_đích và lạm_dụng quyền_lực ngoài hình_phạt tử_hình được hoãn thi_hành hai năm cốc tuấn sơn bị tước mọi quyền chính_trị suốt đời tước quân_hàm thiếu_tướng và tịch_thu mọi tài_sản cá_nhân tân hoa xã đưa_tin việc bắt_giữ ông cốc wwnumberww tuổi năm wwnumberww chính là phát_súng mở_màn cho chiến_dịch bài_trừ tham_nhũng trong quân_đội trung_quốc đến nay nguyên phó chủ_tịch quân_ủy trung_ương từ tài hậu đồng_minh thân_cận của ông cốc và là một trong những quan_chức quân_đội cấp cao nhất đã bị đả tại trung_quốc đại_lục án tử_hình hoãn thi_hành thường được chuyển thành án tù chung_thân điều này cũng có nghĩa là ông cúc đã thoát được_việc bị xử_tử tòa_án quân_sự cho_biết cốc đã cung_cấp thông_tin về tội_trạng của những người khác là tình_tiết được hưởng khoan_hồng toàn_bộ những tài_sản bất hợp_pháp của ông cốc cũng đã bị thu_hồi hai yếu_tố trên đã khiến tòa_án đưa ra hình_phạt có tính khoan_hồng hơn với ông cốc tờ pla daily của quân_đội trung_quốc khẳng_định nhà quan_sát quân_sự antony wong dong tại macau cho rằng bản_án mang_nặng tính chính_trị trước đó truyền_thông tại trung_quốc đã đăng_tải những chi_tiết gây ngỡ_ngàng về mức_độ giàu_có của vị tướng_quân biến_chất này tài_sản của cốc được cất_giấu tại nhà của tổ_tiên tại tỉnh hà_nam đã chất đầy wwnumberww xe_tải và phải cần tới wwnumberww nhân_viên bán quân_sự làm_việc suốt wwnumberww đêm mới tịch_thu xong tờ caixin đưa_tin trong số những vật giá_trị có một bức tượng bằng vàng ròng mang hình cố chủ_tịch mao trạch đông một bồn rửa tay bằng vàng và một mô_hình thuyền buồm bằng vàng cốc tuấn sơn còn sở_hữu nhiều bất_động_sản đắt giá cùng hàng chục căn_hộ chung_cư tại khu đường vành_đai wwnumberww của bắc_kinh cốc từng đút_túi wwnumberww trong số tiền wwnumberww tỷ nhân_dân_tệ wwnumberww triệu usd từ bán đất quân_đội tại thượng_hải là một trong những thuộc_hạ thân_cận nhất của từ tài hậu cốc từng chia_chác với cấp trên những món tiền phi_pháp trong đám_cưới con_gái ông_từ cốc đã tặng một thẻ ngân_hàng có sẵn wwnumberww triệu nhân_dân_tệ wwnumberww triệu usd làm quà cưới.\n",
      ">> True: 0 | Predict: 1\n",
      "--------------------------------------------------------------------------------\n",
      "đảng csvn thật tuyệt_vời lo cho dân vì nhân dân.\n",
      ">> True: 0 | Predict: 1\n",
      "--------------------------------------------------------------------------------\n",
      "bắc_kinh lên_án mỹ phá_hoại chiến_dịch chống tham_nhũng tại trung_quốc trọng nghĩa media một cán_bộ cấp cao đào_tẩu tại sân_bay thủ_đô bắc_kinh ngày wwnumberww sau khi tự nộp_mình cho cảnh_sát photowebsite of central committee for discipline inspection một hôm sau khi báo_chí mỹ phanh_phui việc chính_quyền obama đã cảnh_cáo bắc_kinh là không được phái nhân_viên an_ninh trung_quốc qua mỹ lén_lút gây sức_ép để buộc các tội_phạm kinh_tế trở_về nước bắc_kinh đã có phản_ứng tức_tối và cho báo_chí của mình tố ngược lại washington là đã nuốt lời cam_kết và phá_hoại chiến_dịch bài_trừ tham_nhũng mà trung_quốc đang tiến_hành tân hoa xã hãng_tin chính_thức của trung_quốc đã lên tiếng kêu gọi hoa_kỳ thực_tâm hơn trong việc đối_phó với chiến_dịch truy_bắt các quan_chức tham_nhũng trung_quốc đã trốn qua mỹ cho rằng hoa_kỳ không nên biến mình thành đất lành dung_dưỡng các tội_phạm hình_sự trong bài xã_luận tân hoa xã không ngần_ngại cáo_buộc washington là đang phá_hoại chiến_dịch chống tham_nhũng của bắc_kinh khi đơn_phương vi_phạm các thỏa_thuận giữa đôi_bên về thực_thi pháp_luật theo hãng_tin trung_quốc hoạt_động của trung_quốc trong khuôn_khổ chiến_dịch có tên_gọi săn cáo tức là truy_bắt quan_chức trốn ra ngoại_quốc hoàn_toàn hợp_pháp và đã được phê_duyệt trong các hiệp_định song_phương đạt vào đầu năm nay với hoa_kỳ cáo_buộc của bắc_kinh dĩ_nhiên đã bị phía mỹ bác_bỏ theo đài truyền_hình mỹ cnn nhiều quan_chức ngoại_giao mỹ đã thừa_nhận rằng giữa hoa_kỳ và trung_quốc quả là đã có thỏa_thuận về hợp_tác pháp_lý nhưng nội_dung hiệp_định này đòi_hỏi trung_quốc phải chia_sẻ bằng_chứng với mỹ và làm_việc thông qua các hệ_thống pháp_luật của mỹ khi trung_quốc cử nhân_viên thực_thi pháp_luật qua hoạt_động ở mỹ dưới danh_nghĩa du_lịch hay kinh_doanh mà không thông_báo cho chính_quyền mỹ thì điều đó là những hành_vi sai_trái giải_thích của các quan_chức mỹ với đài cnn cũng trùng_hợp với thông_tin được nhật_báo new york times tiết_lộ theo đó washington đã tỏ thái_độ bất_bình trước việc bắc_kinh cho đặc_vụ qua mỹ gây sức_ép để buộc những người bị tình_nghi là tội_phạm kinh_tế phải trở_về nước bản_thân việc gây sức_ép là một hành_vi khó chấp_nhận về mặt đạo_đức cũng như pháp_luật nhất là khi các đặc_vụ trung_quốc còn có những hành_vi cưỡng_chế đối với bản_thân các đối_tượng bị truy_nã thậm chí còn dọa các đối_tượng này là sẽ đánh vào thân_nhân gia_đình họ còn ở lại trung_quốc không những thế riêng việc phái đặc_vụ đội_lốt du_khách hay thương_nhân vào mỹ hoạt_động là một điều vi_phạm luật lệ hiện_hành tại mỹ theo đó cần phải được bộ_trưởng tư_pháp mỹ cho_phép trước cho đến lúc này chưa thấy bắc_kinh đưa ra phản_ứng chính_thức nào về vụ này mà chỉ để cho truyền_thông lên_tiếng theo giới phân_tích hoa_kỳ đã lên_tiếng cảnh_cáo trung_quốc chỉ vài tuần_trước lúc chủ_tịch trung_quốc tập cận bình công_du nước mỹ mà ông tập cận bình lại chính là người đã đẩy_mạnh chiến_dịch chống tham_nhũng trong đó có chiến_dịch săn cáo lời cảnh_cáo của mỹ do đó có thể là được coi là một biện_pháp gia tăng sức_ép lên phía trung_quốc trong bối_cảnh giữa hai bên còn rất nhiều bất_đồng cần giải_quyết từ vụ phá_giá đồng yuan tin_tặc trung_quốc cho đến vấn_đề biển đông.\n",
      ">> True: 0 | Predict: 1\n",
      "--------------------------------------------------------------------------------\n",
      "người ta có thể kiếm ra người giống như phùng quang thanh người ta cũng có thể dùng chất_dẻo để làm những bộ_mặt giả rất tinh_tế từng nếp_nhăn vết thẹo đễ kiểm_soát giả thiệt người ta thường quan_sát vành_tai vì vành_tai ít thay_đổi nhưng một điểm rất đặc_biệt nữa là quan_sát hàm_răng vì hàm_răng và những cái răng là cá_biệt cho mỗi người rất may tôi nhận được hai nụ_cười của phùng quang thanh thiệt và phùng quang thanh giả để_lộ hai hàm_răng để tôi có thể quan_sát sự khác_biệt xin quý độc_giả xem hình đính kèm.\n",
      ">> True: 1 | Predict: 0\n",
      "--------------------------------------------------------------------------------\n",
      "muôn_đời ngưỡng_mộ và biết_ơn bác hồ đúng là vị cha già của dân tộc.\n",
      ">> True: 0 | Predict: 1\n",
      "--------------------------------------------------------------------------------\n",
      "bà đức cũng nói về một trường_hợp dân oan khác có những người ví_dụ như thái thị ngọc hơn wwnumberww tuổi rồi nộp đơn_từ lúc tóc còn đen mà đến bây_giờ tóc bạc hơn tóc tôi bà đức năm nay wwnumberww tuổi mà vẫn chưa được giải_quyết nộp đơn_từ cấp dưới nó đẩy lên cấp trên quận_huyện thành_phố thành_phố đẩy lên trung_ương trung_ương lại đá về tỉnh tỉnh lại đá về huyện như thế chúng nó làm dân mình như một quả bóng_đá lên rồi lại đá xuống không giải_quyết đấy chúng ta gọi những người đấy là những người dân oan.\n",
      ">> True: 1 | Predict: 0\n",
      "--------------------------------------------------------------------------------\n",
      "cộng_tác_viên của chúng_tôi đã qua trực_tiếp gặp gia_đình và được gia_đình anh tùng cung_cấp ảnh chụp thi_thể tình_trạng chân bị gãy của anh và các vết_thương trên thân_thể đây là một vụ_án giết người công_an đại_lộc quảng_nam đã giết anh tùng sau đó tạo hiện_trường giả để hòng thoát_tội đang cập_nhật ảnh tối wwnumberww ông lê nho tâm phó trưởng công_an huyện đại_lộc quảng_nam xác_nhận anh trần văn tùng wwnumberww tuổi trú xã hòa khương huyện hòa_vang đà_nẵng chết trong nhà tạm giữ công_an huyện đại_lộc trong tư_thế treo_cổ công_an huyện cũng đã báo_cáo với công_an tỉnh quảng_nam viện kiểm_sát nhân_dân tỉnh quảng_nam và các cơ_quan liên_quan theo thông_tin ban_đầu rạng_sáng wwnumberww công_an xã đại hiệp và công_an huyện đại_lộc bắt quả tang anh trần văn tùng đang cắt trộm dây_cáp điện_thoại tại thôn phú hải xã đại hiệp ngay sau đó tùng được đưa về trụ_sở công_an huyện để lấy lời_khai và đưa vào nhà tạm_giữ lưu giam đến sáng wwnumberww thì phát_hiện anh tùng đã chết trong tư_thế treo_cổ bằng dây_thun quần chiều wwnumberww gia_đình anh tùng đã yêu_cầu đưa thi_thể nạn_nhân đến trung_tâm pháp_y đà_nẵng để khám_nghiệm tử thi.\n",
      ">> True: 1 | Predict: 0\n",
      "--------------------------------------------------------------------------------\n",
      "trước khi bị thu_hồi đất ông ngữ nói ông đã xây_dựng mô_hình vườn ao chuồng trên wwnumberww mét đất mà ông có và nuôi cả gấu lẫn nhím để tăng thu_nhập cho khoản lương hưu wwnumberww triệu mỗi tháng của ông nói tóm_lại họ thấy trang_trại của tôi có nhiều điều_kiện thuận_lợi để thu_nhập mang dáng_dấp đẹp và hoành_tráng thì họ muốn cướp thôi nguyên_tắc là phải chứng_minh có văn_bản hợp_pháp nào để thể_hiện đất nhà_tôi nằm vào quy_hoạch thứ_hai là phải công khải bản_đồ nhưng chả có gì họ dùng quyền_lực nói_chung gọi là ăn_cướp ban_ngày theo ông ngữ cả thủ_tướng và chủ_tịch nước việt_nam đều đã có văn_bản chỉ_đạo giải_quyết nhưng giới_chức ở địa_phương vẫn im_re do họ tham_nhũng ba triệu mét_vuông đất của hàng_trăm hộ ông nói ông được đền_bù wwnumberww đồngm2 trong khi giá trên thực_tế theo ông là hàng chục triệu tôi cũng không chấp_nhận cho họ đền_bù bởi vì tôi yêu_cầu phải chứng_minh đất của tôi nằm vào quy_hoạch nhưng họ cũng không chứng_minh được ông ngữ nói nguyên_tắc là phải chứng_minh có văn_bản hợp_pháp nào để thể_hiện đất nhà_tôi nằm vào quy_hoạch thứ_hai là phải công khải bản_đồ nhưng chả có gì họ dùng quyền_lực nói_chung gọi là ăn_cướp ban_ngày ông ngữ cũng nói ông làm_việc cho nhà_nước hơn wwnumberww năm trong đó có nhiều năm chịu bom_đạn thời cuộc_chiến chống mỹ và giờ chật_vật với cuộc sống.\n",
      ">> True: 0 | Predict: 1\n",
      "--------------------------------------------------------------------------------\n",
      "việc mọi người đồn đãi nguyễn ái_quốc chết năm wwnumberww sau đó có một người là hồ tập chương đóng thay hồ_chí_minh về việt_nam lamvietblog tôi vừa sưu_tầm được một_số bằng_chứng dưới_đây ngờ_vực phải có đến wwnumberww người đóng vai hồ_chí_minh qua ba giai_đoạn vì qua ba giai_đoạn này bút_tích của hồ_chí_minh hoàn_toàn khác_biệt nhau tất_cả hình_ảnh click chuột trái để xem ảnh lớn đầy_đủ wwnumberww wwnumberww nguyễn sinh cung văn ba nguyễn tất thành nguyễn ái_quốc lý thụy thầu chín giai_đoạn này hồ_chí_minh thường_xuyên viết thư tiếng_pháp và tiếng_anh nên chữ quốc_ngữ viết sai lỗi chính_tả báo thanh_niên wwnumberww.\n",
      ">> True: 1 | Predict: 0\n",
      "--------------------------------------------------------------------------------\n",
      "kỷ_niệm wwnumberww năm ngày truyền_thống công_an vn tại hàn_quốc ngày wwnumberww đại_sứ_quán việt_nam tại hàn_quốc tổ_chức lễ kỷ_niệm wwnumberww năm ngày truyền_thống lực_lượng công_an nhân_dân và wwnumberww năm ngày hội toàn dân bảo_vệ an_ninh tổ_quốc tại trụ_sở đại_sứ_quán tham dự sự_kiện có đại_sứ phạm hữu chí và phu_nhân đại_diện các cơ_quan ban ngành trực_thuộc đại_sứ_quán đại_diện hội người việt hội phụ_nữ hội sinh_viên và một_số cán_bộ thuộc bộ công_an đang công_tác học_tập tại thủ_đô seoul ông trương hòa_bình bí_thư trung_ương đảng chánh_án tòa_án nhân_dân tối_cao và đoàn công_tác của tòa_án nhân_dân tối_cao đang có chuyến_thăm và làm_việc tại hàn_quốc cũng tham dự sự_kiện buổi lễ còn có sự góp_mặt của hơn wwnumberww khách_mời là đại_diện cơ_quan an_ninh cảnh_sát tòa_án ngoại_giao của hàn_quốc và đại_diện an_ninh các nước như mỹ ấn_độ mông_cổ philippines malaysia tại thủ_đô seoul ss đại_sứ phạm hữu chí đã ôn lại quá_trình thành_lập xây_dựng chiến_đấu và trưởng_thành của lực_lượng công_an nhân_dân việt_nam khẳng_định lực_lượng công_an nhân_dân luôn xứng_đáng là lực_lượng vũ_trang trọng_yếu của đảng đã đóng_góp to_lớn vào thắng_lợi của sự_nghiệp xây_dựng và bảo_vệ tổ_quốc trong thời_kỳ đổi_mới thực_hiện đường_lối đối_ngoại rộng_mở của đảng và nhà_nước ta lực_lượng công_an nhân_dân cũng luôn nêu cao tinh_thần đoàn_kết quốc_tế chủ_động phát_triển quan_hệ hợp_tác với các cơ_quan an_ninh tình_báo cảnh_sát các nước và các tổ_chức diễn_đàn quốc_tế đại_sứ phạm hữu chí cũng đã nêu bật nội_dung ý_nghĩa của ngày hội toàn dân bảo_vệ an_ninh tổ_quốc và những kết_quả đã đạt được sau wwnumberww năm triển_khai trên toàn_quốc đánh_giá cao sự hợp_tác giữa bộ công_an việt_nam với các cơ_quan chức_năng hàn_quốc cũng như các đối_tác an_ninh tình_báo của các nước khác và mong_muốn tăng_cường hơn nữa sự hợp_tác có hiệu_quả này trong thời_gian tới ss phát_biểu tại buổi lễ ông trương hòa_bình đánh_giá cao việc đại_sứ_quán việt_nam và đại_diện bộ công_an tại hàn_quốc đã tổ_chức sự_kiện chính_trị quan_trọng này qua đó giúp bạn_bè hàn_quốc và quốc_tế hiểu thêm về sự_nghiệp cách_mạng chính_nghĩa vẻ_vang của nhân_dân việt_nam nói_chung và của lực_lượng công_an nhân_dân việt_nam nói_riêng thay_mặt lãnh_đạo đảng và chính_phủ việt_nam đồng_chí trương hòa_bình trao_tặng đại_diện của bộ công_an tại hàn_quốc lẵng hoa mang dòng chữ chúc_mừng lực_lượng công_an nhân_dân việt nam.\n",
      ">> True: 0 | Predict: 1\n",
      "--------------------------------------------------------------------------------\n",
      "ngôi nhà cổ trên căn phố yên_tĩnh ngay trung_tâm hà_nội của nguyên tổng bí_thư được bài_trí khá đơn_giản căn phòng của ông nằm trên gác wwnumberww chỉ có chiếc giường tủ gỗ cùng rất nhiều vật lưu_niệm là những chiếc đồng_hồ khá cũ_kỹ chỉ có chiếc tivi lớn là tương_đối hiện_đại được đặt cạnh giường để ông theo_dõi thời_sự hàng ngày nguyên tổng bí_thư đỗ mười bám dân_chủ tịch mttq nguyễn thiện_nhân quốc_khách cách_mạng tháng wwnumberww hàng ngày nguyên tổng bí_thư đỗ mười vẫn đọc báo xem tivi theo_dõi tin_tức sự_tích tên đỗ mười nguyên tổng bí_thư đỗ mười đã có gần wwnumberww giờ đồng_hồ trò chuyện vui vẻ cởi_mở có lúc còn pha_trò với những câu đùa hóm_hỉnh với chủ_tịch mttq vn nguyễn thiện_nhân nguyên tổng bí_thư đỗ mười bám dân_chủ tịch mttq nguyễn thiện_nhân quốc_khách cách_mạng tháng wwnumberww chủ_tịch mttq vn nguyễn thiện_nhân nói nguyên tổng bí_thư là kho_tàng lịch_sử truyền lại cho con cháu được chủ_tịch mttq vn hỏi về kì_tích vượt_ngục tại nhà tù hỏa_lò năm wwnumberww ông kể một_mạch ba anh_em trong tổ của tôi chui qua cống thoát ra ngoài ra khỏi cống ba anh_em đi ba hướng phải đi vào ban_đêm ban_ngày thì lộ mất tôi về quê để lấy thẻ căn_cước đi hoạt_động người thư_kí cho_biết tên đỗ mười của nguyên tổng bí_thư cũng xuất_phát từ câu_chuyện chui cống vượt_ngục bác vượt_ngục đúng ngày wwnumberww ba_mươi có chữ mươi tức là mười bác thêm từ đỗ thành đỗ mười để làm bí_danh hoạt_động tên thật của bác là nguyễn duy cống cuộc trò_chuyện mỗi lúc một sôi_nổi gợi lại ký_ức từ thời hoạt_động bí_mật trước cách_mạng tháng tám cho đến khi nguyên tổng bí_thư về tiếp_quản hải_phòng năm wwnumberww chủ_tịch mttq hỏi ông lúc tiếp_quản hải_phòng trong wwnumberww ngày ông nhớ chuyện gì nhất ông kể lại rành_mạch việc bảo_vệ tài_sản không cho pháp lấy đi bất cứ của_cải gì pháp có_ý định gỡ máy_móc đem đi đây là vấn_đề ta phải đấu_tranh ông nói bài_học bám dân_chủ tịch mttq nguyễn thiện_nhân nói với giọng cảm_phục về bậc tiền_bối người_kinh qua nhiều chức_vụ từ bí_thư nhiều tỉnh_thành rồi bộ_trưởng nội_thương xây_dựng trước khi làm phó thủ_tướng và sau_cùng là tổng bí_thư ông có bài_học gì dặn_dò cho thế_hệ trẻ chúng con không lúc nào cũng phải bám dân bám dân thì bất cứ khó_khăn nào cũng qua được bất kì ở đâu bám dân cũng làm được nhiều việc nguyên tổng bí_thư đỗ mười đúc_kết nguyên tổng bí_thư đỗ mười bám dân_chủ tịch mttq nguyễn thiện_nhân quốc_khách cách_mạng tháng wwnumberww nguyên tổng bí_thư đỗ mười muốn bám dân tốt theo ông phải làm gì chủ_tịch mttq hỏi tiếp nguyên tổng bí_thư đáp phải lắng_nghe dân bây_giờ cũng vậy vì lợi_ích của dân dân mới bảo_vệ mình ông khuyên nghe vậy chủ_tịch mttq nguyễn thiện_nhân hứa bài_học của ông chúng con xin tiếp_thu và phát_huy để tiếp_tục bám dân tin dân và vì dân gửi lời_chúc sức_khỏe đến nguyên tổng bí_thư đỗ mười chủ_tịch mttq nguyễn thiện_nhân nói ông cứ mãi là kho_tàng lịch_sử truyền lại cho con cháu đời sau chúc mặt_trận đoàn_kết đoàn_kết đại đoàn_kết thành_công thành_công đại thành_công nguyên tổng bí_thư đỗ mười đáp lời rồi tiễn ông nhân ra về.\n",
      ">> True: 0 | Predict: 1\n",
      "--------------------------------------------------------------------------------\n",
      "khi cựu tướng trung_quốc sa_lưới cựu phó chủ_tịch quân_ủy tư tq quách bá hùng từng là thân_tín của của cựu chủ_tịch nước hồ cẩm đào mối thâm_tình này giúp quách trở_thành một trong những nhà lãnh_đạo hàng_đầu trong quân_đội tq tướng trung_quốc giả gái đào_tẩu bất_thành tờ bưu_điện hoa_nam buổi sáng hong_kong dẫn một_số nguồn_tin nội_bộ cho_biết quách bá hùng từng được đảm_bảo một tương_lai quyền_lực vững_chắc khi trở_thành vị tướng đầu_tiên công_khai tuyên_bố trung_thành với ông giang trạch dân khi ông bắt_đầu làm chủ_tịch nước tq tham_nhũng quách bá hùng tập cận bình hồ cẩm đào giang trạch dân tướng quách bá hùng khi còn đương_chức ảnh scmp mối quan_hệ này có_lợi cho cả hai người quách bị cáo_buộc tận_dụng vị_trí của mình đã tạo_lập một mạng_lưới kinh_doanh cá nhân trong khi ông giang trạch dân thì đảm_bảo được sự ủng_hộ của đội_ngũ tướng_lĩnh hàng_đầu tq giữa những năm wwnumberww quách có bài phát_biểu tại cơ_quan chỉ_huy quân_sự bắc_kinh nơi ông làm phó phụ_trách và ông giang trạch dân dự_kiến tới thăm ông giang đã rất vui khi nghe phát_biểu của quách cam_kết trung_thành với lãnh_đạo không lâu sau đó quách được thăng_chức thành người đứng đầu quân_khu lan châu thời_điểm nghỉ_hưu năm wwnumberww quách đã leo lên những tước_vị cao nhất của quân_đội ở vị_trí phó chủ_tịch quân_ủy tq cmc quách bá hùng được phép quyết_định về ngân_sách quốc_phòng chi_tiêu thế nào hay công_ty nào trúng_thầu giờ đây quách bị truy_tố về việc lạm_dụng vị_trí để nhận hối_lộ đây cũng là quan_chức cấp cao mới nhất trở_thành mục_tiêu của chiến_dịch chống tham_nhũng tại tq đỉnh cao sự_nghiệp cuộc điều_tra với quách bá hùng được cho là sẽ lớn hơn nhiều cuộc điều_tra với một cựu tướng khác trong quân_đội từ tài hậu từ cũng là một phó chủ_tịch quân_ủy thời ông giang trạch dân nhưng thăng_chức sau quách hai năm ông_từ qua_đời hồi tháng wwnumberww vì ung_thư trường_hợp của quách nghiêm_trọng hơn nhiều vì những ai muốn được từ ký thăng_chức trước hết phải có sự phê_chuẩn của ông quách một đại_tá tq nghỉ_hưu ở thượng_hải nói thực_tế là quách phụ_trách huấn_luyện quân_sự mua_sắm vũ_khí trong_suốt wwnumberww năm làm phó chủ_tịch quân_ủy tư đây là cơ_hội để ông ấy biển_thủ ngân_quỹ cũng như nhận lại_quả sau những hợp_đồng mua_sắm vũ_khí vị này nhấn_mạnh zhang musheng một cố_vấn cho tướng lưu nguyên chính_trị_viên tổng_cục hậu_cần tq người đang phụ_trách chiến_dịch chống tham_nhũng trong quân_đội từng tiết_lộ một_mình từ tài hậu đã có ít nhất wwnumberww tỉ nhân_dân_tệ từ tiền hối_lộ nhưng còn người khác tồi tệ hơn người này không chỉ dính_líu tới mua quan bán chức mà còn biển_thủ ngân_sách chi_tiêu quân_sự theo một đại_tá nghỉ_hưu ở bắc_kinh quách là nhân_vật trung_tâm phái tây_bắc những tháng gần_đây chủ_tịch tq tập cận bình và báo_chí tq đã nhấn_mạnh tình_trạng phe_phái đặt ra mối đe_dọa nghiêm_trọng với đảng cầm_quyền và không thể được dung_thứ thực_trạng biển_thủ công_quỹ quốc_phòng tại tq được coi là lý_do khiến cả một hệ_thống với những sĩ_quan thăng_chức không phải do kỹ_năng hay phẩm_chất mà là sức nặng tài_chính họ có thể đáp_ứng quách gia_nhập quân_ngũ năm wwnumberww công_tác tại sư_đoàn wwnumberww quân_khu lan châu ông chưa từng trải_qua chiến_đấu như những người tiền_nhiệm vào những năm wwnumberww ông được nâng lên cấp chỉ_huy tại tỉnh cam_túc và năm wwnumberww thành phó chỉ_huy quân_sự ở bắc_kinh năm wwnumberww quách trở_lại làm chỉ_huy quân_sự ở lan châu và khiến người đương_nhiệm phải lùi bước hai năm sau quách được thăng_chức là phó tham_mưu trưởng quân_đội tq phụ_trách việc mua_sắm vũ_khí đào_tạo và chiến_lược khi ông hồ cẩm đào làm tổng bí_thư tq năm wwnumberww ông giang trạch dân tiếp_tục giữ_chức chủ_tịch quân_ủy tư thêm wwnumberww năm quách được bổ_nhiệm làm phó chủ_tịch quân_ủy năm wwnumberww phút sa_cơ thay_đổi bắt_đầu diễn ra trong hàng_ngũ cấp cao nhất của quân_đội tq kể từ khi ông tập cận bình trở_thành phó chủ_tịch quân_ủy năm wwnumberww khi ông hồ cẩm đào chuyển_giao quyền_lực cho ông tập lần đầu_tiên trong nhiều thập_niên cả vị_trí chủ_tịch nước và chủ_tịch quân_ủy tư được chuyển_giao vào tay ông tập khi cựu tướng từ tài hậu ngã_ngựa tháng wwnumberww nhiều đồn_đoán cho rằng ông quách bá hùng sẽ là mục_tiêu tiếp_theo bắt đầu từ tháng wwnumberww năm đó nhiều nhân_vật thân_tín với quách bắt_đầu bị điều_tra tháng wwnumberww năm nay hàng_loạt tướng quân_đội tq đã bị điều_tra sau khi cấp trên của họ bị cáo_buộc tham_nhũng một trong số đó là thiếu_tướng quách chính_cương con_trai của quách bá hùng quách chính_cương được bổ_nhiệm làm phó chính_ủy quân_khu chiết_giang thăng hàm thiếu_tướng hồi tháng wwnumberww chủ_tịch tq tập cận bình đã tiến_hành chiến_dịch chống tham_nhũng mạnh_mẽ từ khi lên nắm quyền cuối năm wwnumberww ông thề sẽ bắt cả hổ lẫn ruồi ông cũng tuyên_bố chống tham_nhũng trong quân_đội là mục_tiêu hàng_đầu trong nỗ_lực hiện_đại hóa quân_đội nước này.\n",
      ">> True: 0 | Predict: 1\n",
      "--------------------------------------------------------------------------------\n",
      "nếu ai hỏi vì_sao quê_hương chúng ta nhiều ngói mới rằng có đắng_cay nên chừ mới có ngọt_bùi nếu ai hỏi vì_sao quê_hương chúng ta đồng_lúa tốt có nhớ những ngày cơ_cực tối_tăm ngày_xưa quảng_bình khoan_khoan hò_khoan bao mến_thương khoan_khoan hò_khoan đã mười năm rồi quê ta bao đổi_thay rồi khoan_khoan hò_khoan từ biển xanh khoan_khoan hò_khoan đến rừng núi xanh khoan_khoan hò_khoan xinh_tươi bốn mùa rộn vang tiếng hò_khoan lệ_thủy trên dòng_sông kiến_giang dạt_dào tình quê ơi chị dân_quân canh_gác ven biển ơi anh chiến_sĩ cang gác bầu_trời mỗi ngày quê ta trưởng_thành hạt_giống cách_mạng đã nảy_mầm xanh_tươi quảng_bình quê ta ơi giữ lấy đất trời của quê_hương ta giữ lấy những gì mà ta yêu qúy quảng_bình quê ta ơi muôn người như một gửi về trịnh thiên tấm_lòng sắt_son hẹn ngày chiến_thắng ta sẽ về trong một nhà có ai về đại_phong xin vô ghé thăm vùng bến tiến tay cuốc khai_hoang đã đẩy_lùi quá_khứ nghèo_nàn có ai về quảng_phú vui nghe tiếng hò kéo lưới hợp_tác chung trời chung biển cá tươi đầy khoang vẻ_vang thay khoan_khoan hò_khoan bao tấm_gương khoan_khoan hò_khoan bám biển đêm ngày khoan_khoan hò_khoan đồng luá xanh khoan_khoan hò_khoan với hàng cây_xanh khoan_khoan hò_khoan vui trên bến thuyền ngược_xuôi giữa dòng nhật lệ như những con thoi suốt ngày từng đoàn xe đi ơi chị thanh_niên phơi muối ven biển ơi anh công_nhân đắn gỗ trên rừng lứa tuổi thanh_xuân hai mươi tuổi_đời cùng với quê_hương lớn_lên rồi cả cuộc_đời mới quảng_bình quê ta ơi giữ lấy đất trời của quê_hương ta giữ lấy những gì mà ta yêu qúy quảng_bình quê ta ơi muôn người như một gửi về trịn thiên tấm_lòng sắt_son hẹn ngày chiến_thắng ta sẽ về trong một nhà có ai về rào nam xin vô ghé thăm vùng cự_nẫm làng chiến_đấu xưa_nay đã đổi_mới muôn_màu có ai về cảnh_dương quê tôi đứng nơi đầu sóng gió truyền_thống đánh_giặc giữ làng mãi mãi còn đây dòng_sông giang khoan_khoan hò_khoan với hàng dương khoan_khoan hò_khoan đời_đời hát ca tên anh những người anh_hùng khoan_khoan hò_khoan có còn nhớ chăng khoan_khoan hò_khoan những ngày kháng_chiến khoan_khoan hò_khoan đêm đêm ngóng_chờ tin thắng trận bến xuân bồ ôi nhớ sao các mẹ các anh_chị dành gạo nuôi quân ơi chị dân_quân canh_gác ven biển ơi anh chiến_sĩ canh_gác bầu_trời mỗi ngày qua quê ta trưởng_thành hạt_giống cách_mạng đã nảy_mầm xanh_tươi quảng_bình quê ta ơi giữ lấy đất trời của quê_hương ta giữ lấy những gì mà ta yêu qúy quảng_bình quê ta ơi muôn người như một gửi về trị thiên tấm_lòng sắt_son hẹn ngày chiến_thắng ta sẽ về trong một nhà.\n",
      ">> True: 0 | Predict: 1\n",
      "--------------------------------------------------------------------------------\n",
      "công_an làm_việc người ngăn ông chấn nhận wwnumberww tỷ ngày wwnumberww công_an tỉnh bắc_giang cho_biết đang xác_minh đơn thư kiến_nghị của bà nguyễn thị thu hà wwnumberww tuổi trú ở xã song_mai tp bắc_giang tỉnh bắc_giang nhân_chứng mới trong vụ_án mà ông nguyễn thanh chấn bị oan ai cung_cấp bản thú_tội của ông chấn cho nhân_chứng khá bất_ngờ khi trong tài_liệu trình lên hđxx phiên_tòa lý nguyễn chung nhân_chứng mới đã đưa ra bản thú_tội của ông nguyễn thanh chấn bà hà cũng xác_nhận thông_tin cơ_quan cảnh_sát điều_tra công_an tỉnh bắc_giang đã làm_việc sau khi bà có đơn kiến_nghị việc hoãn bồi_thường wwnumberww tỷ đồng cho ông nguyễn thanh chấn và tố_cáo ông chấn khai_báo gian_dối ngoài ra cơ_quan điều_tra còn làm_việc với bà để làm rõ nguồn_gốc bản tự_thú của ông nguyễn thanh chấn mà bà hà có trong tay ông chấn oan nhân_chứng mới bà hà tại phiên xử_lý nguyễn chung trước đó chiều wwnumberww bà_thân thị hải người đã giúp ông nguyễn thanh chấn kêu_oan suốt wwnumberww năm cho_biết bà đã làm đơn tố_cáo nhân_chứng mới yêu_cầu làm rõ bà hà đã lấy một_số tài_liệu là đơn tự_thú của ông chấn biên_bản giao_nộp người khi ông chấn bị bắt cách đây wwnumberww năm ở đâu theo bà hải những lời_nói của bà hà tại phiên xử_lý nguyễn chung trước nhiều người tham_gia dự tòa và các cơ_quan báo_chí đã xúc_phạm đến danh_dự uy_tín của bà hải nên bà đã làm đơn tố_cáo bà hà vì cho rằng bà hà đã có hành_vi vu_khống bịa_đặt việc bà hải chạy án cho ông chấn và sau hôm tand tỉnh bắc_giang tuyên lý nguyễn chung wwnumberww năm tù giam khẳng_định ông chấn vô_tội bà hà đã làm truyền_đơn rải khắp từ nhà bà hà đến gần thôn me tuyên_án lý nguyễn chung xác_minh thêm lời_khai nhân_chứng sáng wwnumberww sau hơn wwnumberww ngày xét_xử hđxx nhận_định đã đủ căn_cứ xác_định lý nguyễn chung là hung_thủ vụ giết chị nguyễn thị hoan tại thôn me và tuyên_phạt chung wwnumberww năm tù giam trong truyền_đơn bà hà nói ông chấn mới là hung_thủ giết chị hoan tôi là người chạy án cho ông chấn bà ta đòi hủy quyết_định bồi_thường wwnumberww tỷ đồng cho ông chấn và đề_nghị khởi_tố ông chấn hành_vi khai_báo gian_dối bà hà còn in kèm theo một_số tài_liệu là đơn tự_thú của ông chấn biên_bản giao_nộp người khi ông chấn bị bắt cách đây wwnumberww năm biên_bản tiếp_nhận đối_tượng tự_thú tôi yêu_cầu làm rõ ai là người đưa cho bà hà những tài_liệu này ai là người đứng sau bà hà nếu những lời bà hà nói là không đúng thì yêu_cầu bắt_giam bà ta để điều_tra bà hải thể_hiện sự bức_xúc về phía bà hà bà này cho_biết tôi không có truyền_đơn gì cả bà hải vu_khống tôi_mọi điều tôi đều nói tại tòa rồi thì còn rải truyền_đơn làm gì việc tôi lấy bản tự_thú ở đâu ra và có ai đứng đằng_sau trước tòa tôi đã trả_lời hđxx không có ai đứng đằng_sau tôi không có ai giật_dây tôi vì tôi đã wwnumberww tuổi_đời không phải là trẻ_con còn bản tự_thú và biên_bản tiếp_nhận đối_tượng tự_thú là người_nhà của bị_hại đưa cho tôi trong lá_đơn gần_đây mà bà hà gửi đến cơ_quan chức_năng bà ta tố ngược bà hải cho rằng mình bị vu_khống bị bà hải loan_tin bịa_đặt bằng các hình_thức rải tờ_rơi thuê một_số đối_tượng lên mạng chửi_bới nhục_mạ bêu_xấu bà hà trước đó vào ngày wwnumberww trong phiên xử_lý nguyễn chung ngoài việc tuyên lý nguyễn chung mức án wwnumberww năm tù giam khẳng_định ông nguyễn thanh chấn bị oan tand tỉnh bắc_giang đã kiến_nghị cơ_quan cảnh_sát điều_tra điều_tra bổ_sung xác_minh lời_khai của bà hà để tránh oan sai.\n",
      ">> True: 0 | Predict: 1\n",
      "--------------------------------------------------------------------------------\n",
      "trong đó ông dũng cho rằng đối với wwnumberww công_trình và hạng_mục bị cho là xây_dựng không phép thì chủ_yếu đó là các công_trình phụ như phòng bán vé mái_che mưa_nắng và trước đây ubnd tỉnh đã cho công_ty đại_nam được vừa xây_dựng vừa hoàn_chỉnh thủ_tục xây_dựng về việc truy_thu thuế ông dũng cho rằng trước đây đã có nhiều đoàn thanh_tra tới công_ty có cả kiểm_toán nhà_nước tới kiểm_toán nhưng nay đoàn thanh_tra bắt bóc tách từng hoạt_động kinh_doanh để tính thuế và truy_thu sẽ gây thiệt_thòi cho doanh_nghiệp tôi đã chỉ_đạo anh_em ngay khi có quyết_định xử_phạt và truy_thu thuế thì trong vòng wwnumberww giờ công_ty đại_nam sẽ nộp ngay tiền vào tài_khoản kho_bạc của nhà_nước sau đó trong thời_hạn quy_định của pháp_luật được khiếu_nại là wwnumberww ngày thì chúng_tôi sẽ tiếp_tục khiếu_nại tiếp ông huỳnh uy dũng nói.\n",
      ">> True: 0 | Predict: 1\n",
      "--------------------------------------------------------------------------------\n"
     ]
    }
   ],
   "source": [
    "for i, label in enumerate(predictions):\n",
    "    if predictions[i] != test_labels[i]: \n",
    "        print test_docs[i]\n",
    "        print \">> True: {} | Predict: {}\".format(test_labels[i], predictions[i])\n",
    "        print '-' * 80"
   ]
  },
  {
   "cell_type": "code",
   "execution_count": null,
   "metadata": {
    "collapsed": true
   },
   "outputs": [],
   "source": []
  }
 ],
 "metadata": {
  "kernelspec": {
   "display_name": "Python 2",
   "language": "python",
   "name": "python2"
  },
  "language_info": {
   "codemirror_mode": {
    "name": "ipython",
    "version": 2
   },
   "file_extension": ".py",
   "mimetype": "text/x-python",
   "name": "python",
   "nbconvert_exporter": "python",
   "pygments_lexer": "ipython2",
   "version": "2.7.9"
  }
 },
 "nbformat": 4,
 "nbformat_minor": 0
}
