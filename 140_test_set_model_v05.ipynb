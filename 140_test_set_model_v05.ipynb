{
 "cells": [
  {
   "cell_type": "code",
   "execution_count": 7,
   "metadata": {
    "collapsed": true
   },
   "outputs": [],
   "source": [
    "import re \n",
    "import string\n",
    "import unicodedata\n",
    "import sys\n",
    "\n",
    "STOPWORDS = [u\"ấy\", u\"bị\", u\"bởi\", u\"cả\", u\"các\", u\"cái\", u\"cần\", u\"càng\", u\"chỉ\", u\"chiếc\", u\"cho\", u\"chứ\", u\"chưa\", \n",
    "             u\"chuyện\", u\"có\", u\"có_thể\", u\"cứ\", u\"của\", u\"cùng\", u\"cũng\", u\"đã\", u\"đang\", u\"đây\", u\"để\", u\"đến_nỗi\", \n",
    "             u\"đều\", u\"điều\", u\"do\", u\"đó\", u\"được\", u\"dưới\", u\"gì\", u\"khi\", u\"không\", u\"là\", u\"lại\", u\"lên\", u\"lúc\", \n",
    "             u\"mà\", u\"mỗi\", u\"một cách\", u\"này\", u\"nên\", u\"nếu\", u\"ngay\", u\"nhiều\", u\"như\", u\"nhưng\", u\"những\", u\"nơi\", \n",
    "             u\"nữa\", u\"phải\", u\"qua\", u\"ra\", u\"rằng\", u\"rất\", u\"rồi\", u\"sau\", u\"sẽ\", u\"so\", u\"sự\", u\"tại\", u\"theo\", \n",
    "             u\"thì\", u\"trên\", u\"trước\", u\"từ\", u\"từng\", u\"và\", u\"vẫn\", u\"vào\", u\"vậy\", u\"vì\", u\"việc\", u\"với\", u\"vừa\",\n",
    "             u\"_num\", u\"wwdateww\", u\"wwtimeww\", u\"wwemailww\", u\"wwipww\", u\"wwurlww\", u\"wwnumberww\"\n",
    "            ]\n",
    "\n",
    "tbl = dict.fromkeys(i for i in xrange(sys.maxunicode)\n",
    "                      if unicodedata.category(unichr(i)).startswith('P') and i != 45 and i!= 95)\n",
    "\n",
    "def vi_trans_unicode(su):\n",
    "    return su.translate(tbl)\n",
    "\n",
    "def vi_strip_text2(s):\n",
    "    s = re.sub(r\"&amp;\", \"\", s)\n",
    "    s = vi_trans_unicode(s)\n",
    "    s = re.sub(r\"<([^>]+)>\", \"\", s)\n",
    "    s = re.sub(r\"(\\s|\\\\n|\\\\r|\\\\t)+\", \" \", s)\n",
    "    s = re.sub(r\"__+\", \"_\", s)\n",
    "    s = re.sub(r\"--+\", \"-\", s)\n",
    "    s = ' '.join([w if not w[0].isdigit() else u\"wwNUMBERww\" for w in s.strip().split()])\n",
    "    return s\n",
    "\n",
    "def vi_clean3(line):\n",
    "    words = line.replace('.','').strip().split()\n",
    "    words = [w.lower() for w in words]\n",
    "    return ' '.join(words)\n",
    "\n",
    "def vi_remove_stop_1char(line):\n",
    "    words = line.replace('.','').strip().split()\n",
    "    words = [w for w in words if w not in STOPWORDS and len(w) > 1]\n",
    "    return ' '.join(words)\n",
    "\n",
    "import requests\n",
    "import codecs\n",
    "import json\n",
    "\n",
    "tok_url = \"http://192.168.0.215:8081/api/v1.0/document/filter?\"\n",
    "\n",
    "def get_tokens(tok_url, data):\n",
    "    try:\n",
    "        rq = requests.post(tok_url, data=vi_remove_stop_1char(vi_clean3(vi_strip_text2(data))).encode('utf-8'))\n",
    "        if rq.content:\n",
    "            tok_doc = ' '.join(json.loads(rq.content)['sentences'])\n",
    "        else:\n",
    "            tok_doc = None\n",
    "        return tok_doc\n",
    "    except Exception, e:\n",
    "        print e"
   ]
  },
  {
   "cell_type": "markdown",
   "metadata": {},
   "source": [
    "## Loading Test"
   ]
  },
  {
   "cell_type": "code",
   "execution_count": 1,
   "metadata": {
    "collapsed": true
   },
   "outputs": [],
   "source": [
    "import requests\n",
    "import codecs\n",
    "import json\n",
    "import pandas as pd"
   ]
  },
  {
   "cell_type": "code",
   "execution_count": 2,
   "metadata": {
    "collapsed": true
   },
   "outputs": [],
   "source": [
    "df = pd.read_json(\"/home/laampt/nlp/data/private/df_test.json\")"
   ]
  },
  {
   "cell_type": "code",
   "execution_count": 3,
   "metadata": {
    "collapsed": false
   },
   "outputs": [
    {
     "data": {
      "text/html": [
       "<div>\n",
       "<table border=\"1\" class=\"dataframe\">\n",
       "  <thead>\n",
       "    <tr style=\"text-align: right;\">\n",
       "      <th></th>\n",
       "      <th>Doc</th>\n",
       "      <th>Doc_Clean</th>\n",
       "      <th>Num_Words</th>\n",
       "      <th>Target</th>\n",
       "    </tr>\n",
       "  </thead>\n",
       "  <tbody>\n",
       "    <tr>\n",
       "      <th>0</th>\n",
       "      <td>Công bố kết quả kiểm tra, giám sát, đôn đốc cô...</td>\n",
       "      <td>công_bố kết_quả kiểm_tra giám_sát đôn_đốc công...</td>\n",
       "      <td>708</td>\n",
       "      <td>0</td>\n",
       "    </tr>\n",
       "    <tr>\n",
       "      <th>1</th>\n",
       "      <td>VTV1 KHÉO LÉO QUẢNG BÁ CUỘC GẶP CỦA TỔNG THỐNG...</td>\n",
       "      <td>vtv1 khéo_léo quảng_bá cuộc gặp của tổng_thống...</td>\n",
       "      <td>97</td>\n",
       "      <td>1</td>\n",
       "    </tr>\n",
       "    <tr>\n",
       "      <th>10</th>\n",
       "      <td>Đẩy mạnh xoá đói, giảm nghèo, hạn chế phân hoá...</td>\n",
       "      <td>đẩy_mạnh xoá đói giảm nghèo hạn_chế phân_hoá g...</td>\n",
       "      <td>1136</td>\n",
       "      <td>0</td>\n",
       "    </tr>\n",
       "    <tr>\n",
       "      <th>100</th>\n",
       "      <td>CON CỦA THỦ TƯỚNG NGUYỄN TẤN DŨNG\\n\\n Chúng tô...</td>\n",
       "      <td>con của thủ_tướng nguyễn tấn dũng chúng_tôi bắ...</td>\n",
       "      <td>1249</td>\n",
       "      <td>1</td>\n",
       "    </tr>\n",
       "    <tr>\n",
       "      <th>101</th>\n",
       "      <td>Dốc toàn lực tìm người mất tích vụ tai nạn lò ...</td>\n",
       "      <td>dốc toàn lực tìm người mất_tích vụ tai_nạn lò ...</td>\n",
       "      <td>303</td>\n",
       "      <td>0</td>\n",
       "    </tr>\n",
       "  </tbody>\n",
       "</table>\n",
       "</div>"
      ],
      "text/plain": [
       "                                                   Doc  \\\n",
       "0    Công bố kết quả kiểm tra, giám sát, đôn đốc cô...   \n",
       "1    VTV1 KHÉO LÉO QUẢNG BÁ CUỘC GẶP CỦA TỔNG THỐNG...   \n",
       "10   Đẩy mạnh xoá đói, giảm nghèo, hạn chế phân hoá...   \n",
       "100  CON CỦA THỦ TƯỚNG NGUYỄN TẤN DŨNG\\n\\n Chúng tô...   \n",
       "101  Dốc toàn lực tìm người mất tích vụ tai nạn lò ...   \n",
       "\n",
       "                                             Doc_Clean  Num_Words  Target  \n",
       "0    công_bố kết_quả kiểm_tra giám_sát đôn_đốc công...        708       0  \n",
       "1    vtv1 khéo_léo quảng_bá cuộc gặp của tổng_thống...         97       1  \n",
       "10   đẩy_mạnh xoá đói giảm nghèo hạn_chế phân_hoá g...       1136       0  \n",
       "100  con của thủ_tướng nguyễn tấn dũng chúng_tôi bắ...       1249       1  \n",
       "101  dốc toàn lực tìm người mất_tích vụ tai_nạn lò ...        303       0  "
      ]
     },
     "execution_count": 3,
     "metadata": {},
     "output_type": "execute_result"
    }
   ],
   "source": [
    "df.head(5)"
   ]
  },
  {
   "cell_type": "code",
   "execution_count": 5,
   "metadata": {
    "collapsed": false
   },
   "outputs": [
    {
     "name": "stdout",
     "output_type": "stream",
     "text": [
      "140 140\n"
     ]
    }
   ],
   "source": [
    "test_docs = df.Doc_Clean.values\n",
    "test_labels = df.Target.values\n",
    "\n",
    "print len(test_docs), len(test_labels)"
   ]
  },
  {
   "cell_type": "code",
   "execution_count": 8,
   "metadata": {
    "collapsed": false
   },
   "outputs": [
    {
     "name": "stdout",
     "output_type": "stream",
     "text": [
      "[*] Progress  0\n",
      "[*] Progress  100\n",
      "140\n"
     ]
    }
   ],
   "source": [
    "test_docs_clean = []\n",
    "for i, raw in enumerate(test_docs):\n",
    "    if i % 100 == 0: print \"[*] Progress \", i\n",
    "    doc = vi_remove_stop_1char(vi_clean3(vi_strip_text2(raw)))\n",
    "    test_docs_clean.append(doc)\n",
    "    \n",
    "print len(test_docs_clean)"
   ]
  },
  {
   "cell_type": "code",
   "execution_count": 9,
   "metadata": {
    "collapsed": true
   },
   "outputs": [],
   "source": [
    "test_docs_list = [doc.split() for doc in test_docs_clean]"
   ]
  },
  {
   "cell_type": "markdown",
   "metadata": {},
   "source": [
    "## Loading models"
   ]
  },
  {
   "cell_type": "code",
   "execution_count": 10,
   "metadata": {
    "collapsed": true
   },
   "outputs": [],
   "source": [
    "from sklearn.externals import joblib\n",
    "\n",
    "lr_tfidf = joblib.load(\"/home/laampt/nlp/train/estimator/19/lr_tfidf_268a_90auc.pkl\")\n",
    "svc_tfidf = joblib.load(\"/home/laampt/nlp/train/estimator/19/svc_tfidf_268a_90auc.pkl\")\n",
    "vectorizer_tfidf = joblib.load(\"/home/laampt/nlp/train/estimator/19/vectorizer_tfidf_268a_90auc.pkl\")"
   ]
  },
  {
   "cell_type": "markdown",
   "metadata": {},
   "source": [
    "## Tranform"
   ]
  },
  {
   "cell_type": "code",
   "execution_count": 11,
   "metadata": {
    "collapsed": true
   },
   "outputs": [],
   "source": [
    "test_data_features2 = vectorizer_tfidf.transform(test_docs_clean)\n",
    "test_data_features2 = test_data_features2.toarray()"
   ]
  },
  {
   "cell_type": "code",
   "execution_count": 12,
   "metadata": {
    "collapsed": false
   },
   "outputs": [
    {
     "name": "stdout",
     "output_type": "stream",
     "text": [
      "(140, 10000) (140,)\n"
     ]
    }
   ],
   "source": [
    "print test_data_features2.shape, test_labels.shape"
   ]
  },
  {
   "cell_type": "markdown",
   "metadata": {},
   "source": [
    "## Performance report"
   ]
  },
  {
   "cell_type": "code",
   "execution_count": 13,
   "metadata": {
    "collapsed": false
   },
   "outputs": [],
   "source": [
    "from sklearn import metrics\n",
    "import numpy as np"
   ]
  },
  {
   "cell_type": "code",
   "execution_count": 15,
   "metadata": {
    "collapsed": false
   },
   "outputs": [
    {
     "name": "stdout",
     "output_type": "stream",
     "text": [
      "LR: 0.4, SVC: 0.6\n",
      "Mega Combinator:\n",
      "             precision    recall  f1-score   support\n",
      "\n",
      "          0       0.90      0.94      0.92        81\n",
      "          1       0.91      0.86      0.89        59\n",
      "\n",
      "avg / total       0.91      0.91      0.91       140\n",
      "\n",
      "Mega Classifier: 0.90 AUC\n",
      "\n"
     ]
    }
   ],
   "source": [
    "w =0.4\n",
    "print \"LR: {}, SVC: {}\".format(w,1-w)\n",
    "mega_predictions = []\n",
    "for vec in test_data_features2:\n",
    "    prediction = lr_tfidf.predict(vec) * w + svc_tfidf.predict(vec) * (1-w)\n",
    "    prediction = 1 if (prediction[0] > 0.5) else 0\n",
    "    mega_predictions.append(prediction)\n",
    "print 'Mega Combinator:\\n{}'.format(metrics.classification_report(test_labels, mega_predictions))\n",
    "print('Mega Classifier: {:.2f} AUC'.format(metrics.roc_auc_score(test_labels, mega_predictions)))\n",
    "print"
   ]
  },
  {
   "cell_type": "markdown",
   "metadata": {
    "collapsed": false
   },
   "source": [
    "## Visualization"
   ]
  },
  {
   "cell_type": "code",
   "execution_count": 16,
   "metadata": {
    "collapsed": true
   },
   "outputs": [],
   "source": [
    "%matplotlib inline \n",
    "\n",
    "import matplotlib as mlp\n",
    "import matplotlib.pyplot as plt\n",
    "plt.style.use('fivethirtyeight') # Good looking plots\n",
    "pd.set_option('display.max_columns', None) # Display any number of columns\n",
    "\n",
    "import seaborn as sns"
   ]
  },
  {
   "cell_type": "code",
   "execution_count": 17,
   "metadata": {
    "collapsed": false
   },
   "outputs": [
    {
     "data": {
      "image/png": "[encoded data removed]",
      "text/plain": [
       "<matplotlib.figure.Figure at 0x7fd77186e590>"
      ]
     },
     "metadata": {},
     "output_type": "display_data"
    }
   ],
   "source": [
    "cm = metrics.confusion_matrix(test_labels, np.array(mega_predictions))\n",
    "\n",
    "fix, ax = plt.subplots(figsize=(5, 5))\n",
    "plt.suptitle('Confusion Matrix of Mega Classifiers on 140 Test ')\n",
    "plt.subplot(1, 1, 1)\n",
    "sns.heatmap(cm, annot=True,  fmt='');"
   ]
  },
  {
   "cell_type": "code",
   "execution_count": 21,
   "metadata": {
    "collapsed": false
   },
   "outputs": [
    {
     "name": "stdout",
     "output_type": "stream",
     "text": [
      "thế_giới đang đứng trước thời_khắc trọng_đại của lịch_sử là đã tiến vào thập_niên đầu của thế_kỷ xxi với một nền văn_minh rực_rỡ nhưng cũng ngổn_ngang những vấn_đề gay_gắt mang tính toàn_cầu nó chứa_đựng trong mình cả niềm_vui và sự bất_hạnh cả nụ_cười và nước mắt cả hạnh_phúc và lo_toan một trong những nỗi lo toàn_cầu nỗi đau nhân_loại là sự đói_nghèo trầm_trọng trên một phạm_vi vô_cùng rộng_lớn như thế đủ thấy đói_nghèo và giải_quyết vấn_đề nghèo_đói mang tính phổ_biến không chỉ là công_việc của_riêng nước ta tuy nhiên để hiểu về chương_trình xóa đói giảm nghèo ở nước ta một cách đầy_đủ cần_thiết phải có cách nhìn tổng_quan cần biết người biết ta để rút ra những bài_học và tìm ra những phương_pháp hữu_hiệu wwnumberww đói_nghèo và việc giải_quyết đói_nghèo trên thế_giới cho đến hôm_nay đói_nghèo vẫn là nỗi ám_ảnh thường_trực đối với cả loài_người thế_giới đã chứng_kiến những thảm_họa của chiến_tranh thảm_họa của thiên_tai dịch_bệnh với bao nỗi kinh_hoàng thế nhưng hậu_quả do những nạn_đói gây ra cũng vô_cùng khủng_khiếp điều đáng_sợ hơn nữa là nếu như các cuộc chiến_tranh dù khốc_liệt vô_cùng nhưng rồi trước_sau cũng được giải_quyết nếu như những thảm_họa do thiên_tai dịch_bệnh gây ra từng bước cũng sẽ được khắc_phục thì vấn_đề nghèo_đói của nhân_loại lại là một vấn_đề vừa cấp_bách vừa phức_tạp lại như một căn_bệnh kinh_niên khó bề chạy_chữa đói_nghèo là nỗi bất_hạnh và là một phi_lý lớn trong khi nền văn_minh thế_giới đã đạt được những thành_tựu hiển_nhiên về tiến_bộ khoa_học công_nghệ làm tăng đáng_kể của_cải vật_chất xã_hội tăng thêm vượt_bậc sự giàu_có cho con người thì thảm_cảnh đeo_đẳng mãi trên lưng con_người lại vẫn là sự nghèo_đói hàng tỷ người thực_tế là một_phần ba số dân thế_giới vẫn khốn_cùng và đói_khát thiệt_thòi lớn nhất là trẻ_em hằng_ngày có gần wwnumberww triệu trẻ_em không có cái ăn trên wwnumberww triệu trẻ_em vô gia_cư chỉ sống nhờ của bố_thí hoặc sống dựa vào sự lao_động quá sức kể_cả bằng các nghề đặc_biệt là móc_túi mại_dâm trên wwnumberww triệu trẻ_em làm_việc trong những ngành có hại hàng_trăm triệu trẻ_em tuổi từ wwnumberww wwnumberww không được cắp sách đến trường đói_nghèo diễn ra trên tất_cả các châu_lục với những mức_độ khác nhau đặc_biệt ở các nước đang phát_triển sự đói_nghèo của dân_cư đang là một vấn_đề nhức_nhối rất cấp_bách phải tháo gỡ nhưng cũng vô_cùng khó_khăn trong việc thực_hiện xóa đói giảm nghèo sự nghèo_đói thì ai cũng thấy và không nước nào thiếu những chương_trình hoặc những chính_sách để thực_hiện việc xóa đói giảm nghèo có rất nhiều các tổ_chức của liên_hợp_quốc và của cộng_đồng quốc_tế thực_hiện sứ_mệnh vẻ_vang này trên phạm_vi hành_tinh người ta đã tổ_chức những chiến_dịch lớn với hàng vạn tấn lương_thực hàng triệu usd để cứu_giúp những người hoạn_nạn ở các nước châu_phi châu_á hoặc như ở haiti vừa_qua sự giúp_đỡ về vật_chất và tinh_thần là rất đáng_kể tuy nhiên thực_tế cho thấy dù đây là công_việc mà toàn_cầu quan_tâm nhưng rồi các nước đói vẫn hoàn đói sự trợ_giúp của cộng_đồng đối với một bộ_phận dân_cư khốn_khó cũng chỉ như muối bỏ biển chưa đủ độ chưa triệt_để vấn_đề xóa đói giảm nghèo luôn gắn_bó và chịu ảnh_hưởng của quan_hệ giai_cấp và các chế_độ xã_hội khác nhau hiện_tượng bị tha_hóa và tự tha_hóa con_người dưới chế_độ tư_bản chủ_nghĩa luôn là một lực_cản đối với công_việc xóa đói giảm nghèo chính xã_hội mà mục_tiêu duy_nhất và cuối_cùng là lợi_nhuận là tiền_bạc đã làm phân_hóa xã_hội đẩy nhiều người vào cảnh nghèo nàn khốn_khó khoảng_cách chênh_lệch mức_sống giữa sự xa_xỉ với sự bần_hàn càng bị nặng_nề hơn bởi chính_sự vô trách_nhiệm của các nước phát_triển phương_tây của giai_cấp những người giàu_có thái_độ sống chết mặc bay vẫn phổ_biến trong hành_vi cư_xử ở xã_hội của những kẻ say lợi_nhuận vì vậy quan_điểm cũng như hành_động của giới_chức phương_tây trong việc giải_quyết nghèo_đói trên thế_giới hiện_nay chỉ giới_hạn trong phạm_vi hẹp chỉ là để làm giảm cơn đau khốn_khó hoặc cùng_lắm đó là việc_làm mang tính nhân_đạo mà thôi wwnumberww quan_điểm của đảng và nhà_nước ta về việc xóa đói giảm nghèo đảng ta coi cơ_sở phương_pháp luận quan_trọng và cơ_bản nhất để phân_tích vấn_đề đói_nghèo và xóa đói giảm nghèo là giải_phóng con_người khỏi mọi áp_bức bất_công thực_hiện công_bằng xã_hội chủ_nghĩa xã_hội là quá_trình kiến_tạo hạnh_phúc và cũng là quá_trình đấu_tranh vì sự công_bằng đấu_tranh để thủ_tiêu nguồn_gốc bất_công xã_hội ngay từ những ngày đầu mới thành_lập nước việt_nam dân_chủ cộng_hòa một trong những nhiệm_vụ đầu_tiên mà bác hồ đã chỉ_đạo là chống giặc đói vấn_đề công_bằng xã_hội vấn_đề có quan_hệ trực_tiếp và quyết_định đối với việc xóa đói giảm nghèo đã được đảng ta luôn quan_tâm chú_ý những đại_hội đảng gần_đây từ đại_hội vi đến đại_hội đảng ta đã có nhiều nghị_quyết nhiều văn_bản đề_cập tới vấn_đề công_bằng xã_hội chúng ta hiểu công_bằng xã_hội vừa là mục_tiêu vừa là động_lực để phát_triển công_bằng xã_hội không bó_hẹp trong lĩnh_vực kinh_tế mà liên_quan tới tất_cả các lĩnh_vực kinh_tế chính_trị pháp_luật văn_hóa xã_hội công_bằng xã_hội phải được giải_quyết và chỉ có thể được giải_quyết gắn_liền với sự phát_triển sản_xuất xây_dựng xã_hội thực_sự dân_chủ xây_dựng nhà_nước pháp_quyền xã_hội chủ_nghĩa xây_dựng nền văn_hóa tiên_tiến đậm_đà bản_sắc dân_tộc việt_nam công_bằng xã_hội đòi_hỏi phải huy_động mọi nguồn_lực trong nhân_dân xã_hội hóa nhiệm_vụ đền_ơn đáp nghĩa xây_dựng và thực_hiện tốt kế_hoạch phát_triển kinh_tế xã_hội trên cơ_sở vừa tăng nhanh tốc_độ phát_triển vừa giảm dần sự mất cân_đối giữa các vùng giảm dần khoảng_cách về thu_nhập mức_sống hưởng_thụ giáo_dục văn_hóa bảo_vệ sức_khỏe của các tầng_lớp dân_cư ở các vùng khác nhau đặc_biệt công_bằng xã_hội đòi_hỏi phải thực_hiện tốt chương_trình xóa đói giảm nghèo an_sinh xã_hội trong các văn_kiện quan_trọng của đảng cộng_sản việt_nam vấn_đề xóa đói giảm nghèo được nhiều lần đề_cập tới để bảo_đảm và hướng tới công_bằng xã_hội đảng ta khẳng_định khuyến_khích làm_giàu hợp_pháp chống làm_giàu phi_pháp đi đôi với chăm_lo xóa đói giảm nghèo thu_hẹp dần khoảng_cách về trình_độ phát_triển về mức_sống giữa các vùng căn_cứ cách_mạng và kháng_chiến cũ các gia_đình thuộc diện chính_sách làm cho mọi người mọi nhà đều tiến tới cuộc_sống ấm no hạnh_phúc ai cũng có việc_làm có cơm ăn áo mặc ai cũng được học_hành và chữa bệnh từng bước thực_hiện điều chủ_tịch hồ_chí_minh hằng mong_ước trong quá_trình thiết_kế chỉ_đạo thi công_việc xây_dựng nền kinh_tế thị_trường theo định_hướng xã_hội chủ_nghĩa trên cơ_sở nắm_bắt những mặt mạnh và mặt_yếu của cơ_chế thị_trường đảng ta đã đưa ra những quan_điểm chỉ_đạo để phát_triển sức sản_xuất cần phát_huy khả_năng của mọi thành_phần kinh_tế thừa_nhận trên thực_tế còn có bóc_lột và sự phân_hóa giàu nghèo nhất định trong xã_hội nhưng phải luôn quan_tâm bảo_vệ lợi_ích của người lao_động vừa khuyến_khích làm_giàu hợp_pháp chống làm_giàu phi_pháp vừa coi_trọng xóa đói giảm nghèo từng bước thực_hiện công_bằng xã_hội tiến tới làm cho mọi người mọi nhà đều khá_giả chú_trọng đúng mức đến vấn_đề đói_nghèo trong xã_hội với nhãn_quan chính_trị nhạy_bén và với trách_nhiệm cao_cả trước nhân_dân đảng ta đã đưa ra những chương_trình rộng_lớn để tập_trung giải_quyết là chương_trình về xóa đói giảm nghèo trên cơ_sở đó nhà_nước cũng đã có hàng chục chương_trình cấp quốc_gia và dự_án đang được thực_thi có nội_dung gắn với xóa đói giảm nghèo wwnumberww một_số luận_điểm và chính_sách cụ_thể một là xóa đói giảm nghèo vừa là nhiệm_vụ cơ_bản lâu_dài vừa là nhiệm_vụ trọng_tâm trước_mắt tính lâu_dài của xóa đói giảm nghèo là do thứ nhất xóa đói giảm nghèo là nội_dung và nhiệm_vụ cần thực_hiện để bảo_đảm công_bằng xã_hội thực_tiễn cho thấy có những nguyên_nhân nảy_sinh nghèo_đói không phải do môi_trường xã_hội không do điều_kiện kinh_tế địa_lý mà do hoàn_cảnh và đặc_điểm của từng cá_nhân từng hộ gia_đình những trường_hợp này luôn có khả_năng xuất_hiện và việc xóa đói giảm nghèo mang tính thường_trực thứ_hai chủ_trương của đảng ta phát_triển kinh_tế nhiều thành_phần là một định_hướng chiến_lược nền kinh_tế vận_hành theo cơ_chế thị_trường luôn có xu_hướng phân_hóa hai cực giàu nghèo vì vậy cùng với việc tăng_cường sự quản_lý của nhà_nước theo định_hướng xã_hội chủ_nghĩa thường_xuyên và liên_tục lâu_dài thì nhiệm_vụ xóa đói giảm nghèo nhất là giảm nghèo cũng là vấn_đề liên_tục và lâu_dài mới giải_quyết được thứ ba dân giàu nước mạnh là mục_tiêu cơ_bản của chủ_nghĩa xã_hội thực_hiện mục_tiêu này là một quá_trình phấn_đấu gian_khổ lâu_dài xóa đói giảm nghèo vừa có tính cơ_bản và cần thực_hiện liên_tục lâu_dài lại là một công_việc cần_kíp trước_mắt bởi vì sự_nghiệp cách_mạng và công_cuộc đổi_mới luôn đặt ra nhiệm_vụ mỗi bước phát_triển kinh_tế xã_hội là một bước cải_thiện đời_sống của nhân_dân bởi vì đây không chỉ là việc thực_hiện truyền_thống đạo_lý của dân_tộc thương người như thể thương thân mà còn là nhiệm_vụ để bảo_đảm ổn_định xã_hội củng_cố khối đại đoàn_kết dân_tộc hai là tăng_trưởng kinh_tế là điều_kiện giúp cho việc xóa đói giảm nghèo nhưng đây là hai nhiệm_vụ có tính độc_lập tương_đối và không phải là một có người cho rằng muốn xóa đói giảm nghèo trước hết phải đầu_tư phát_triển sản_xuất để tăng_trưởng kinh_tế chỉ đến khi kinh_tế đã phát_triển đến giai_đoạn nhất định sẽ hết đói_nghèo vì thế không nên đặt vấn_đề xóa đói giảm nghèo là nhiệm_vụ lâu_dài và trọng_yếu thực_ra tăng_trưởng kinh_tế có ảnh_hưởng đến việc giải_quyết vấn_đề nghèo_đói bởi vì nguyên_nhân chính yếu của đói_nghèo nói_chung là do kinh_tế chưa phát_triển tuy nhiên đói_nghèo lại do nhiều nguyên_nhân khác mang tính đặc_thù vả lại trong điều_kiện kinh_tế nước ta hiện_nay chúng ta chấp_nhận kinh_tế nhiều thành_phần cùng vận_động phát_triển cũng là phải chấp_nhận tình_trạng phân_hóa giàu nghèo tương_đối vì vậy xóa đói giảm nghèo không những là công_việc cần_thiết mà là nhiệm_vụ cấp_bách và quan_trọng chúng ta xác_định sự phân_hóa giàu nghèo không thể tránh khỏi nên cũng quyết_tâm không để xảy ra tình trạng làm_giàu vô tội_vạ trên lưng người khác cũng như tình_trạng kẻ ăn không hết người lần không ra không thể để người nghèo bị bỏ_rơi trước con_mắt của cộng_đồng ba là xóa đói giảm nghèo và thực_hiện công_bằng xã_hội không có nghĩa là kìm_hãm sự phát_triển kinh_tế không có nghĩa là cào_bằng kinh_nghiệm của chủ_nghĩa xã_hội hiện_thực ở liên_xô và đông_âu trước đây đã cho thấy nếu đặt công_bằng xã_hội lên trên hết và tách_rời với phát_triển kinh_tế thì trước hết dẫn tới sự triệt_tiêu các động_lực phát_triển tuy nhiên nếu đặt hiệu_quả kinh_tế là mục_tiêu duy_nhất thì sẽ làm tăng tình_trạng phân_hóa hai cực làm tăng sự khốn_khó đối với không ít quần_chúng nhân_dân bởi vậy trong khi thực_hiện bài_toán phát_triển đất nước làm sao phải tạo mọi điều_kiện và tăng nguồn_lực cho sự phát_triển đồng_thời hạn_chế mặt tiêu_cực của nó đặt vấn_đề xóa đói giảm nghèo thành_công việc thường_xuyên liên_tục bốn là xóa đói giảm nghèo là công_việc của toàn xã_hội cần khẳng_định một cách mạnh_mẽ rằng xóa đói giảm nghèo không dừng lại ở việc thực_hiện chính_sách xã_hội không phải việc riêng của ngành lao_động xã_hội hay một_số ngành khác mà là nhiệm_vụ chính_trị kinh_tế văn_hóa là nhiệm_vụ chung của toàn đảng toàn dân muốn thực_hiện thành_công việc xóa đói giảm nghèo tất_cả mọi cán_bộ đảng chính_quyền đều phải quan_tâm cùng giải_quyết thực_hiện các giải_pháp một cách đồng_bộ và phải có sự tham_gia của toàn_thể cộng đồng.\n",
      ">> True: 0 | Predict: 1\n",
      "--------------------------------------------------------------------------------\n",
      "đảng csvn thật tuyệt_vời lo cho dân vì nhân dân.\n",
      ">> True: 0 | Predict: 1\n",
      "--------------------------------------------------------------------------------\n",
      "cộng_sản ác ghê giết chết bá thanh trước tết tránh đại kị wwnumberww ngày tết.\n",
      ">> True: 1 | Predict: 0\n",
      "--------------------------------------------------------------------------------\n",
      "công_an lấy hạnh_phúc nhân_dân làm lẽ sống công_an nhân_dân cand luôn gắn_bó máu_thịt với nhân_dân vì nhân_dân phục_vụ dựa vào nhân_dân để công_tác và chiến_đấu thức cho dân ngủ ngon gác cho dân vui lấy niềm_vui hạnh_phúc của nhân_dân làm lẽ sống của mình chủ_tịch nước trương tấn sang nói công_an là lực_lượng trọng_yếu tuyệt_đối tin_cậy của đảng công_an trần đại quang tổng bí_thư nguyễn phú trọng chủ_tịch nước trương tấn sang thủ_tướng nguyễn tấn dũng mttq nguyễn thiện_nhân thế_lực thù_địch chủ_tịch nước trương tấn sang lễ kỷ_niệm wwnumberww năm ngày truyền_thống cand việt_nam wwnumberww năm ngày hội toàn dân bảo_vệ an_ninh tổ_quốc diễn ra sáng nay tại hà_nội tham_dự có tổng bí_thư nguyễn phú trọng nguyên tổng bí_thư lê khả phiêu nguyên tổng bí_thư nông đức mạnh chủ_tịch nước trương tấn sang nguyên chủ_tịch nước trần đức lương thủ_tướng nguyễn tấn dũng nguyên thủ_tướng phan văn khải chủ_tịch qh nguyễn sinh hùng nguyên chủ_tịch qh nguyễn văn an thường_trực ban bí_thư lê hồng anh chủ_tịch mttq vn nguyễn thiện_nhân đại_tướng bộ_trưởng công_an trần đại quang các lãnh_đạo nguyên lãnh_đạo đảng nhà_nước chính_phủ mttq việt_nam lãnh_đạo các ban bộ ngành tư các mẹ vn anh_hùng anh_hùng lao_động nguyên tổng bí_thư đỗ mười nguyên chủ_tịch nước lê đức anh nguyên chủ_tịch nước nguyễn minh_triết cũng đã gửi lẵng hoa chúc_mừng công_an trần đại quang tổng bí_thư nguyễn phú trọng chủ_tịch nước trương tấn sang thủ_tướng nguyễn tấn dũng mttq nguyễn thiện_nhân thế_lực thù_địch các đại_biểu dự lễ kỷ_niệm chủ_tịch nước trương tấn sang đã điểm lại quá_trình hình_thành phát_triển cũng như những đóng_góp to_lớn của lực_lượng cand trong xây_dựng và bảo_vệ tổ_quốc theo chủ_tịch nước trong bối_cảnh hết sức khó_khăn tình_hình quốc_tế và khu_vực diễn_biến phức_tạp các thế_lực thù_địch ra_sức đẩy_mạnh chiến_lược diễn_biến hòa_bình lực_lượng cand đã tỏ rõ lòng trung_thành với tổ_quốc với nhân_dân với đảng nhà_nước cand đã chủ_động nắm_chắc tình_hình tham_mưu cho đảng nhà_nước những chủ_trương quyết_sách có ý_nghĩa chiến_lược về bảo_vệ an_ninh lợi quốc_gia chủ_động phát_hiện làm thất_bại mọi âm_mưu hoạt_động nhằm kích_động gây_rối an_ninh trật_tự bạo_loạn ở các vùng chiến_lược và tp lớn ngoài ra trong điều_kiện khoa_học công_nghệ phương_tiện truyền_thông phát_triển mạnh_mẽ tội_phạm phi truyền_thống có xu_hướng gia_tăng lực_lượng cand đã có những biện_pháp ứng_phó kịp_thời các mối đe_dọa truyền_thống phi truyền_thống đẩy_mạnh đấu_tranh phòng_chống tội_phạm giữ_gìn an_ninh trật_tự an_toàn xã_hội chủ_tịch nước nói wwnumberww năm xây_dựng chiến_đấu trưởng_thành chiến_công nối_tiếp chiến_công đã bồi_đắp lên truyền_thống vẻ_vang của cand tuyệt_đối trung_thành với tổ_quốc và nhân_dân với đảng nhà_nước gắn_bó máu_thịt với nhân_dân vì nhân_dân phục_vụ dựa vào nhân_dân để công_tác và chiến_đấu thức cho dân ngủ ngon gác cho dân vui lấy niềm_vui hạnh_phúc của nhân_dân làm lẽ sống của mình không ngại gian_khổ hy_sinh nêu cao cảnh_giác dũng_cảm mưu_trí sáng_tạo khôn_khéo trong đấu_tranh với kẻ_địch và tội_phạm nêu cao tinh_thần thượng tôn pháp_luật trao_tặng huân_chương sao_vàng cho lực_lượng cand chủ_tịch nước trương tấn sang cũng chỉ ra trên thế_giới hòa_bình hợp_tác phát_triển là xu_thế lớn nhưng tình_hình còn tiếp_tục diễn_biến phức_tạp tiềm_ẩn nhiều yếu_tố bất_trắc khó lường các thế_lực thù_địch tăng_cường chống_phá ta về chính_trị kinh_tế tư_tưởng văn_hóa tranh_chấp chủ_quyền biển đảo sẽ diễn ra gay_gắt phức_tạp hơn đe_dọa đến toàn_vẹn lãnh_thổ của đất nước trong nước còn xuất_hiện những vấn_đề phức_tạp mới đe_dọa đến an_ninh trật_tự và sự ổn_định của đất_nước một_số vùng trọng_điểm chiến_lược còn tiềm_ẩn yếu_tố gây mất ổn_định nguy_cơ xảy ra khủng_bố chiến_tranh mạng mất an_ninh thông_tin ngày_càng tăng công_an trần đại quang tổng bí_thư nguyễn phú trọng chủ_tịch nước trương tấn sang thủ_tướng nguyễn tấn dũng mttq nguyễn thiện_nhân thế_lực thù_địch chủ_tịch nước trương tấn sang trao huân_chương sao_vàng lần thứ tư ghi_nhận những thành_tích xuất_sắc của lực_lượng cand theo chủ_tịch nước chúng ta cần phải thấy hết tình_hình nêu trên để có biện_pháp mạnh mẽ kiên_quyết khắc_phục những hạn_chế yếu_kém do chủ_quan đồng_thời chủ_động phòng_ngừa đấu_tranh những tác_động tiêu_cực và chống_phá từ bên ngoài không thể bị_động bất_ngờ trong bất cứ tình_huống nào cũng phải giành cho được thắng_lợi và đạt cho được mục_tiêu bảo_vệ vững_chắc độc_lập chủ_quyền thống_nhất và toàn_vẹn lãnh_thổ của tổ_quốc để thực_hiện tốt việc này lực_lượng cand có vai_trò hết sức quan_trọng chủ_tịch nước yêu_cầu phải xây_dựng lực_lượng cand cách_mạng chính_quy tinh_nhuệ từng bước hiện_đại ưu_tiên đi vào hiện_đại một_số lực_lượng quan_trọng xây_dựng đội_ngũ chiến_sĩ cand tuyệt_đối trung_thành có lập_trường tư_tưởng vững_vàng trình_độ cao về chuyên_môn nghiệp_vụ có_ý thức tổ_chức kỷ_luật cao chủ_tịch nước một lần nữa nhấn_mạnh đảng nhà_nước nhân_dân luôn tự_hào về cand vn anh_hùng tin_tưởng chắc_chắn rằng cand vn dù trong bất cứ hoàn_cảnh nào khó_khăn đến mấy gian_khổ bao nhiêu cũng một_lòng một dạ tuyệt_đối trung_thành với tổ_quốc và nhân_dân với đảng nhà_nước luôn hoàn_thành xuất_sắc mọi nhiệm_vụ cũng tại lễ kỷ_niệm chủ_tịch nước trương tấn sang đã trao_tặng huân_chương sao_vàng lần thứ wwnumberww cho lực_lượng cand vn.\n",
      ">> True: 0 | Predict: 1\n",
      "--------------------------------------------------------------------------------\n",
      "người ta có thể kiếm ra người giống như phùng quang thanh người ta cũng có thể dùng chất_dẻo để làm những bộ_mặt giả rất tinh_tế từng nếp_nhăn vết thẹo đễ kiểm_soát giả thiệt người ta thường quan_sát vành_tai vì vành_tai ít thay_đổi nhưng một điểm rất đặc_biệt nữa là quan_sát hàm_răng vì hàm_răng và những cái răng là cá_biệt cho mỗi người rất may tôi nhận được hai nụ_cười của phùng quang thanh thiệt và phùng quang thanh giả để_lộ hai hàm_răng để tôi có thể quan_sát sự khác_biệt xin quý độc_giả xem hình đính kèm.\n",
      ">> True: 1 | Predict: 0\n",
      "--------------------------------------------------------------------------------\n",
      "bà đức cũng nói về một trường_hợp dân oan khác có những người ví_dụ như thái thị ngọc hơn wwnumberww tuổi rồi nộp đơn_từ lúc tóc còn đen mà đến bây_giờ tóc bạc hơn tóc tôi bà đức năm nay wwnumberww tuổi mà vẫn chưa được giải_quyết nộp đơn_từ cấp dưới nó đẩy lên cấp trên quận_huyện thành_phố thành_phố đẩy lên trung_ương trung_ương lại đá về tỉnh tỉnh lại đá về huyện như thế chúng nó làm dân mình như một quả bóng_đá lên rồi lại đá xuống không giải_quyết đấy chúng ta gọi những người đấy là những người dân oan.\n",
      ">> True: 1 | Predict: 0\n",
      "--------------------------------------------------------------------------------\n",
      "cộng_tác_viên của chúng_tôi đã qua trực_tiếp gặp gia_đình và được gia_đình anh tùng cung_cấp ảnh chụp thi_thể tình_trạng chân bị gãy của anh và các vết_thương trên thân_thể đây là một vụ_án giết người công_an đại_lộc quảng_nam đã giết anh tùng sau đó tạo hiện_trường giả để hòng thoát_tội đang cập_nhật ảnh tối wwnumberww ông lê nho tâm phó trưởng công_an huyện đại_lộc quảng_nam xác_nhận anh trần văn tùng wwnumberww tuổi trú xã hòa khương huyện hòa_vang đà_nẵng chết trong nhà tạm giữ công_an huyện đại_lộc trong tư_thế treo_cổ công_an huyện cũng đã báo_cáo với công_an tỉnh quảng_nam viện kiểm_sát nhân_dân tỉnh quảng_nam và các cơ_quan liên_quan theo thông_tin ban_đầu rạng_sáng wwnumberww công_an xã đại hiệp và công_an huyện đại_lộc bắt quả tang anh trần văn tùng đang cắt trộm dây_cáp điện_thoại tại thôn phú hải xã đại hiệp ngay sau đó tùng được đưa về trụ_sở công_an huyện để lấy lời_khai và đưa vào nhà tạm_giữ lưu giam đến sáng wwnumberww thì phát_hiện anh tùng đã chết trong tư_thế treo_cổ bằng dây_thun quần chiều wwnumberww gia_đình anh tùng đã yêu_cầu đưa thi_thể nạn_nhân đến trung_tâm pháp_y đà_nẵng để khám_nghiệm tử thi.\n",
      ">> True: 1 | Predict: 0\n",
      "--------------------------------------------------------------------------------\n",
      "trước khi bị thu_hồi đất ông ngữ nói ông đã xây_dựng mô_hình vườn ao chuồng trên wwnumberww mét đất mà ông có và nuôi cả gấu lẫn nhím để tăng thu_nhập cho khoản lương hưu wwnumberww triệu mỗi tháng của ông nói tóm_lại họ thấy trang_trại của tôi có nhiều điều_kiện thuận_lợi để thu_nhập mang dáng_dấp đẹp và hoành_tráng thì họ muốn cướp thôi nguyên_tắc là phải chứng_minh có văn_bản hợp_pháp nào để thể_hiện đất nhà_tôi nằm vào quy_hoạch thứ_hai là phải công khải bản_đồ nhưng chả có gì họ dùng quyền_lực nói_chung gọi là ăn_cướp ban_ngày theo ông ngữ cả thủ_tướng và chủ_tịch nước việt_nam đều đã có văn_bản chỉ_đạo giải_quyết nhưng giới_chức ở địa_phương vẫn im_re do họ tham_nhũng ba triệu mét_vuông đất của hàng_trăm hộ ông nói ông được đền_bù wwnumberww đồngm2 trong khi giá trên thực_tế theo ông là hàng chục triệu tôi cũng không chấp_nhận cho họ đền_bù bởi vì tôi yêu_cầu phải chứng_minh đất của tôi nằm vào quy_hoạch nhưng họ cũng không chứng_minh được ông ngữ nói nguyên_tắc là phải chứng_minh có văn_bản hợp_pháp nào để thể_hiện đất nhà_tôi nằm vào quy_hoạch thứ_hai là phải công khải bản_đồ nhưng chả có gì họ dùng quyền_lực nói_chung gọi là ăn_cướp ban_ngày ông ngữ cũng nói ông làm_việc cho nhà_nước hơn wwnumberww năm trong đó có nhiều năm chịu bom_đạn thời cuộc_chiến chống mỹ và giờ chật_vật với cuộc sống.\n",
      ">> True: 0 | Predict: 1\n",
      "--------------------------------------------------------------------------------\n",
      "việc mọi người đồn đãi nguyễn ái_quốc chết năm wwnumberww sau đó có một người là hồ tập chương đóng thay hồ_chí_minh về việt_nam lamvietblog tôi vừa sưu_tầm được một_số bằng_chứng dưới_đây ngờ_vực phải có đến wwnumberww người đóng vai hồ_chí_minh qua ba giai_đoạn vì qua ba giai_đoạn này bút_tích của hồ_chí_minh hoàn_toàn khác_biệt nhau tất_cả hình_ảnh click chuột trái để xem ảnh lớn đầy_đủ wwnumberww wwnumberww nguyễn sinh cung văn ba nguyễn tất thành nguyễn ái_quốc lý thụy thầu chín giai_đoạn này hồ_chí_minh thường_xuyên viết thư tiếng_pháp và tiếng_anh nên chữ quốc_ngữ viết sai lỗi chính_tả báo thanh_niên wwnumberww.\n",
      ">> True: 1 | Predict: 0\n",
      "--------------------------------------------------------------------------------\n",
      "các cô ai bẩu đảm được cho các tủ_lạnh hạ_cánh an_toàn chỉ khi nào có một nhóm nào đó có đủ lực để baỏ đảm sự yên_ổn cho các tủ_lạnh sau_này mới có chuyện thay_đổi quyền_lực đồng_chí cũng phải chiến_đấu để bảo_vệ nhóm cuả bỏn trước_mắt chưa thấy cán cân quyền_lực thay_đổi mình cô thanh thì làm gì được kết_quả vụ tắm_rửa vừa rồi cho thấy không cô nào muốn thay_đổi hiện_trạng cho đến khi nào tình_hình kinh_tế xuống đến đáy may ra bọn quân_đội hành_động hehe bọn tủ_lạnh bây_giờ sẽ không để cô thanh làm được gì cô thanh cũng chỉ phát_ngôn như bọn chém_gió uống bia cỏ không phải khuôn_mặt cuả thủ_lĩnh gộc sẽ không tiến xa ở nụi.\n",
      ">> True: 1 | Predict: 0\n",
      "--------------------------------------------------------------------------------\n",
      "một bằng_chứng khác về hồ tập chương tức hồ_chí_minh nói giọng quảng_đông được chính những người đảng cộng_sản trung_quốc mô_tả lại như sau hà khải quân trung_quốc người phụ_trách phòng cứu_vong lúc đó có một đoạn hồi_ký như sau tôi cùng công_tác với đồng_chí hồ_chí_minh từ cuối năm wwnumberww đến xuân hè năm wwnumberww tại phòng cứu_vong của văn_phòng bát lộ_quân ở quế lâm và cùng ở trong một nhà lớn phía tây đường_sắt trong thôn lộ mạc hồi đó người mang tên hồ_quang tiếng_nói pha giọng quảng_đông phòng cứu_vong chúng_tôi giống như câu_lạc_bộ nhưng không hoàn_toàn là câu_lạc_bộ bởi vì phòng còn có nhiệm_vụ giáo_dục chính_trị và văn_hoá phòng có nhiều uỷ_viên như uỷ_viên kinh_tế tài_chính uỷ_viên y_tế uỷ_viên văn_thể uỷ_viên bích_báo hồ_quang là ủy_viên y_tế kiêm ủy_viên bích_báo vì vậy cũng là một thành_viên lãnh_đạo phòng tôi còn nhớ hồ_quang từng phụ_trách kiểm_tra vệ_sinh làm_việc rất chu_đáo yêu_cầu rất nghiêm_khắc hồ_quang còn phụ_trách biên_tập tờ sinh_hoạt tiểu báo một tờ_báo nhỏ truyền tay nhau đọc trong nội_bộ cơ_quan chúng_tôi bản_thảo được chép lại bằng bút lông rồi đóng thành tập bìa báo do hồ_quang trình_bày tên báo cũng do đồng_chí ấy viết nội_dung phần_lớn là những sinh_hoạt trong cơ_quan có biểu_dương có phê_bình khoảng wwnumberww ngày ra một_số ngoài công_việc biên_tập và chép lại hồ_quang còn viết rất nhiều bài có lúc làm cả những bài_thơ nho_nhỏ theo thể_thơ cổ của trung_quốc bt lưu ngang cán_bộ văn_phòng bát lộ_quân trùng_khánh thời_kỳ này cho_biết thời_kỳ chiến_tranh chống nhật vào khoảng các năm wwnumberww tôi đã nhiều lần được gặp hồ_chí_minh tại văn_phòng bát lộ_quân trùng_khánh lúc bấy giờ người mang bí_danh hồ_quang nhiều đồng_chí chúng_tôi không biết rằng người là đồng_chí của đảng anh_em người đến lần nào cũng ở một gian buồng nhỏ tầng trên của văn_phòng kề vách với phòng ở của đồng_chí tiền chi quang đồng_chí hồ_quang ăn_mặc rất giản dị.\n",
      ">> True: 1 | Predict: 0\n",
      "--------------------------------------------------------------------------------\n",
      "trong ngày hôm_qua truyền_thông nhà_nước cộng_sản việt_gian có đánh đi một_số tin_tức nói rằng con_trai và cháu nội phùng quang heo sang pháp để đón heo về thực_chất cộng_sản đã đưa người_nhà phùng quang heo sang pháp để nhận_diện xem diễn_viên đóng_thế phùng quang heo hóa_trang có giống như thực phùng quang heo hay không nguồn_tin chỉ_dẫn cho lam việt quan_sát để xác_minh vấn_đề này cảnh diễn ra tại sân_bay nội_bài hà lội không có thấy bóng_dáng con_trai và cháu nội của phùng quang heo ở đâu cả một_số hình_ảnh của báo_chí cộng_sản cũng không dám chụp cận_cảnh phùng quang heo vì sợ bị lộ hình_ảnh diễn_viên đóng_thế đeo mặt_nạ cao_su hóa_trang phùng quang heo diễn_viên đóng_thế phùng quang heo ngồi trên xe lexus chỉ với tài_xế mà không thấy con_trai và cháu nội đâu cả.\n",
      ">> True: 1 | Predict: 0\n",
      "--------------------------------------------------------------------------------\n",
      "công_an làm_việc người ngăn ông chấn nhận wwnumberww tỷ ngày wwnumberww công_an tỉnh bắc_giang cho_biết đang xác_minh đơn thư kiến_nghị của bà nguyễn thị thu hà wwnumberww tuổi trú ở xã song_mai tp bắc_giang tỉnh bắc_giang nhân_chứng mới trong vụ_án mà ông nguyễn thanh chấn bị oan ai cung_cấp bản thú_tội của ông chấn cho nhân_chứng khá bất_ngờ khi trong tài_liệu trình lên hđxx phiên_tòa lý nguyễn chung nhân_chứng mới đã đưa ra bản thú_tội của ông nguyễn thanh chấn bà hà cũng xác_nhận thông_tin cơ_quan cảnh_sát điều_tra công_an tỉnh bắc_giang đã làm_việc sau khi bà có đơn kiến_nghị việc hoãn bồi_thường wwnumberww tỷ đồng cho ông nguyễn thanh chấn và tố_cáo ông chấn khai_báo gian_dối ngoài ra cơ_quan điều_tra còn làm_việc với bà để làm rõ nguồn_gốc bản tự_thú của ông nguyễn thanh chấn mà bà hà có trong tay ông chấn oan nhân_chứng mới bà hà tại phiên xử_lý nguyễn chung trước đó chiều wwnumberww bà_thân thị hải người đã giúp ông nguyễn thanh chấn kêu_oan suốt wwnumberww năm cho_biết bà đã làm đơn tố_cáo nhân_chứng mới yêu_cầu làm rõ bà hà đã lấy một_số tài_liệu là đơn tự_thú của ông chấn biên_bản giao_nộp người khi ông chấn bị bắt cách đây wwnumberww năm ở đâu theo bà hải những lời_nói của bà hà tại phiên xử_lý nguyễn chung trước nhiều người tham_gia dự tòa và các cơ_quan báo_chí đã xúc_phạm đến danh_dự uy_tín của bà hải nên bà đã làm đơn tố_cáo bà hà vì cho rằng bà hà đã có hành_vi vu_khống bịa_đặt việc bà hải chạy án cho ông chấn và sau hôm tand tỉnh bắc_giang tuyên lý nguyễn chung wwnumberww năm tù giam khẳng_định ông chấn vô_tội bà hà đã làm truyền_đơn rải khắp từ nhà bà hà đến gần thôn me tuyên_án lý nguyễn chung xác_minh thêm lời_khai nhân_chứng sáng wwnumberww sau hơn wwnumberww ngày xét_xử hđxx nhận_định đã đủ căn_cứ xác_định lý nguyễn chung là hung_thủ vụ giết chị nguyễn thị hoan tại thôn me và tuyên_phạt chung wwnumberww năm tù giam trong truyền_đơn bà hà nói ông chấn mới là hung_thủ giết chị hoan tôi là người chạy án cho ông chấn bà ta đòi hủy quyết_định bồi_thường wwnumberww tỷ đồng cho ông chấn và đề_nghị khởi_tố ông chấn hành_vi khai_báo gian_dối bà hà còn in kèm theo một_số tài_liệu là đơn tự_thú của ông chấn biên_bản giao_nộp người khi ông chấn bị bắt cách đây wwnumberww năm biên_bản tiếp_nhận đối_tượng tự_thú tôi yêu_cầu làm rõ ai là người đưa cho bà hà những tài_liệu này ai là người đứng sau bà hà nếu những lời bà hà nói là không đúng thì yêu_cầu bắt_giam bà ta để điều_tra bà hải thể_hiện sự bức_xúc về phía bà hà bà này cho_biết tôi không có truyền_đơn gì cả bà hải vu_khống tôi_mọi điều tôi đều nói tại tòa rồi thì còn rải truyền_đơn làm gì việc tôi lấy bản tự_thú ở đâu ra và có ai đứng đằng_sau trước tòa tôi đã trả_lời hđxx không có ai đứng đằng_sau tôi không có ai giật_dây tôi vì tôi đã wwnumberww tuổi_đời không phải là trẻ_con còn bản tự_thú và biên_bản tiếp_nhận đối_tượng tự_thú là người_nhà của bị_hại đưa cho tôi trong lá_đơn gần_đây mà bà hà gửi đến cơ_quan chức_năng bà ta tố ngược bà hải cho rằng mình bị vu_khống bị bà hải loan_tin bịa_đặt bằng các hình_thức rải tờ_rơi thuê một_số đối_tượng lên mạng chửi_bới nhục_mạ bêu_xấu bà hà trước đó vào ngày wwnumberww trong phiên xử_lý nguyễn chung ngoài việc tuyên lý nguyễn chung mức án wwnumberww năm tù giam khẳng_định ông nguyễn thanh chấn bị oan tand tỉnh bắc_giang đã kiến_nghị cơ_quan cảnh_sát điều_tra điều_tra bổ_sung xác_minh lời_khai của bà hà để tránh oan sai.\n",
      ">> True: 0 | Predict: 1\n",
      "--------------------------------------------------------------------------------\n"
     ]
    }
   ],
   "source": [
    "for i, label in enumerate(mega_predictions):\n",
    "    if mega_predictions[i] != test_labels[i]: \n",
    "        print test_docs[i]\n",
    "        print \">> True: {} | Predict: {}\".format(test_labels[i], mega_predictions[i])\n",
    "        print '-' * 80"
   ]
  },
  {
   "cell_type": "markdown",
   "metadata": {
    "collapsed": true
   },
   "source": [
    "## Benchmark"
   ]
  },
  {
   "cell_type": "code",
   "execution_count": 22,
   "metadata": {
    "collapsed": false
   },
   "outputs": [
    {
     "name": "stdout",
     "output_type": "stream",
     "text": [
      "The slowest run took 7.23 times longer than the fastest. This could mean that an intermediate result is being cached \n",
      "10000 loops, best of 3: 32.9 µs per loop\n"
     ]
    }
   ],
   "source": [
    "%timeit lr_tfidf.predict(vec)"
   ]
  },
  {
   "cell_type": "code",
   "execution_count": 23,
   "metadata": {
    "collapsed": false
   },
   "outputs": [
    {
     "name": "stdout",
     "output_type": "stream",
     "text": [
      "The slowest run took 6.02 times longer than the fastest. This could mean that an intermediate result is being cached \n",
      "10000 loops, best of 3: 32.7 µs per loop\n"
     ]
    }
   ],
   "source": [
    "%timeit svc_tfidf.predict(vec)"
   ]
  },
  {
   "cell_type": "code",
   "execution_count": 27,
   "metadata": {
    "collapsed": false
   },
   "outputs": [],
   "source": [
    "%load_ext memory_profiler"
   ]
  },
  {
   "cell_type": "code",
   "execution_count": 28,
   "metadata": {
    "collapsed": false
   },
   "outputs": [
    {
     "name": "stdout",
     "output_type": "stream",
     "text": [
      "peak memory: 142.36 MiB, increment: 0.18 MiB\n"
     ]
    }
   ],
   "source": [
    "%memit lr_tfidf.predict(vec)"
   ]
  },
  {
   "cell_type": "code",
   "execution_count": 29,
   "metadata": {
    "collapsed": false
   },
   "outputs": [
    {
     "name": "stdout",
     "output_type": "stream",
     "text": [
      "peak memory: 142.42 MiB, increment: 0.06 MiB\n"
     ]
    }
   ],
   "source": [
    "%memit svc_tfidf.predict(vec)"
   ]
  },
  {
   "cell_type": "code",
   "execution_count": null,
   "metadata": {
    "collapsed": true
   },
   "outputs": [],
   "source": []
  }
 ],
 "metadata": {
  "kernelspec": {
   "display_name": "Python 2",
   "language": "python",
   "name": "python2"
  },
  "language_info": {
   "codemirror_mode": {
    "name": "ipython",
    "version": 2
   },
   "file_extension": ".py",
   "mimetype": "text/x-python",
   "name": "python",
   "nbconvert_exporter": "python",
   "pygments_lexer": "ipython2",
   "version": "2.7.9"
  }
 },
 "nbformat": 4,
 "nbformat_minor": 0
}
