{
 "cells": [
  {
   "cell_type": "code",
   "execution_count": 15,
   "metadata": {
    "collapsed": true
   },
   "outputs": [],
   "source": [
    "import re \n",
    "import string\n",
    "import unicodedata\n",
    "import sys\n",
    "\n",
    "STOPWORDS = [u\"ấy\", u\"bị\", u\"bởi\", u\"cả\", u\"các\", u\"cái\", u\"cần\", u\"càng\", u\"chỉ\", u\"chiếc\", u\"cho\", u\"chứ\", u\"chưa\", \n",
    "             u\"chuyện\", u\"có\", u\"có_thể\", u\"cứ\", u\"của\", u\"cùng\", u\"cũng\", u\"đã\", u\"đang\", u\"đây\", u\"để\", u\"đến_nỗi\", \n",
    "             u\"đều\", u\"điều\", u\"do\", u\"đó\", u\"được\", u\"dưới\", u\"gì\", u\"khi\", u\"không\", u\"là\", u\"lại\", u\"lên\", u\"lúc\", \n",
    "             u\"mà\", u\"mỗi\", u\"một cách\", u\"này\", u\"nên\", u\"nếu\", u\"ngay\", u\"nhiều\", u\"như\", u\"nhưng\", u\"những\", u\"nơi\", \n",
    "             u\"nữa\", u\"phải\", u\"qua\", u\"ra\", u\"rằng\", u\"rất\", u\"rồi\", u\"sau\", u\"sẽ\", u\"so\", u\"sự\", u\"tại\", u\"theo\", \n",
    "             u\"thì\", u\"trên\", u\"trước\", u\"từ\", u\"từng\", u\"và\", u\"vẫn\", u\"vào\", u\"vậy\", u\"vì\", u\"việc\", u\"với\", u\"vừa\",\n",
    "             u\"_num\", u\"wwdateww\", u\"wwtimeww\", u\"wwemailww\", u\"wwipww\", u\"wwurlww\", u\"wwnumberww\"\n",
    "            ]\n",
    "\n",
    "tbl = dict.fromkeys(i for i in xrange(sys.maxunicode)\n",
    "                      if unicodedata.category(unichr(i)).startswith('P') and i != 45 and i!= 95)\n",
    "\n",
    "def vi_trans_unicode(su):\n",
    "    return su.translate(tbl)\n",
    "\n",
    "def vi_strip_text2(s):\n",
    "    s = re.sub(r\"&amp;\", \"\", s)\n",
    "    s = vi_trans_unicode(s)\n",
    "    s = re.sub(r\"<([^>]+)>\", \"\", s)\n",
    "    s = re.sub(r\"(\\s|\\\\n|\\\\r|\\\\t)+\", \" \", s)\n",
    "    s = re.sub(r\"__+\", \"_\", s)\n",
    "    s = re.sub(r\"--+\", \"-\", s)\n",
    "    s = ' '.join([w if not w[0].isdigit() else u\"wwNUMBERww\" for w in s.strip().split()])\n",
    "    return s\n",
    "\n",
    "def vi_clean3(line):\n",
    "    words = line.replace('.','').strip().split()\n",
    "    words = [w.lower() for w in words]\n",
    "    return ' '.join(words)\n",
    "\n",
    "def vi_remove_stop_1char(line):\n",
    "    words = line.replace('.','').strip().split()\n",
    "    words = [w for w in words if w not in STOPWORDS and len(w) > 1]\n",
    "    return ' '.join(words)\n",
    "\n",
    "def vi_clean4(line):\n",
    "    words = line.replace('.','').strip().split()\n",
    "    words = [w.lower() for w in words if len(w) > 1]\n",
    "    words = [w for w in words if w not in STOPWORDS]\n",
    "    return ' '.join(words)\n",
    "\n",
    "import requests\n",
    "import codecs\n",
    "import json\n",
    "\n",
    "tok_url = \"http://192.168.0.215:8081/api/v1.0/document/filter?\"\n",
    "\n",
    "def get_tokens(tok_url, data):\n",
    "    try:\n",
    "        rq = requests.post(tok_url, data=vi_remove_stop_1char(vi_clean3(vi_strip_text2(data))).encode('utf-8'))\n",
    "        if rq.content:\n",
    "            tok_doc = ' '.join(json.loads(rq.content)['sentences'])\n",
    "        else:\n",
    "            tok_doc = None\n",
    "        return tok_doc\n",
    "    except Exception, e:\n",
    "        print e"
   ]
  },
  {
   "cell_type": "markdown",
   "metadata": {},
   "source": [
    "## Loading Test"
   ]
  },
  {
   "cell_type": "code",
   "execution_count": 16,
   "metadata": {
    "collapsed": true
   },
   "outputs": [],
   "source": [
    "import requests\n",
    "import codecs\n",
    "import json\n",
    "import pandas as pd"
   ]
  },
  {
   "cell_type": "code",
   "execution_count": 17,
   "metadata": {
    "collapsed": true
   },
   "outputs": [],
   "source": [
    "df = pd.read_json(\"/home/laampt/nlp/data/private/df_test.json\")"
   ]
  },
  {
   "cell_type": "code",
   "execution_count": 18,
   "metadata": {
    "collapsed": false
   },
   "outputs": [
    {
     "data": {
      "text/html": [
       "<div>\n",
       "<table border=\"1\" class=\"dataframe\">\n",
       "  <thead>\n",
       "    <tr style=\"text-align: right;\">\n",
       "      <th></th>\n",
       "      <th>Doc</th>\n",
       "      <th>Doc_Clean</th>\n",
       "      <th>Num_Words</th>\n",
       "      <th>Target</th>\n",
       "    </tr>\n",
       "  </thead>\n",
       "  <tbody>\n",
       "    <tr>\n",
       "      <th>0</th>\n",
       "      <td>Công bố kết quả kiểm tra, giám sát, đôn đốc cô...</td>\n",
       "      <td>công_bố kết_quả kiểm_tra giám_sát đôn_đốc công...</td>\n",
       "      <td>708</td>\n",
       "      <td>0</td>\n",
       "    </tr>\n",
       "    <tr>\n",
       "      <th>1</th>\n",
       "      <td>VTV1 KHÉO LÉO QUẢNG BÁ CUỘC GẶP CỦA TỔNG THỐNG...</td>\n",
       "      <td>vtv1 khéo_léo quảng_bá cuộc gặp của tổng_thống...</td>\n",
       "      <td>97</td>\n",
       "      <td>1</td>\n",
       "    </tr>\n",
       "    <tr>\n",
       "      <th>10</th>\n",
       "      <td>Đẩy mạnh xoá đói, giảm nghèo, hạn chế phân hoá...</td>\n",
       "      <td>đẩy_mạnh xoá đói giảm nghèo hạn_chế phân_hoá g...</td>\n",
       "      <td>1136</td>\n",
       "      <td>0</td>\n",
       "    </tr>\n",
       "    <tr>\n",
       "      <th>100</th>\n",
       "      <td>CON CỦA THỦ TƯỚNG NGUYỄN TẤN DŨNG\\n\\n Chúng tô...</td>\n",
       "      <td>con của thủ_tướng nguyễn tấn dũng chúng_tôi bắ...</td>\n",
       "      <td>1249</td>\n",
       "      <td>1</td>\n",
       "    </tr>\n",
       "    <tr>\n",
       "      <th>101</th>\n",
       "      <td>Dốc toàn lực tìm người mất tích vụ tai nạn lò ...</td>\n",
       "      <td>dốc toàn lực tìm người mất_tích vụ tai_nạn lò ...</td>\n",
       "      <td>303</td>\n",
       "      <td>0</td>\n",
       "    </tr>\n",
       "  </tbody>\n",
       "</table>\n",
       "</div>"
      ],
      "text/plain": [
       "                                                   Doc  \\\n",
       "0    Công bố kết quả kiểm tra, giám sát, đôn đốc cô...   \n",
       "1    VTV1 KHÉO LÉO QUẢNG BÁ CUỘC GẶP CỦA TỔNG THỐNG...   \n",
       "10   Đẩy mạnh xoá đói, giảm nghèo, hạn chế phân hoá...   \n",
       "100  CON CỦA THỦ TƯỚNG NGUYỄN TẤN DŨNG\\n\\n Chúng tô...   \n",
       "101  Dốc toàn lực tìm người mất tích vụ tai nạn lò ...   \n",
       "\n",
       "                                             Doc_Clean  Num_Words  Target  \n",
       "0    công_bố kết_quả kiểm_tra giám_sát đôn_đốc công...        708       0  \n",
       "1    vtv1 khéo_léo quảng_bá cuộc gặp của tổng_thống...         97       1  \n",
       "10   đẩy_mạnh xoá đói giảm nghèo hạn_chế phân_hoá g...       1136       0  \n",
       "100  con của thủ_tướng nguyễn tấn dũng chúng_tôi bắ...       1249       1  \n",
       "101  dốc toàn lực tìm người mất_tích vụ tai_nạn lò ...        303       0  "
      ]
     },
     "execution_count": 18,
     "metadata": {},
     "output_type": "execute_result"
    }
   ],
   "source": [
    "df.head(5)"
   ]
  },
  {
   "cell_type": "code",
   "execution_count": 19,
   "metadata": {
    "collapsed": false
   },
   "outputs": [
    {
     "name": "stdout",
     "output_type": "stream",
     "text": [
      "140 140\n"
     ]
    }
   ],
   "source": [
    "test_docs = df.Doc_Clean.values\n",
    "test_docs = [vi_clean4(vi_strip_text2(doc)) for doc in test_docs]\n",
    "test_labels = df.Target.values\n",
    "\n",
    "print len(test_docs), len(test_labels)"
   ]
  },
  {
   "cell_type": "code",
   "execution_count": 20,
   "metadata": {
    "collapsed": true
   },
   "outputs": [],
   "source": [
    "test_docs_list = [doc.split() for doc in test_docs]"
   ]
  },
  {
   "cell_type": "markdown",
   "metadata": {},
   "source": [
    "## Loading models"
   ]
  },
  {
   "cell_type": "code",
   "execution_count": 21,
   "metadata": {
    "collapsed": true
   },
   "outputs": [],
   "source": [
    "from sklearn.externals import joblib\n",
    "\n",
    "lr_tfidf = joblib.load(\"/home/laampt/nlp/train/estimator/docsent/lr_tfidf_914e_91auc.pkl\")\n",
    "svc_tfidf = joblib.load(\"/home/laampt/nlp/train/estimator/docsent/svc_tfidf_914e_91auc.pkl\")\n",
    "vectorizer_tfidf = joblib.load(\"/home/laampt/nlp/train/estimator/docsent/vectorizer_tfidf_914e_91auc.pkl\")"
   ]
  },
  {
   "cell_type": "markdown",
   "metadata": {},
   "source": [
    "## Tranform"
   ]
  },
  {
   "cell_type": "code",
   "execution_count": 22,
   "metadata": {
    "collapsed": true
   },
   "outputs": [],
   "source": [
    "test_data_features2 = vectorizer_tfidf.transform(test_docs)\n",
    "test_data_features2 = test_data_features2.toarray()"
   ]
  },
  {
   "cell_type": "code",
   "execution_count": 23,
   "metadata": {
    "collapsed": false
   },
   "outputs": [
    {
     "name": "stdout",
     "output_type": "stream",
     "text": [
      "(140, 30000) (140,)\n"
     ]
    }
   ],
   "source": [
    "print test_data_features2.shape, test_labels.shape"
   ]
  },
  {
   "cell_type": "markdown",
   "metadata": {},
   "source": [
    "## Performance report"
   ]
  },
  {
   "cell_type": "code",
   "execution_count": 24,
   "metadata": {
    "collapsed": false
   },
   "outputs": [],
   "source": [
    "from sklearn import metrics\n",
    "import numpy as np"
   ]
  },
  {
   "cell_type": "code",
   "execution_count": 25,
   "metadata": {
    "collapsed": false
   },
   "outputs": [
    {
     "name": "stdout",
     "output_type": "stream",
     "text": [
      "LR: 0.4, SVC: 0.6\n",
      "Mega Combinator:\n",
      "             precision    recall  f1-score   support\n",
      "\n",
      "          0       0.93      0.93      0.93        81\n",
      "          1       0.90      0.90      0.90        59\n",
      "\n",
      "avg / total       0.91      0.91      0.91       140\n",
      "\n",
      "Mega Classifier: 0.91 AUC\n",
      "\n"
     ]
    }
   ],
   "source": [
    "w =0.4\n",
    "print \"LR: {}, SVC: {}\".format(w,1-w)\n",
    "mega_predictions = []\n",
    "for vec in test_data_features2:\n",
    "    prediction = lr_tfidf.predict(vec) * w + svc_tfidf.predict(vec) * (1-w)\n",
    "    prediction = 1 if (prediction[0] > 0.5) else 0\n",
    "    mega_predictions.append(prediction)\n",
    "print 'Mega Combinator:\\n{}'.format(metrics.classification_report(test_labels, mega_predictions))\n",
    "print('Mega Classifier: {:.2f} AUC'.format(metrics.roc_auc_score(test_labels, mega_predictions)))\n",
    "print"
   ]
  },
  {
   "cell_type": "markdown",
   "metadata": {},
   "source": [
    "## V05\n",
    "\n",
    "LR: 0.4, SVC: 0.6\n",
    "Mega Combinator:\n",
    "             precision    recall  f1-score   support\n",
    "\n",
    "          0       0.90      0.94      0.92        81\n",
    "          1       0.91      0.86      0.89        59\n",
    "\n",
    "avg / total       0.91      0.91      0.91       140\n",
    "\n",
    "Mega Classifier: 0.90 AUC"
   ]
  },
  {
   "cell_type": "markdown",
   "metadata": {},
   "source": [
    "## Comment on improvement\n",
    "\n",
    "Overall AUC increased 1%. 90 --> 91\n",
    "\n",
    "- increase 4% Recall of black class, 3% precision of white class\n",
    "- trade off: decrease 1% of black precision, and recall of white\n",
    "\n",
    "If we focus on HOW WELL to catch black ones, V06 is quite better on 4% recall up/ 1% of AUC "
   ]
  },
  {
   "cell_type": "markdown",
   "metadata": {
    "collapsed": false
   },
   "source": [
    "## Visualization"
   ]
  },
  {
   "cell_type": "code",
   "execution_count": 26,
   "metadata": {
    "collapsed": true
   },
   "outputs": [],
   "source": [
    "%matplotlib inline \n",
    "\n",
    "import matplotlib as mlp\n",
    "import matplotlib.pyplot as plt\n",
    "plt.style.use('fivethirtyeight') # Good looking plots\n",
    "pd.set_option('display.max_columns', None) # Display any number of columns\n",
    "\n",
    "import seaborn as sns"
   ]
  },
  {
   "cell_type": "code",
   "execution_count": 27,
   "metadata": {
    "collapsed": false
   },
   "outputs": [
    {
     "data": {
      "image/png": "[encoded data removed]",
      "text/plain": [
       "<matplotlib.figure.Figure at 0x7f2cf8b963d0>"
      ]
     },
     "metadata": {},
     "output_type": "display_data"
    }
   ],
   "source": [
    "cm = metrics.confusion_matrix(test_labels, np.array(mega_predictions))\n",
    "\n",
    "fix, ax = plt.subplots(figsize=(5, 5))\n",
    "plt.suptitle('Confusion Matrix of Mega Classifiers on 140 Test ')\n",
    "plt.subplot(1, 1, 1)\n",
    "sns.heatmap(cm, annot=True,  fmt='');"
   ]
  },
  {
   "cell_type": "code",
   "execution_count": null,
   "metadata": {
    "collapsed": false
   },
   "outputs": [],
   "source": [
    "for i, label in enumerate(mega_predictions):\n",
    "    if mega_predictions[i] != test_labels[i]: \n",
    "        print test_docs[i]\n",
    "        print \">> True: {} | Predict: {}\".format(test_labels[i], mega_predictions[i])\n",
    "        print '-' * 80"
   ]
  },
  {
   "cell_type": "markdown",
   "metadata": {
    "collapsed": true
   },
   "source": [
    "## Benchmark"
   ]
  },
  {
   "cell_type": "code",
   "execution_count": 29,
   "metadata": {
    "collapsed": false
   },
   "outputs": [
    {
     "name": "stdout",
     "output_type": "stream",
     "text": [
      "The slowest run took 4.69 times longer than the fastest. This could mean that an intermediate result is being cached \n",
      "10000 loops, best of 3: 55.7 µs per loop\n"
     ]
    }
   ],
   "source": [
    "%timeit lr_tfidf.predict(vec)"
   ]
  },
  {
   "cell_type": "code",
   "execution_count": 30,
   "metadata": {
    "collapsed": false
   },
   "outputs": [
    {
     "name": "stdout",
     "output_type": "stream",
     "text": [
      "10000 loops, best of 3: 55.8 µs per loop\n"
     ]
    }
   ],
   "source": [
    "%timeit svc_tfidf.predict(vec)"
   ]
  },
  {
   "cell_type": "code",
   "execution_count": 31,
   "metadata": {
    "collapsed": false
   },
   "outputs": [],
   "source": [
    "%load_ext memory_profiler"
   ]
  },
  {
   "cell_type": "code",
   "execution_count": 32,
   "metadata": {
    "collapsed": false
   },
   "outputs": [
    {
     "name": "stdout",
     "output_type": "stream",
     "text": [
      "peak memory: 208.67 MiB, increment: 0.20 MiB\n"
     ]
    }
   ],
   "source": [
    "%memit lr_tfidf.predict(vec)"
   ]
  },
  {
   "cell_type": "code",
   "execution_count": 33,
   "metadata": {
    "collapsed": false
   },
   "outputs": [
    {
     "name": "stdout",
     "output_type": "stream",
     "text": [
      "peak memory: 208.71 MiB, increment: 0.04 MiB\n"
     ]
    }
   ],
   "source": [
    "%memit svc_tfidf.predict(vec)"
   ]
  },
  {
   "cell_type": "markdown",
   "metadata": {
    "collapsed": true
   },
   "source": [
    "## Sanity check"
   ]
  },
  {
   "cell_type": "code",
   "execution_count": 34,
   "metadata": {
    "collapsed": true
   },
   "outputs": [],
   "source": [
    "def mega_prediction(feed, vectorizer_tfidf, lr_tfidf10, svc_tfidf10, w=0.4):\n",
    "    \"\"\"\n",
    "    Input: given raw feed, vectorizer, lr, svm classifier\n",
    "    Output: 1 if feed is user opinion alike else 0\n",
    "    \"\"\"\n",
    "    s_test_clean = vi_remove_stop_1char(vi_clean3(vi_strip_text2(feed)))\n",
    "    vec = vectorizer_tfidf.transform([s_test_clean]).toarray()[0,:].T\n",
    "    prediction = lr_tfidf10.predict(vec) * w + svc_tfidf10.predict(vec) * (1-w)\n",
    "    prediction = 1 if (prediction[0] > 0.5) else 0\n",
    "    return prediction"
   ]
  },
  {
   "cell_type": "code",
   "execution_count": null,
   "metadata": {
    "collapsed": false
   },
   "outputs": [],
   "source": [
    "INPUT = u\"\"\"vtv1 khéo_léo quảng_bá cuộc gặp tổng_thống obama blogger điếu_cày trong bản_tin buổi sáng mình ngày vtv1 khéo_léo đưa đoạn phim gặp_gỡ giữa tổng_thống hoa_kỳ barack obama blogger điếu_cày nguyễn văn hải nhằm đánh_dấu ngày tự_do báo_chí năm nay bằng cách lồng một tin_vắn nội_dung khác chúng_tôi cách khôn_khéo đưa_tin vtv1 nhằm tôn_vinh ngày tự_do báo_chí trong tình_trạng báo_chí truyền_thông việt_nam luôn luôn bóp_nghẹt ban tuyên_giáo trung_ương bộ_chính_trị đảng cộng_sản việt_nam cảm_ơn btc khánh trang ban biên_tập chương_trình chào buổi sáng vtv1\"\"\"\n",
    "print INPUT\n",
    "print \"PREDICT: {}\".format(mega_prediction(INPUT, vectorizer_tfidf, lr_tfidf, svc_tfidf))"
   ]
  },
  {
   "cell_type": "code",
   "execution_count": null,
   "metadata": {
    "collapsed": true
   },
   "outputs": [],
   "source": []
  }
 ],
 "metadata": {
  "kernelspec": {
   "display_name": "Python 2",
   "language": "python",
   "name": "python2"
  },
  "language_info": {
   "codemirror_mode": {
    "name": "ipython",
    "version": 2
   },
   "file_extension": ".py",
   "mimetype": "text/x-python",
   "name": "python",
   "nbconvert_exporter": "python",
   "pygments_lexer": "ipython2",
   "version": "2.7.9"
  }
 },
 "nbformat": 4,
 "nbformat_minor": 0
}
