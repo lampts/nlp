{
 "cells": [
  {
   "cell_type": "code",
   "execution_count": 19,
   "metadata": {
    "collapsed": true
   },
   "outputs": [],
   "source": [
    "## helper functions\n",
    "\n",
    "import re \n",
    "import string\n",
    "import unicodedata\n",
    "import sys\n",
    "\n",
    "STOPWORDS = [u\"ấy\", u\"bị\", u\"bởi\", u\"cả\", u\"các\", u\"cái\", u\"cần\", u\"càng\", u\"chỉ\", u\"chiếc\", u\"cho\", u\"chứ\", u\"chưa\", \n",
    "             u\"chuyện\", u\"có\", u\"có_thể\", u\"cứ\", u\"của\", u\"cùng\", u\"cũng\", u\"đã\", u\"đang\", u\"đây\", u\"để\", u\"đến_nỗi\", \n",
    "             u\"đều\", u\"điều\", u\"do\", u\"đó\", u\"được\", u\"dưới\", u\"gì\", u\"khi\", u\"không\", u\"là\", u\"lại\", u\"lên\", u\"lúc\", \n",
    "             u\"mà\", u\"mỗi\", u\"một cách\", u\"này\", u\"nên\", u\"nếu\", u\"ngay\", u\"nhiều\", u\"như\", u\"nhưng\", u\"những\", u\"nơi\", \n",
    "             u\"nữa\", u\"phải\", u\"qua\", u\"ra\", u\"rằng\", u\"rất\", u\"rồi\", u\"sau\", u\"sẽ\", u\"so\", u\"sự\", u\"tại\", u\"theo\", \n",
    "             u\"thì\", u\"trên\", u\"trước\", u\"từ\", u\"từng\", u\"và\", u\"vẫn\", u\"vào\", u\"vậy\", u\"vì\", u\"việc\", u\"với\", u\"vừa\",\n",
    "             u\"_num\", u\"wwdateww\", u\"wwtimeww\", u\"wwemailww\", u\"wwipww\", u\"wwurlww\", u\"wwnumberww\"\n",
    "            ]\n",
    "\n",
    "tbl = dict.fromkeys(i for i in xrange(sys.maxunicode)\n",
    "                      if unicodedata.category(unichr(i)).startswith('P') and i != 45 and i != 46 and i!= 95)\n",
    "\n",
    "\n",
    "def vi_trans_unicode(su):\n",
    "    return su.translate(tbl)\n",
    "\n",
    "def vi_strip_text(s):\n",
    "    s = re.sub(r\"&amp;\", \"\", s)\n",
    "    s = vi_trans_unicode(s)\n",
    "    s = re.sub(r\"<([^>]+)>\", \"\", s)\n",
    "    s = re.sub(r\"__+\", \"_\", s) # collapse _\n",
    "    s = re.sub(r\"--+\", \"-\", s) # collapse -\n",
    "    s = re.sub(ur\"\\s+-\\s+\", \" \", s) # remove single -\n",
    "    s = re.sub(r\"(\\s|\\\\n|\\\\r|\\\\t)+\", \" \", s) # collapse multiple space\n",
    "    s = s.strip()\n",
    "    return s\n",
    "\n",
    "\n",
    "def vi_strip_text2(s):\n",
    "    s = re.sub(r\"&amp;\", \"\", s)\n",
    "    s = vi_trans_unicode(s)\n",
    "    s = re.sub(r\"<([^>]+)>\", \"\", s)\n",
    "    s = re.sub(r\"(\\s|\\\\n|\\\\r|\\\\t)+\", \" \", s)\n",
    "    s = re.sub(r\"__+\", \"_\", s)\n",
    "    s = re.sub(r\"--+\", \"-\", s)\n",
    "    s = ' '.join([w if not w[0].isdigit() else u\"wwNUMBERww\" for w in s.strip().split()])\n",
    "    return s\n",
    "\n",
    "\n",
    "def vi_clean3(line):\n",
    "    words = line.replace('.','').strip().split()\n",
    "    words = [w.lower() for w in words]\n",
    "    return ' '.join(words)\n",
    "\n",
    "\n",
    "def vi_remove_stop_1char(line):\n",
    "    words = line.replace('.','').strip().split()\n",
    "    words = [w for w in words if w not in STOPWORDS and len(w) > 1]\n",
    "    return ' '.join(words)\n",
    "\n",
    "\n",
    "def vi_clean4(line):\n",
    "    words = line.replace('.','').strip().split()\n",
    "    words = [w.lower() for w in words if len(w) > 1]\n",
    "    words = [w for w in words if w not in STOPWORDS]\n",
    "    return ' '.join(words)\n",
    "\n",
    "\n",
    "viaccents = u\"àảãáạăằẳẵắặâầẩẫấậèẻẽéẹêềểễếệìỉĩíịòỏõóọôồổỗốộơờởỡớợùủũúụưừửữứựỳỷỹýỵđÀẢÃÁẠĂẰẲẴẮẶÂẦẨẪẤẬÈẺẼÉẸÊỀỂỄẾỆÌỈĨÍỊÒỎÕÓỌÔỒỔỖỐỘƠỜỞỠỚỢÙỦŨÚỤƯỪỬỮỨỰỲỶỸÝỴĐ\"\n",
    "\n",
    "def convert_camel2text2(text):\n",
    "    out = []\n",
    "    for inp in text.split(\".\"):\n",
    "        inp = re.sub(ur'([A-ZÀẢÃÁẠĂẰẲẴẮẶÂẦẨẪẤẬÈẺẼÉẸÊỀỂỄẾỆÌỈĨÍỊÒỎÕÓỌÔỒỔỖỐỘƠỜỞỠỚỢÙỦŨÚỤƯỪỬỮỨỰỲỶỸÝỴĐ]+)', ur' \\1', inp, re.UNICODE)\n",
    "        inp = re.sub(ur'((?<=[a-zàảãáạăằẳẵắặâầẩẫấậèẻẽéẹêềểễếệìỉĩíịòỏõóọôồổỗốộơờởỡớợùủũúụưừửữứựỳỷỹýỵđ])[A-ZÀẢÃÁẠĂẰẲẴẮẶÂẦẨẪẤẬÈẺẼÉẸÊỀỂỄẾỆÌỈĨÍỊÒỎÕÓỌÔỒỔỖỐỘƠỜỞỠỚỢÙỦŨÚỤƯỪỬỮỨỰỲỶỸÝỴĐ]|(?<!\\A)[A-ZÀẢÃÁẠĂẰẲẴẮẶÂẦẨẪẤẬÈẺẼÉẸÊỀỂỄẾỆÌỈĨÍỊÒỎÕÓỌÔỒỔỖỐỘƠỜỞỠỚỢÙỦŨÚỤƯỪỬỮỨỰỲỶỸÝỴĐ](?=[a-zàảãáạăằẳẵắặâầẩẫấậèẻẽéẹêềểễếệìỉĩíịòỏõóọôồổỗốộơờởỡớợùủũúụưừửữứựỳỷỹýỵđ]))', ur' \\1', inp, re.UNICODE)\n",
    "        out += [inp]\n",
    "    return '.'.join(out)\n",
    "\n",
    "\n",
    "def vi_normalized(inp):\n",
    "    \"\"\"\n",
    "    Input: string to normalized in vietnamese.\n",
    "    Output: best vi string\n",
    "    \"\"\"\n",
    "    s = convert_camel2text2(inp)\n",
    "    s = vi_strip_text(s)\n",
    "    return s"
   ]
  },
  {
   "cell_type": "code",
   "execution_count": 2,
   "metadata": {
    "collapsed": false
   },
   "outputs": [
    {
     "name": "stdout",
     "output_type": "stream",
     "text": [
      "Ngày mai em đi. Biển nhớ tên em gọi về. Gọi hồn liễu rũ lê thê. Gọi bờ cát trắng đê mê.\n",
      "\n",
      "Ngày mai em đi. Biển nhớ tên em gọi về. Gọi hồn liễu rũ lê thê. Gọi bờ cát trắng đê mê.\n"
     ]
    }
   ],
   "source": [
    "song = u\"\"\"Ngày mai em đi. Biển nhớ tên em gọi về. Gọi hồn liễu rũ lê thê. Gọi bờ cát trắng đê mê.\"\"\"\n",
    "\n",
    "print song\n",
    "print\n",
    "print vi_normalized(song)"
   ]
  },
  {
   "cell_type": "code",
   "execution_count": 3,
   "metadata": {
    "collapsed": false
   },
   "outputs": [
    {
     "name": "stdout",
     "output_type": "stream",
     "text": [
      "'Em hỏi anh đêm qua đi đâu?' Anh nói rằng anh đi giăng câu. Anh đi giăng câu trên chiếc thuyền câu.\n",
      "\n",
      "Em hỏi anh đêm qua đi đâu Anh nói rằng anh đi giăng câu. Anh đi giăng câu trên chiếc thuyền câu.\n"
     ]
    }
   ],
   "source": [
    "song = u\"\"\"'Em hỏi anh đêm qua đi đâu?' Anh nói rằng anh đi giăng câu. Anh đi giăng câu trên chiếc thuyền câu.\"\"\"\n",
    "\n",
    "print song\n",
    "print\n",
    "print vi_normalized(song)"
   ]
  },
  {
   "cell_type": "code",
   "execution_count": 21,
   "metadata": {
    "collapsed": false
   },
   "outputs": [
    {
     "name": "stdout",
     "output_type": "stream",
     "text": [
      "Máy bay an toàn đến mức nào ?Cục Hàng không ra chỉ thị đảm bảo an toàn bayMáy bay Malaysia mất tích: “Có điều gì đó rất đột ngột” Phóng to Sau khi liên tiếp xảy ra các vụ tai nạn hàng không trên thế giới, Cục Hàng không Việt Nam đã tăng cường kiểm soát an ninh. Trong ảnh: kiểm tra an ninh trước khi lên máy bay tại sân bay quốc tế Nội Bài - Ảnh: Tuấn Phùng Đối với ngành hàng không, bất kỳ tai nạn nào, xảy ra ở đâu cũng đều phải coi như tai nạn của chính mình. Ông Thanh nói: Ông Lại Xuân Thanh - Ảnh: T.Phùng- Ngoài chuyến bay MH370 mất tích bí ẩn chưa rõ nguyên nhân, chuyến bay MH17 có khả năng bị bắn khi bay qua vùng chiến sự là việc hiếm trong mấy chục năm qua. Còn hai vụ tai nạn máy bay của Đài Loan và Algeria, thông tin ban đầu có liên quan đến yếu tố thời tiết. Có điều các vụ này đều do tác động bên ngoài chứ không phải do lỗi nội tại yếu kém, không phải do sai sót của hàng không về kỹ thuật, điều hành bay, hạn chế của sân bay. Tổng thư ký Tổ chức Hàng không dân dụng quốc tế (ICAO) từng nói là đối với hàng không thì một vụ tai nạn cũng là quá nhiều. Nhưng theo thống kê, đánh giá chung thì vận tải hàng không vẫn an toàn nhất trong các loại hình vận tải. ICAO thống kê từ năm 2006 đến nay tỉ lệ tai nạn các chuyến bay dân dụng trên thế giới trung bình 3-4,2 vụ/1 triệu chuyến bay. * Hàng không Việt Nam làm gì sau những vụ tai nạn nói trên? - Ngay khi xảy ra vụ MH17, Vietnam Airlines đã điều chỉnh đường bay tránh vùng kiểm soát không lưu của Ukraine. Cục Hàng không cũng khuyến cáo các hãng khác bay tránh. Với hai vụ tai nạn hàng không của Đài Loan và Algeria, theo thông tin nước ngoài thì có thể liên quan đến thời tiết. Ngay lập tức Cục Hàng không cùng Tổng công ty Cảng hàng không phải họp lại để đưa ra những giả thiết và những vấn đề cần phòng tránh. Cục đã ban hành chỉ thị đưa ra nhiều vấn đề cần rà soát, khắc phục, yêu cầu các hãng và đơn vị liên quan thực hiện những nguyên tắc cần thiết khi thời tiết xấu. * Còn những giải pháp tổng thể, dài hơi thì thế nào, thưa ông? Nỗ lực để tai nạn không tái diễn Trong thư vừa gửi các nhà chức trách, hãng hàng không và truyền thông ngày 25-7, ông Tony Tyler - chủ tịch kiêm tổng giám đốc Hiệp hội Vận tải hàng không quốc tế - cho rằng với ba thảm kịch xảy ra liên tục, nhiều người chắc chắn sẽ hoài nghi về tính an toàn trong vận tải hàng không. Dù các vụ tai nạn xảy ra liên tiếp trong tuần qua nhưng đi lại bằng hàng không vẫn là phương thức an toàn. “Mỗi ngày có khoảng 100.000 chuyến bay cất cánh và hạ cánh mà không gặp sự cố nào. Năm 2013, có hơn 3 triệu người đi lại bằng máy bay, trong đó có 210 người thiệt mạng. Thật đáng tiếc, chúng ta đã vượt qua con số này trong năm nay - ông Tony Tyler nói và chia sẻ thêm - Mọi tai nạn đều để lại nhiều hậu quả. Nhưng điều mà chúng ta có thể bù đắp cho những nạn nhân không gì khác ngoài nỗ lực để việc này không tái lặp”. - Với diễn biến hết sức bi thảm của hàng không thế giới hiện nay, cục cùng với các hãng tăng cường chất lượng dịch vụ và đảm bảo tốt cho chuyến bay phải ở mức cao nhất. Cụ thể là ưu tiên đảm bảo chất lượng kỹ thuật, kiểm soát vận hành hệ thống quản lý an toàn đối với tất cả đơn vị theo đúng tiêu chuẩn ICAO. Thứ hai là rà soát hệ thống cung cấp dịch vụ tại các sân bay từ kết cấu hạ tầng cũng như hệ thống thiết bị kỹ thuật. Thứ ba là đảm bảo an toàn đường băng bằng các tổ giám sát, không có vật ngoại lai trên đường. * Để thực hiện tốt những việc trên thì Cục Hàng không cũng phải nhìn nhận, nâng cao năng lực của mình? - Đây là vấn đề mà chúng tôi luôn phải ý thức. Chúng tôi chịu sự giám sát của ICAO. Họ giám sát liên tục bằng cách báo cáo định kỳ về tình hình đảm bảo an toàn hàng không của quốc gia. Qua đó, họ có thể thanh tra đột xuất hoặc khuyến cáo cụ thể. Cục Hàng không cũng chịu sự thanh tra từ nhà chức trách hàng không các quốc gia khác mà có hãng của họ bay đến Việt Nam. Nếu họ thấy năng lực giám sát không tốt, gây ra yếu kém với các hãng, gây sự cố hoặc tai nạn thì quốc gia bị liệt vào danh sách đen. Khi đó, ngoài thiệt hại cụ thể, quốc gia cũng sẽ thiệt hại hết sức to lớn như Indonesia từng bị cấm bay vào châu Âu. Vừa qua, Cục Hàng không chưa thật sự quyết liệt đôn đốc các hãng trong thực hiện khuyến cáo và áp dụng chế tài khi phát hiện lỗi. Cái này tôi đã nhận lỗi với bộ trưởng. Cục Hàng không liên bang Mỹ khi sang đánh giá chúng tôi để chính thức cuối năm nay công nhận Việt Nam đạt được tiêu chuẩn CAT 1 của ICAO (tiêu chuẩn quan trọng để Vietnam Airlines có thể bay thẳng tới Mỹ) có khuyến cáo rằng “hệ thống tài liệu của các anh đủ nhưng thực hiện chưa được chuẩn. Các anh thực hiện được, ra yêu cầu đúng nhưng chưa áp dụng chế tài kiên quyết với các đơn vị”. Những vấn đề này cục sẽ phải quyết liệt hơn. * Hành khách bị chậm chuyến vì lý do kỹ thuật của máy bay. Ông có thể giải thích với hành khách thế nào? - Trong hàng không, kiểm tra tình trạng của máy bay được thực hiện cho đến giây cuối cùng trước khi cất cánh. Không thể nói bảo dưỡng trong xưởng rồi nên cứ kéo máy bay ra bay. Đến giây cuối cùng trước khi cất cánh, phi công vẫn phải kiểm tra toàn bộ hệ thống của máy bay. Đó là quy trình bắt buộc, không ai dám chắc 100% làm tốt rồi. Nhưng rõ ràng phải giảm việc phát hiện trục trặc trước chuyến bay để chứng minh rằng mọi quá trình làm trước đó tốt rồi. Điều này cũng là thước đo độ tin cậy kỹ thuật của một hãng hàng không. ------------------------------------ * Tin bài liên quan: Bài học nào từ thảm họa hàng không?Thanh tra để đảm bảo an toàn hàng khôngVụ máy bay đáp \"nhầm\": Phạt tiền VietJet Air và 9 người liên quanTiếp viên hàng không sau cú sốc máy bay rơi Dữ liệu hộp đen cho thấy MH17 bị tên lửa bắn\n",
      "\n",
      "Máy bay an toàn đến mức nào Cục Hàng không ra chỉ thị đảm bảo an toàn bay Máy bay Malaysia mất tích Có điều gì đó rất đột ngột Phóng to Sau khi liên tiếp xảy ra các vụ tai nạn hàng không trên thế giới Cục Hàng không Việt Nam đã tăng cường kiểm soát an ninh. Trong ảnh kiểm tra an ninh trước khi lên máy bay tại sân bay quốc tế Nội Bài Ảnh Tuấn Phùng Đối với ngành hàng không bất kỳ tai nạn nào xảy ra ở đâu cũng đều phải coi như tai nạn của chính mình. Ông Thanh nói Ông Lại Xuân Thanh Ảnh T. Phùng- Ngoài chuyến bay MH370 mất tích bí ẩn chưa rõ nguyên nhân chuyến bay MH17 có khả năng bị bắn khi bay qua vùng chiến sự là việc hiếm trong mấy chục năm qua. Còn hai vụ tai nạn máy bay của Đài Loan và Algeria thông tin ban đầu có liên quan đến yếu tố thời tiết. Có điều các vụ này đều do tác động bên ngoài chứ không phải do lỗi nội tại yếu kém không phải do sai sót của hàng không về kỹ thuật điều hành bay hạn chế của sân bay. Tổng thư ký Tổ chức Hàng không dân dụng quốc tế ICAO từng nói là đối với hàng không thì một vụ tai nạn cũng là quá nhiều. Nhưng theo thống kê đánh giá chung thì vận tải hàng không vẫn an toàn nhất trong các loại hình vận tải. ICAO thống kê từ năm 2006 đến nay tỉ lệ tai nạn các chuyến bay dân dụng trên thế giới trung bình 3-42 vụ1 triệu chuyến bay. Hàng không Việt Nam làm gì sau những vụ tai nạn nói trên Ngay khi xảy ra vụ MH17 Vietnam Airlines đã điều chỉnh đường bay tránh vùng kiểm soát không lưu của Ukraine. Cục Hàng không cũng khuyến cáo các hãng khác bay tránh. Với hai vụ tai nạn hàng không của Đài Loan và Algeria theo thông tin nước ngoài thì có thể liên quan đến thời tiết. Ngay lập tức Cục Hàng không cùng Tổng công ty Cảng hàng không phải họp lại để đưa ra những giả thiết và những vấn đề cần phòng tránh. Cục đã ban hành chỉ thị đưa ra nhiều vấn đề cần rà soát khắc phục yêu cầu các hãng và đơn vị liên quan thực hiện những nguyên tắc cần thiết khi thời tiết xấu. Còn những giải pháp tổng thể dài hơi thì thế nào thưa ông Nỗ lực để tai nạn không tái diễn Trong thư vừa gửi các nhà chức trách hãng hàng không và truyền thông ngày 25-7 ông Tony Tyler chủ tịch kiêm tổng giám đốc Hiệp hội Vận tải hàng không quốc tế cho rằng với ba thảm kịch xảy ra liên tục nhiều người chắc chắn sẽ hoài nghi về tính an toàn trong vận tải hàng không. Dù các vụ tai nạn xảy ra liên tiếp trong tuần qua nhưng đi lại bằng hàng không vẫn là phương thức an toàn. Mỗi ngày có khoảng 100.000 chuyến bay cất cánh và hạ cánh mà không gặp sự cố nào. Năm 2013 có hơn 3 triệu người đi lại bằng máy bay trong đó có 210 người thiệt mạng. Thật đáng tiếc chúng ta đã vượt qua con số này trong năm nay ông Tony Tyler nói và chia sẻ thêm Mọi tai nạn đều để lại nhiều hậu quả. Nhưng điều mà chúng ta có thể bù đắp cho những nạn nhân không gì khác ngoài nỗ lực để việc này không tái lặp. Với diễn biến hết sức bi thảm của hàng không thế giới hiện nay cục cùng với các hãng tăng cường chất lượng dịch vụ và đảm bảo tốt cho chuyến bay phải ở mức cao nhất. Cụ thể là ưu tiên đảm bảo chất lượng kỹ thuật kiểm soát vận hành hệ thống quản lý an toàn đối với tất cả đơn vị theo đúng tiêu chuẩn ICAO. Thứ hai là rà soát hệ thống cung cấp dịch vụ tại các sân bay từ kết cấu hạ tầng cũng như hệ thống thiết bị kỹ thuật. Thứ ba là đảm bảo an toàn đường băng bằng các tổ giám sát không có vật ngoại lai trên đường. Để thực hiện tốt những việc trên thì Cục Hàng không cũng phải nhìn nhận nâng cao năng lực của mình Đây là vấn đề mà chúng tôi luôn phải ý thức. Chúng tôi chịu sự giám sát của ICAO. Họ giám sát liên tục bằng cách báo cáo định kỳ về tình hình đảm bảo an toàn hàng không của quốc gia. Qua đó họ có thể thanh tra đột xuất hoặc khuyến cáo cụ thể. Cục Hàng không cũng chịu sự thanh tra từ nhà chức trách hàng không các quốc gia khác mà có hãng của họ bay đến Việt Nam. Nếu họ thấy năng lực giám sát không tốt gây ra yếu kém với các hãng gây sự cố hoặc tai nạn thì quốc gia bị liệt vào danh sách đen. Khi đó ngoài thiệt hại cụ thể quốc gia cũng sẽ thiệt hại hết sức to lớn như Indonesia từng bị cấm bay vào châu Âu. Vừa qua Cục Hàng không chưa thật sự quyết liệt đôn đốc các hãng trong thực hiện khuyến cáo và áp dụng chế tài khi phát hiện lỗi. Cái này tôi đã nhận lỗi với bộ trưởng. Cục Hàng không liên bang Mỹ khi sang đánh giá chúng tôi để chính thức cuối năm nay công nhận Việt Nam đạt được tiêu chuẩn CAT 1 của ICAO tiêu chuẩn quan trọng để Vietnam Airlines có thể bay thẳng tới Mỹ có khuyến cáo rằng hệ thống tài liệu của các anh đủ nhưng thực hiện chưa được chuẩn. Các anh thực hiện được ra yêu cầu đúng nhưng chưa áp dụng chế tài kiên quyết với các đơn vị. Những vấn đề này cục sẽ phải quyết liệt hơn. Hành khách bị chậm chuyến vì lý do kỹ thuật của máy bay. Ông có thể giải thích với hành khách thế nào Trong hàng không kiểm tra tình trạng của máy bay được thực hiện cho đến giây cuối cùng trước khi cất cánh. Không thể nói bảo dưỡng trong xưởng rồi nên cứ kéo máy bay ra bay. Đến giây cuối cùng trước khi cất cánh phi công vẫn phải kiểm tra toàn bộ hệ thống của máy bay. Đó là quy trình bắt buộc không ai dám chắc 100 làm tốt rồi. Nhưng rõ ràng phải giảm việc phát hiện trục trặc trước chuyến bay để chứng minh rằng mọi quá trình làm trước đó tốt rồi. Điều này cũng là thước đo độ tin cậy kỹ thuật của một hãng hàng không. Tin bài liên quan Bài học nào từ thảm họa hàng không Thanh tra để đảm bảo an toàn hàng không Vụ máy bay đáp nhầm Phạt tiền Viet Jet Air và 9 người liên quan Tiếp viên hàng không sau cú sốc máy bay rơi Dữ liệu hộp đen cho thấy MH17 bị tên lửa bắn\n"
     ]
    }
   ],
   "source": [
    "full_text = u\"\"\"Máy bay an toàn đến mức nào ?Cục Hàng không ra chỉ thị đảm bảo an toàn bayMáy bay Malaysia mất tích: “Có điều gì đó rất đột ngột” Phóng to Sau khi liên tiếp xảy ra các vụ tai nạn hàng không trên thế giới, Cục Hàng không Việt Nam đã tăng cường kiểm soát an ninh. Trong ảnh: kiểm tra an ninh trước khi lên máy bay tại sân bay quốc tế Nội Bài - Ảnh: Tuấn Phùng Đối với ngành hàng không, bất kỳ tai nạn nào, xảy ra ở đâu cũng đều phải coi như tai nạn của chính mình. Ông Thanh nói: Ông Lại Xuân Thanh - Ảnh: T.Phùng- Ngoài chuyến bay MH370 mất tích bí ẩn chưa rõ nguyên nhân, chuyến bay MH17 có khả năng bị bắn khi bay qua vùng chiến sự là việc hiếm trong mấy chục năm qua. Còn hai vụ tai nạn máy bay của Đài Loan và Algeria, thông tin ban đầu có liên quan đến yếu tố thời tiết. Có điều các vụ này đều do tác động bên ngoài chứ không phải do lỗi nội tại yếu kém, không phải do sai sót của hàng không về kỹ thuật, điều hành bay, hạn chế của sân bay. Tổng thư ký Tổ chức Hàng không dân dụng quốc tế (ICAO) từng nói là đối với hàng không thì một vụ tai nạn cũng là quá nhiều. Nhưng theo thống kê, đánh giá chung thì vận tải hàng không vẫn an toàn nhất trong các loại hình vận tải. ICAO thống kê từ năm 2006 đến nay tỉ lệ tai nạn các chuyến bay dân dụng trên thế giới trung bình 3-4,2 vụ/1 triệu chuyến bay. * Hàng không Việt Nam làm gì sau những vụ tai nạn nói trên? - Ngay khi xảy ra vụ MH17, Vietnam Airlines đã điều chỉnh đường bay tránh vùng kiểm soát không lưu của Ukraine. Cục Hàng không cũng khuyến cáo các hãng khác bay tránh. Với hai vụ tai nạn hàng không của Đài Loan và Algeria, theo thông tin nước ngoài thì có thể liên quan đến thời tiết. Ngay lập tức Cục Hàng không cùng Tổng công ty Cảng hàng không phải họp lại để đưa ra những giả thiết và những vấn đề cần phòng tránh. Cục đã ban hành chỉ thị đưa ra nhiều vấn đề cần rà soát, khắc phục, yêu cầu các hãng và đơn vị liên quan thực hiện những nguyên tắc cần thiết khi thời tiết xấu. * Còn những giải pháp tổng thể, dài hơi thì thế nào, thưa ông? Nỗ lực để tai nạn không tái diễn Trong thư vừa gửi các nhà chức trách, hãng hàng không và truyền thông ngày 25-7, ông Tony Tyler - chủ tịch kiêm tổng giám đốc Hiệp hội Vận tải hàng không quốc tế - cho rằng với ba thảm kịch xảy ra liên tục, nhiều người chắc chắn sẽ hoài nghi về tính an toàn trong vận tải hàng không. Dù các vụ tai nạn xảy ra liên tiếp trong tuần qua nhưng đi lại bằng hàng không vẫn là phương thức an toàn. “Mỗi ngày có khoảng 100.000 chuyến bay cất cánh và hạ cánh mà không gặp sự cố nào. Năm 2013, có hơn 3 triệu người đi lại bằng máy bay, trong đó có 210 người thiệt mạng. Thật đáng tiếc, chúng ta đã vượt qua con số này trong năm nay - ông Tony Tyler nói và chia sẻ thêm - Mọi tai nạn đều để lại nhiều hậu quả. Nhưng điều mà chúng ta có thể bù đắp cho những nạn nhân không gì khác ngoài nỗ lực để việc này không tái lặp”. - Với diễn biến hết sức bi thảm của hàng không thế giới hiện nay, cục cùng với các hãng tăng cường chất lượng dịch vụ và đảm bảo tốt cho chuyến bay phải ở mức cao nhất. Cụ thể là ưu tiên đảm bảo chất lượng kỹ thuật, kiểm soát vận hành hệ thống quản lý an toàn đối với tất cả đơn vị theo đúng tiêu chuẩn ICAO. Thứ hai là rà soát hệ thống cung cấp dịch vụ tại các sân bay từ kết cấu hạ tầng cũng như hệ thống thiết bị kỹ thuật. Thứ ba là đảm bảo an toàn đường băng bằng các tổ giám sát, không có vật ngoại lai trên đường. * Để thực hiện tốt những việc trên thì Cục Hàng không cũng phải nhìn nhận, nâng cao năng lực của mình? - Đây là vấn đề mà chúng tôi luôn phải ý thức. Chúng tôi chịu sự giám sát của ICAO. Họ giám sát liên tục bằng cách báo cáo định kỳ về tình hình đảm bảo an toàn hàng không của quốc gia. Qua đó, họ có thể thanh tra đột xuất hoặc khuyến cáo cụ thể. Cục Hàng không cũng chịu sự thanh tra từ nhà chức trách hàng không các quốc gia khác mà có hãng của họ bay đến Việt Nam. Nếu họ thấy năng lực giám sát không tốt, gây ra yếu kém với các hãng, gây sự cố hoặc tai nạn thì quốc gia bị liệt vào danh sách đen. Khi đó, ngoài thiệt hại cụ thể, quốc gia cũng sẽ thiệt hại hết sức to lớn như Indonesia từng bị cấm bay vào châu Âu. Vừa qua, Cục Hàng không chưa thật sự quyết liệt đôn đốc các hãng trong thực hiện khuyến cáo và áp dụng chế tài khi phát hiện lỗi. Cái này tôi đã nhận lỗi với bộ trưởng. Cục Hàng không liên bang Mỹ khi sang đánh giá chúng tôi để chính thức cuối năm nay công nhận Việt Nam đạt được tiêu chuẩn CAT 1 của ICAO (tiêu chuẩn quan trọng để Vietnam Airlines có thể bay thẳng tới Mỹ) có khuyến cáo rằng “hệ thống tài liệu của các anh đủ nhưng thực hiện chưa được chuẩn. Các anh thực hiện được, ra yêu cầu đúng nhưng chưa áp dụng chế tài kiên quyết với các đơn vị”. Những vấn đề này cục sẽ phải quyết liệt hơn. * Hành khách bị chậm chuyến vì lý do kỹ thuật của máy bay. Ông có thể giải thích với hành khách thế nào? - Trong hàng không, kiểm tra tình trạng của máy bay được thực hiện cho đến giây cuối cùng trước khi cất cánh. Không thể nói bảo dưỡng trong xưởng rồi nên cứ kéo máy bay ra bay. Đến giây cuối cùng trước khi cất cánh, phi công vẫn phải kiểm tra toàn bộ hệ thống của máy bay. Đó là quy trình bắt buộc, không ai dám chắc 100% làm tốt rồi. Nhưng rõ ràng phải giảm việc phát hiện trục trặc trước chuyến bay để chứng minh rằng mọi quá trình làm trước đó tốt rồi. Điều này cũng là thước đo độ tin cậy kỹ thuật của một hãng hàng không. ------------------------------------ * Tin bài liên quan: Bài học nào từ thảm họa hàng không?Thanh tra để đảm bảo an toàn hàng khôngVụ máy bay đáp \"nhầm\": Phạt tiền VietJet Air và 9 người liên quanTiếp viên hàng không sau cú sốc máy bay rơi Dữ liệu hộp đen cho thấy MH17 bị tên lửa bắn\"\"\"\n",
    "print full_text\n",
    "print\n",
    "full_text2 = vi_normalized(full_text)\n",
    "print full_text2"
   ]
  },
  {
   "cell_type": "markdown",
   "metadata": {},
   "source": [
    "## Token"
   ]
  },
  {
   "cell_type": "code",
   "execution_count": null,
   "metadata": {
    "collapsed": true
   },
   "outputs": [],
   "source": [
    "import requests\n",
    "import codecs\n",
    "import json\n",
    "\n",
    "tok_url = \"http://localhost:8081/api/v1.0/document/filter\"\n",
    "\n",
    "def get_tokens2(tok_url, data):\n",
    "    try:\n",
    "        rq = requests.post(tok_url, data=data.encode('utf-8'))\n",
    "        if rq.content:\n",
    "            tok_doc = json.loads(rq.content)['document']\n",
    "        else:\n",
    "            tok_doc = None\n",
    "        return tok_doc\n",
    "    except Exception, e:\n",
    "        print e\n",
    "        \n",
    "\n",
    "from bs4 import BeautifulSoup\n",
    "\n",
    "proxies = {\n",
    "  \"http\": \"192.168.0.1:8080\",\n",
    "  \"https\": \"192.168.0.1:8080\"\n",
    "}\n",
    "\n",
    "url_post = \"http://vlsp.vietlp.org:8080/demo/?page=seg_pos_chunk\"\n",
    "header_post = {\n",
    "    \"User-Agent\": \"Mozilla/5.0 (X11; Linux x86_64) AppleWebKit/537.36 (KHTML, like Gecko) Chrome/4\",\n",
    "    \"Content-Type\": \"application/x-www-form-urlencoded; charset=UTF-8\"\n",
    "}\n",
    "\n",
    "def tokenize_soup(soup):\n",
    "    try:\n",
    "        sentences = soup.findAll('div', {'class': \"sentence\"})\n",
    "        toks = [ s.find('tr').findAll('td')[1:] for s in sentences]\n",
    "        toks = [t.contents[0] for tok in toks for t in tok]\n",
    "        return ' '.join(toks)\n",
    "    except Exception, e:\n",
    "        print e\n",
    "        \n",
    "def get_tokens(INPUT):\n",
    "    try:\n",
    "        payload = {r\"input\":INPUT}\n",
    "        rsp = requests.post(url_post, data=payload, headers=header_post, proxies=proxies)\n",
    "        soup = BeautifulSoup(rsp.content)\n",
    "        return tokenize_soup(soup)\n",
    "    except Exception, e:\n",
    "        print e"
   ]
  },
  {
   "cell_type": "code",
   "execution_count": null,
   "metadata": {
    "collapsed": false
   },
   "outputs": [],
   "source": [
    "print \"\\nORIGIN\\n\"\n",
    "print song\n",
    "print \"\\nVLSP\\n\"\n",
    "print get_tokens(vi_normalized(song))\n",
    "\n",
    "print \"\\nVTC\\n\"\n",
    "print get_tokens2(tok_url, vi_normalized(song))"
   ]
  },
  {
   "cell_type": "code",
   "execution_count": null,
   "metadata": {
    "collapsed": false
   },
   "outputs": [],
   "source": [
    "text = u\"\"\"\"cầu chuyện Ở tận sông Hồng có ả Hằng ế chồng không ý tứ lại còn mập ú năm nay đã 35 tuổi giá có 300. 000 đồng\"\"\"\n",
    "print get_tokens2(tok_url, vi_normalized(text))"
   ]
  },
  {
   "cell_type": "code",
   "execution_count": null,
   "metadata": {
    "collapsed": true
   },
   "outputs": [],
   "source": []
  }
 ],
 "metadata": {
  "kernelspec": {
   "display_name": "Python 2",
   "language": "python",
   "name": "python2"
  },
  "language_info": {
   "codemirror_mode": {
    "name": "ipython",
    "version": 2
   },
   "file_extension": ".py",
   "mimetype": "text/x-python",
   "name": "python",
   "nbconvert_exporter": "python",
   "pygments_lexer": "ipython2",
   "version": "2.7.9"
  }
 },
 "nbformat": 4,
 "nbformat_minor": 0
}
